{
 "cells": [
  {
   "cell_type": "code",
   "execution_count": 1,
   "id": "e2a66d9c",
   "metadata": {},
   "outputs": [],
   "source": [
    "import pandas as pd\n",
    "import numpy as np\n",
    "import matplotlib.pyplot as plt"
   ]
  },
  {
   "cell_type": "code",
   "execution_count": 2,
   "id": "d0bfb15b",
   "metadata": {},
   "outputs": [
    {
     "data": {
      "text/html": [
       "<div>\n",
       "<style scoped>\n",
       "    .dataframe tbody tr th:only-of-type {\n",
       "        vertical-align: middle;\n",
       "    }\n",
       "\n",
       "    .dataframe tbody tr th {\n",
       "        vertical-align: top;\n",
       "    }\n",
       "\n",
       "    .dataframe thead th {\n",
       "        text-align: right;\n",
       "    }\n",
       "</style>\n",
       "<table border=\"1\" class=\"dataframe\">\n",
       "  <thead>\n",
       "    <tr style=\"text-align: right;\">\n",
       "      <th></th>\n",
       "      <th>work_year</th>\n",
       "      <th>experience_level</th>\n",
       "      <th>employment_type</th>\n",
       "      <th>job_title</th>\n",
       "      <th>salary</th>\n",
       "      <th>salary_currency</th>\n",
       "      <th>salary_in_usd</th>\n",
       "      <th>employee_residence</th>\n",
       "      <th>remote_ratio</th>\n",
       "      <th>company_location</th>\n",
       "      <th>company_size</th>\n",
       "    </tr>\n",
       "  </thead>\n",
       "  <tbody>\n",
       "    <tr>\n",
       "      <th>0</th>\n",
       "      <td>2023</td>\n",
       "      <td>SE</td>\n",
       "      <td>FT</td>\n",
       "      <td>Principal Data Scientist</td>\n",
       "      <td>80000</td>\n",
       "      <td>EUR</td>\n",
       "      <td>85847</td>\n",
       "      <td>ES</td>\n",
       "      <td>100</td>\n",
       "      <td>ES</td>\n",
       "      <td>L</td>\n",
       "    </tr>\n",
       "    <tr>\n",
       "      <th>1</th>\n",
       "      <td>2023</td>\n",
       "      <td>MI</td>\n",
       "      <td>CT</td>\n",
       "      <td>ML Engineer</td>\n",
       "      <td>30000</td>\n",
       "      <td>USD</td>\n",
       "      <td>30000</td>\n",
       "      <td>US</td>\n",
       "      <td>100</td>\n",
       "      <td>US</td>\n",
       "      <td>S</td>\n",
       "    </tr>\n",
       "    <tr>\n",
       "      <th>2</th>\n",
       "      <td>2023</td>\n",
       "      <td>MI</td>\n",
       "      <td>CT</td>\n",
       "      <td>ML Engineer</td>\n",
       "      <td>25500</td>\n",
       "      <td>USD</td>\n",
       "      <td>25500</td>\n",
       "      <td>US</td>\n",
       "      <td>100</td>\n",
       "      <td>US</td>\n",
       "      <td>S</td>\n",
       "    </tr>\n",
       "    <tr>\n",
       "      <th>3</th>\n",
       "      <td>2023</td>\n",
       "      <td>SE</td>\n",
       "      <td>FT</td>\n",
       "      <td>Data Scientist</td>\n",
       "      <td>175000</td>\n",
       "      <td>USD</td>\n",
       "      <td>175000</td>\n",
       "      <td>CA</td>\n",
       "      <td>100</td>\n",
       "      <td>CA</td>\n",
       "      <td>M</td>\n",
       "    </tr>\n",
       "    <tr>\n",
       "      <th>4</th>\n",
       "      <td>2023</td>\n",
       "      <td>SE</td>\n",
       "      <td>FT</td>\n",
       "      <td>Data Scientist</td>\n",
       "      <td>120000</td>\n",
       "      <td>USD</td>\n",
       "      <td>120000</td>\n",
       "      <td>CA</td>\n",
       "      <td>100</td>\n",
       "      <td>CA</td>\n",
       "      <td>M</td>\n",
       "    </tr>\n",
       "    <tr>\n",
       "      <th>...</th>\n",
       "      <td>...</td>\n",
       "      <td>...</td>\n",
       "      <td>...</td>\n",
       "      <td>...</td>\n",
       "      <td>...</td>\n",
       "      <td>...</td>\n",
       "      <td>...</td>\n",
       "      <td>...</td>\n",
       "      <td>...</td>\n",
       "      <td>...</td>\n",
       "      <td>...</td>\n",
       "    </tr>\n",
       "    <tr>\n",
       "      <th>3750</th>\n",
       "      <td>2020</td>\n",
       "      <td>SE</td>\n",
       "      <td>FT</td>\n",
       "      <td>Data Scientist</td>\n",
       "      <td>412000</td>\n",
       "      <td>USD</td>\n",
       "      <td>412000</td>\n",
       "      <td>US</td>\n",
       "      <td>100</td>\n",
       "      <td>US</td>\n",
       "      <td>L</td>\n",
       "    </tr>\n",
       "    <tr>\n",
       "      <th>3751</th>\n",
       "      <td>2021</td>\n",
       "      <td>MI</td>\n",
       "      <td>FT</td>\n",
       "      <td>Principal Data Scientist</td>\n",
       "      <td>151000</td>\n",
       "      <td>USD</td>\n",
       "      <td>151000</td>\n",
       "      <td>US</td>\n",
       "      <td>100</td>\n",
       "      <td>US</td>\n",
       "      <td>L</td>\n",
       "    </tr>\n",
       "    <tr>\n",
       "      <th>3752</th>\n",
       "      <td>2020</td>\n",
       "      <td>EN</td>\n",
       "      <td>FT</td>\n",
       "      <td>Data Scientist</td>\n",
       "      <td>105000</td>\n",
       "      <td>USD</td>\n",
       "      <td>105000</td>\n",
       "      <td>US</td>\n",
       "      <td>100</td>\n",
       "      <td>US</td>\n",
       "      <td>S</td>\n",
       "    </tr>\n",
       "    <tr>\n",
       "      <th>3753</th>\n",
       "      <td>2020</td>\n",
       "      <td>EN</td>\n",
       "      <td>CT</td>\n",
       "      <td>Business Data Analyst</td>\n",
       "      <td>100000</td>\n",
       "      <td>USD</td>\n",
       "      <td>100000</td>\n",
       "      <td>US</td>\n",
       "      <td>100</td>\n",
       "      <td>US</td>\n",
       "      <td>L</td>\n",
       "    </tr>\n",
       "    <tr>\n",
       "      <th>3754</th>\n",
       "      <td>2021</td>\n",
       "      <td>SE</td>\n",
       "      <td>FT</td>\n",
       "      <td>Data Science Manager</td>\n",
       "      <td>7000000</td>\n",
       "      <td>INR</td>\n",
       "      <td>94665</td>\n",
       "      <td>IN</td>\n",
       "      <td>50</td>\n",
       "      <td>IN</td>\n",
       "      <td>L</td>\n",
       "    </tr>\n",
       "  </tbody>\n",
       "</table>\n",
       "<p>3755 rows × 11 columns</p>\n",
       "</div>"
      ],
      "text/plain": [
       "      work_year experience_level employment_type                 job_title  \\\n",
       "0          2023               SE              FT  Principal Data Scientist   \n",
       "1          2023               MI              CT               ML Engineer   \n",
       "2          2023               MI              CT               ML Engineer   \n",
       "3          2023               SE              FT            Data Scientist   \n",
       "4          2023               SE              FT            Data Scientist   \n",
       "...         ...              ...             ...                       ...   \n",
       "3750       2020               SE              FT            Data Scientist   \n",
       "3751       2021               MI              FT  Principal Data Scientist   \n",
       "3752       2020               EN              FT            Data Scientist   \n",
       "3753       2020               EN              CT     Business Data Analyst   \n",
       "3754       2021               SE              FT      Data Science Manager   \n",
       "\n",
       "       salary salary_currency  salary_in_usd employee_residence  remote_ratio  \\\n",
       "0       80000             EUR          85847                 ES           100   \n",
       "1       30000             USD          30000                 US           100   \n",
       "2       25500             USD          25500                 US           100   \n",
       "3      175000             USD         175000                 CA           100   \n",
       "4      120000             USD         120000                 CA           100   \n",
       "...       ...             ...            ...                ...           ...   \n",
       "3750   412000             USD         412000                 US           100   \n",
       "3751   151000             USD         151000                 US           100   \n",
       "3752   105000             USD         105000                 US           100   \n",
       "3753   100000             USD         100000                 US           100   \n",
       "3754  7000000             INR          94665                 IN            50   \n",
       "\n",
       "     company_location company_size  \n",
       "0                  ES            L  \n",
       "1                  US            S  \n",
       "2                  US            S  \n",
       "3                  CA            M  \n",
       "4                  CA            M  \n",
       "...               ...          ...  \n",
       "3750               US            L  \n",
       "3751               US            L  \n",
       "3752               US            S  \n",
       "3753               US            L  \n",
       "3754               IN            L  \n",
       "\n",
       "[3755 rows x 11 columns]"
      ]
     },
     "execution_count": 2,
     "metadata": {},
     "output_type": "execute_result"
    }
   ],
   "source": [
    "data = pd.read_csv('./ds_salaries.csv')\n",
    "data"
   ]
  },
  {
   "cell_type": "code",
   "execution_count": 3,
   "id": "2e1d4496",
   "metadata": {},
   "outputs": [],
   "source": [
    "data['experience_level'] = data['experience_level'] \\\n",
    "    .astype('category') \\\n",
    "    .cat \\\n",
    "    .set_categories(['EN', 'MI', 'SE', 'EX'], ordered=True)"
   ]
  },
  {
   "cell_type": "code",
   "execution_count": 4,
   "id": "97412425",
   "metadata": {},
   "outputs": [
    {
     "data": {
      "text/plain": [
       "0        85847\n",
       "1        30000\n",
       "2        25500\n",
       "3       175000\n",
       "4       120000\n",
       "         ...  \n",
       "3750    412000\n",
       "3751    151000\n",
       "3752    105000\n",
       "3753    100000\n",
       "3754     94665\n",
       "Name: salary_in_usd, Length: 3755, dtype: int64"
      ]
     },
     "execution_count": 4,
     "metadata": {},
     "output_type": "execute_result"
    }
   ],
   "source": [
    "salaries_usd=data['salary_in_usd'].copy()\n",
    "salaries_usd"
   ]
  },
  {
   "cell_type": "code",
   "execution_count": 5,
   "id": "35953aae",
   "metadata": {},
   "outputs": [
    {
     "data": {
      "text/html": [
       "<div>\n",
       "<style scoped>\n",
       "    .dataframe tbody tr th:only-of-type {\n",
       "        vertical-align: middle;\n",
       "    }\n",
       "\n",
       "    .dataframe tbody tr th {\n",
       "        vertical-align: top;\n",
       "    }\n",
       "\n",
       "    .dataframe thead th {\n",
       "        text-align: right;\n",
       "    }\n",
       "</style>\n",
       "<table border=\"1\" class=\"dataframe\">\n",
       "  <thead>\n",
       "    <tr style=\"text-align: right;\">\n",
       "      <th></th>\n",
       "      <th>work_year</th>\n",
       "      <th>experience_level</th>\n",
       "      <th>employment_type</th>\n",
       "      <th>job_title</th>\n",
       "      <th>salary</th>\n",
       "      <th>salary_currency</th>\n",
       "      <th>salary_in_usd</th>\n",
       "      <th>employee_residence</th>\n",
       "      <th>remote_ratio</th>\n",
       "      <th>company_location</th>\n",
       "      <th>company_size</th>\n",
       "    </tr>\n",
       "  </thead>\n",
       "  <tbody>\n",
       "    <tr>\n",
       "      <th>0</th>\n",
       "      <td>2023</td>\n",
       "      <td>SE</td>\n",
       "      <td>FT</td>\n",
       "      <td>Principal Data Scientist</td>\n",
       "      <td>80000</td>\n",
       "      <td>EUR</td>\n",
       "      <td>85847</td>\n",
       "      <td>ES</td>\n",
       "      <td>100</td>\n",
       "      <td>ES</td>\n",
       "      <td>L</td>\n",
       "    </tr>\n",
       "    <tr>\n",
       "      <th>1</th>\n",
       "      <td>2023</td>\n",
       "      <td>MI</td>\n",
       "      <td>CT</td>\n",
       "      <td>ML Engineer</td>\n",
       "      <td>30000</td>\n",
       "      <td>USD</td>\n",
       "      <td>30000</td>\n",
       "      <td>US</td>\n",
       "      <td>100</td>\n",
       "      <td>US</td>\n",
       "      <td>S</td>\n",
       "    </tr>\n",
       "    <tr>\n",
       "      <th>2</th>\n",
       "      <td>2023</td>\n",
       "      <td>MI</td>\n",
       "      <td>CT</td>\n",
       "      <td>ML Engineer</td>\n",
       "      <td>25500</td>\n",
       "      <td>USD</td>\n",
       "      <td>25500</td>\n",
       "      <td>US</td>\n",
       "      <td>100</td>\n",
       "      <td>US</td>\n",
       "      <td>S</td>\n",
       "    </tr>\n",
       "    <tr>\n",
       "      <th>3</th>\n",
       "      <td>2023</td>\n",
       "      <td>SE</td>\n",
       "      <td>FT</td>\n",
       "      <td>Data Scientist</td>\n",
       "      <td>175000</td>\n",
       "      <td>USD</td>\n",
       "      <td>175000</td>\n",
       "      <td>CA</td>\n",
       "      <td>100</td>\n",
       "      <td>CA</td>\n",
       "      <td>M</td>\n",
       "    </tr>\n",
       "    <tr>\n",
       "      <th>4</th>\n",
       "      <td>2023</td>\n",
       "      <td>SE</td>\n",
       "      <td>FT</td>\n",
       "      <td>Data Scientist</td>\n",
       "      <td>120000</td>\n",
       "      <td>USD</td>\n",
       "      <td>120000</td>\n",
       "      <td>CA</td>\n",
       "      <td>100</td>\n",
       "      <td>CA</td>\n",
       "      <td>M</td>\n",
       "    </tr>\n",
       "    <tr>\n",
       "      <th>...</th>\n",
       "      <td>...</td>\n",
       "      <td>...</td>\n",
       "      <td>...</td>\n",
       "      <td>...</td>\n",
       "      <td>...</td>\n",
       "      <td>...</td>\n",
       "      <td>...</td>\n",
       "      <td>...</td>\n",
       "      <td>...</td>\n",
       "      <td>...</td>\n",
       "      <td>...</td>\n",
       "    </tr>\n",
       "    <tr>\n",
       "      <th>3750</th>\n",
       "      <td>2020</td>\n",
       "      <td>SE</td>\n",
       "      <td>FT</td>\n",
       "      <td>Data Scientist</td>\n",
       "      <td>412000</td>\n",
       "      <td>USD</td>\n",
       "      <td>412000</td>\n",
       "      <td>US</td>\n",
       "      <td>100</td>\n",
       "      <td>US</td>\n",
       "      <td>L</td>\n",
       "    </tr>\n",
       "    <tr>\n",
       "      <th>3751</th>\n",
       "      <td>2021</td>\n",
       "      <td>MI</td>\n",
       "      <td>FT</td>\n",
       "      <td>Principal Data Scientist</td>\n",
       "      <td>151000</td>\n",
       "      <td>USD</td>\n",
       "      <td>151000</td>\n",
       "      <td>US</td>\n",
       "      <td>100</td>\n",
       "      <td>US</td>\n",
       "      <td>L</td>\n",
       "    </tr>\n",
       "    <tr>\n",
       "      <th>3752</th>\n",
       "      <td>2020</td>\n",
       "      <td>EN</td>\n",
       "      <td>FT</td>\n",
       "      <td>Data Scientist</td>\n",
       "      <td>105000</td>\n",
       "      <td>USD</td>\n",
       "      <td>105000</td>\n",
       "      <td>US</td>\n",
       "      <td>100</td>\n",
       "      <td>US</td>\n",
       "      <td>S</td>\n",
       "    </tr>\n",
       "    <tr>\n",
       "      <th>3753</th>\n",
       "      <td>2020</td>\n",
       "      <td>EN</td>\n",
       "      <td>CT</td>\n",
       "      <td>Business Data Analyst</td>\n",
       "      <td>100000</td>\n",
       "      <td>USD</td>\n",
       "      <td>100000</td>\n",
       "      <td>US</td>\n",
       "      <td>100</td>\n",
       "      <td>US</td>\n",
       "      <td>L</td>\n",
       "    </tr>\n",
       "    <tr>\n",
       "      <th>3754</th>\n",
       "      <td>2021</td>\n",
       "      <td>SE</td>\n",
       "      <td>FT</td>\n",
       "      <td>Data Science Manager</td>\n",
       "      <td>7000000</td>\n",
       "      <td>INR</td>\n",
       "      <td>94665</td>\n",
       "      <td>IN</td>\n",
       "      <td>50</td>\n",
       "      <td>IN</td>\n",
       "      <td>L</td>\n",
       "    </tr>\n",
       "  </tbody>\n",
       "</table>\n",
       "<p>3755 rows × 11 columns</p>\n",
       "</div>"
      ],
      "text/plain": [
       "      work_year experience_level employment_type                 job_title  \\\n",
       "0          2023               SE              FT  Principal Data Scientist   \n",
       "1          2023               MI              CT               ML Engineer   \n",
       "2          2023               MI              CT               ML Engineer   \n",
       "3          2023               SE              FT            Data Scientist   \n",
       "4          2023               SE              FT            Data Scientist   \n",
       "...         ...              ...             ...                       ...   \n",
       "3750       2020               SE              FT            Data Scientist   \n",
       "3751       2021               MI              FT  Principal Data Scientist   \n",
       "3752       2020               EN              FT            Data Scientist   \n",
       "3753       2020               EN              CT     Business Data Analyst   \n",
       "3754       2021               SE              FT      Data Science Manager   \n",
       "\n",
       "       salary salary_currency  salary_in_usd employee_residence  remote_ratio  \\\n",
       "0       80000             EUR          85847                 ES           100   \n",
       "1       30000             USD          30000                 US           100   \n",
       "2       25500             USD          25500                 US           100   \n",
       "3      175000             USD         175000                 CA           100   \n",
       "4      120000             USD         120000                 CA           100   \n",
       "...       ...             ...            ...                ...           ...   \n",
       "3750   412000             USD         412000                 US           100   \n",
       "3751   151000             USD         151000                 US           100   \n",
       "3752   105000             USD         105000                 US           100   \n",
       "3753   100000             USD         100000                 US           100   \n",
       "3754  7000000             INR          94665                 IN            50   \n",
       "\n",
       "     company_location company_size  \n",
       "0                  ES            L  \n",
       "1                  US            S  \n",
       "2                  US            S  \n",
       "3                  CA            M  \n",
       "4                  CA            M  \n",
       "...               ...          ...  \n",
       "3750               US            L  \n",
       "3751               US            L  \n",
       "3752               US            S  \n",
       "3753               US            L  \n",
       "3754               IN            L  \n",
       "\n",
       "[3755 rows x 11 columns]"
      ]
     },
     "execution_count": 5,
     "metadata": {},
     "output_type": "execute_result"
    }
   ],
   "source": [
    "data_to_process=data\n",
    "data_to_process"
   ]
  },
  {
   "cell_type": "code",
   "execution_count": null,
   "id": "326f137b",
   "metadata": {},
   "outputs": [],
   "source": []
  },
  {
   "cell_type": "code",
   "execution_count": 6,
   "id": "856a082c",
   "metadata": {},
   "outputs": [
    {
     "data": {
      "text/html": [
       "<div>\n",
       "<style scoped>\n",
       "    .dataframe tbody tr th:only-of-type {\n",
       "        vertical-align: middle;\n",
       "    }\n",
       "\n",
       "    .dataframe tbody tr th {\n",
       "        vertical-align: top;\n",
       "    }\n",
       "\n",
       "    .dataframe thead th {\n",
       "        text-align: right;\n",
       "    }\n",
       "</style>\n",
       "<table border=\"1\" class=\"dataframe\">\n",
       "  <thead>\n",
       "    <tr style=\"text-align: right;\">\n",
       "      <th></th>\n",
       "      <th>work_year</th>\n",
       "      <th>experience_level</th>\n",
       "      <th>employment_type</th>\n",
       "      <th>job_title</th>\n",
       "      <th>salary_in_usd</th>\n",
       "      <th>employee_residence</th>\n",
       "      <th>remote_ratio</th>\n",
       "      <th>company_location</th>\n",
       "      <th>company_size</th>\n",
       "    </tr>\n",
       "  </thead>\n",
       "  <tbody>\n",
       "    <tr>\n",
       "      <th>0</th>\n",
       "      <td>2023</td>\n",
       "      <td>SE</td>\n",
       "      <td>FT</td>\n",
       "      <td>Principal Data Scientist</td>\n",
       "      <td>85847</td>\n",
       "      <td>ES</td>\n",
       "      <td>100</td>\n",
       "      <td>ES</td>\n",
       "      <td>L</td>\n",
       "    </tr>\n",
       "    <tr>\n",
       "      <th>1</th>\n",
       "      <td>2023</td>\n",
       "      <td>MI</td>\n",
       "      <td>CT</td>\n",
       "      <td>ML Engineer</td>\n",
       "      <td>30000</td>\n",
       "      <td>US</td>\n",
       "      <td>100</td>\n",
       "      <td>US</td>\n",
       "      <td>S</td>\n",
       "    </tr>\n",
       "    <tr>\n",
       "      <th>2</th>\n",
       "      <td>2023</td>\n",
       "      <td>MI</td>\n",
       "      <td>CT</td>\n",
       "      <td>ML Engineer</td>\n",
       "      <td>25500</td>\n",
       "      <td>US</td>\n",
       "      <td>100</td>\n",
       "      <td>US</td>\n",
       "      <td>S</td>\n",
       "    </tr>\n",
       "    <tr>\n",
       "      <th>3</th>\n",
       "      <td>2023</td>\n",
       "      <td>SE</td>\n",
       "      <td>FT</td>\n",
       "      <td>Data Scientist</td>\n",
       "      <td>175000</td>\n",
       "      <td>CA</td>\n",
       "      <td>100</td>\n",
       "      <td>CA</td>\n",
       "      <td>M</td>\n",
       "    </tr>\n",
       "    <tr>\n",
       "      <th>4</th>\n",
       "      <td>2023</td>\n",
       "      <td>SE</td>\n",
       "      <td>FT</td>\n",
       "      <td>Data Scientist</td>\n",
       "      <td>120000</td>\n",
       "      <td>CA</td>\n",
       "      <td>100</td>\n",
       "      <td>CA</td>\n",
       "      <td>M</td>\n",
       "    </tr>\n",
       "    <tr>\n",
       "      <th>...</th>\n",
       "      <td>...</td>\n",
       "      <td>...</td>\n",
       "      <td>...</td>\n",
       "      <td>...</td>\n",
       "      <td>...</td>\n",
       "      <td>...</td>\n",
       "      <td>...</td>\n",
       "      <td>...</td>\n",
       "      <td>...</td>\n",
       "    </tr>\n",
       "    <tr>\n",
       "      <th>3750</th>\n",
       "      <td>2020</td>\n",
       "      <td>SE</td>\n",
       "      <td>FT</td>\n",
       "      <td>Data Scientist</td>\n",
       "      <td>412000</td>\n",
       "      <td>US</td>\n",
       "      <td>100</td>\n",
       "      <td>US</td>\n",
       "      <td>L</td>\n",
       "    </tr>\n",
       "    <tr>\n",
       "      <th>3751</th>\n",
       "      <td>2021</td>\n",
       "      <td>MI</td>\n",
       "      <td>FT</td>\n",
       "      <td>Principal Data Scientist</td>\n",
       "      <td>151000</td>\n",
       "      <td>US</td>\n",
       "      <td>100</td>\n",
       "      <td>US</td>\n",
       "      <td>L</td>\n",
       "    </tr>\n",
       "    <tr>\n",
       "      <th>3752</th>\n",
       "      <td>2020</td>\n",
       "      <td>EN</td>\n",
       "      <td>FT</td>\n",
       "      <td>Data Scientist</td>\n",
       "      <td>105000</td>\n",
       "      <td>US</td>\n",
       "      <td>100</td>\n",
       "      <td>US</td>\n",
       "      <td>S</td>\n",
       "    </tr>\n",
       "    <tr>\n",
       "      <th>3753</th>\n",
       "      <td>2020</td>\n",
       "      <td>EN</td>\n",
       "      <td>CT</td>\n",
       "      <td>Business Data Analyst</td>\n",
       "      <td>100000</td>\n",
       "      <td>US</td>\n",
       "      <td>100</td>\n",
       "      <td>US</td>\n",
       "      <td>L</td>\n",
       "    </tr>\n",
       "    <tr>\n",
       "      <th>3754</th>\n",
       "      <td>2021</td>\n",
       "      <td>SE</td>\n",
       "      <td>FT</td>\n",
       "      <td>Data Science Manager</td>\n",
       "      <td>94665</td>\n",
       "      <td>IN</td>\n",
       "      <td>50</td>\n",
       "      <td>IN</td>\n",
       "      <td>L</td>\n",
       "    </tr>\n",
       "  </tbody>\n",
       "</table>\n",
       "<p>3755 rows × 9 columns</p>\n",
       "</div>"
      ],
      "text/plain": [
       "      work_year experience_level employment_type                 job_title  \\\n",
       "0          2023               SE              FT  Principal Data Scientist   \n",
       "1          2023               MI              CT               ML Engineer   \n",
       "2          2023               MI              CT               ML Engineer   \n",
       "3          2023               SE              FT            Data Scientist   \n",
       "4          2023               SE              FT            Data Scientist   \n",
       "...         ...              ...             ...                       ...   \n",
       "3750       2020               SE              FT            Data Scientist   \n",
       "3751       2021               MI              FT  Principal Data Scientist   \n",
       "3752       2020               EN              FT            Data Scientist   \n",
       "3753       2020               EN              CT     Business Data Analyst   \n",
       "3754       2021               SE              FT      Data Science Manager   \n",
       "\n",
       "      salary_in_usd employee_residence  remote_ratio company_location  \\\n",
       "0             85847                 ES           100               ES   \n",
       "1             30000                 US           100               US   \n",
       "2             25500                 US           100               US   \n",
       "3            175000                 CA           100               CA   \n",
       "4            120000                 CA           100               CA   \n",
       "...             ...                ...           ...              ...   \n",
       "3750         412000                 US           100               US   \n",
       "3751         151000                 US           100               US   \n",
       "3752         105000                 US           100               US   \n",
       "3753         100000                 US           100               US   \n",
       "3754          94665                 IN            50               IN   \n",
       "\n",
       "     company_size  \n",
       "0               L  \n",
       "1               S  \n",
       "2               S  \n",
       "3               M  \n",
       "4               M  \n",
       "...           ...  \n",
       "3750            L  \n",
       "3751            L  \n",
       "3752            S  \n",
       "3753            L  \n",
       "3754            L  \n",
       "\n",
       "[3755 rows x 9 columns]"
      ]
     },
     "execution_count": 6,
     "metadata": {},
     "output_type": "execute_result"
    }
   ],
   "source": [
    "data_of_interest=data_to_process.drop(columns=['salary','salary_currency']).copy()\n",
    "data_of_interest"
   ]
  },
  {
   "cell_type": "markdown",
   "id": "f38dc98b",
   "metadata": {},
   "source": [
    "# work_year"
   ]
  },
  {
   "cell_type": "code",
   "execution_count": 7,
   "id": "6ff26f77",
   "metadata": {},
   "outputs": [
    {
     "data": {
      "text/plain": [
       "<Axes: >"
      ]
     },
     "execution_count": 7,
     "metadata": {},
     "output_type": "execute_result"
    },
    {
     "data": {
      "image/png": "[encoded data removed]",
      "text/plain": [
       "<Figure size 640x480 with 1 Axes>"
      ]
     },
     "metadata": {},
     "output_type": "display_data"
    }
   ],
   "source": [
    "data_of_interest['work_year'].value_counts().plot.barh()"
   ]
  },
  {
   "cell_type": "code",
   "execution_count": 8,
   "id": "69134b64",
   "metadata": {},
   "outputs": [
    {
     "data": {
      "text/plain": [
       "73065.0"
      ]
     },
     "execution_count": 8,
     "metadata": {},
     "output_type": "execute_result"
    }
   ],
   "source": [
    "data_of_interest[data_of_interest[\"work_year\"]==2020][\"salary_in_usd\"].median()"
   ]
  },
  {
   "cell_type": "code",
   "execution_count": 9,
   "id": "1fe01d34",
   "metadata": {},
   "outputs": [
    {
     "data": {
      "text/plain": [
       "80000.0"
      ]
     },
     "execution_count": 9,
     "metadata": {},
     "output_type": "execute_result"
    }
   ],
   "source": [
    "data_of_interest[data_of_interest[\"work_year\"]==2021][\"salary_in_usd\"].median()"
   ]
  },
  {
   "cell_type": "code",
   "execution_count": 10,
   "id": "e67a52ae",
   "metadata": {},
   "outputs": [
    {
     "data": {
      "text/plain": [
       "131300.0"
      ]
     },
     "execution_count": 10,
     "metadata": {},
     "output_type": "execute_result"
    }
   ],
   "source": [
    "data_of_interest[data_of_interest[\"work_year\"]==2022][\"salary_in_usd\"].median()"
   ]
  },
  {
   "cell_type": "code",
   "execution_count": 11,
   "id": "853fa43e",
   "metadata": {},
   "outputs": [
    {
     "data": {
      "text/plain": [
       "143860.0"
      ]
     },
     "execution_count": 11,
     "metadata": {},
     "output_type": "execute_result"
    }
   ],
   "source": [
    "data_of_interest[data_of_interest[\"work_year\"]==2023][\"salary_in_usd\"].median()"
   ]
  },
  {
   "cell_type": "code",
   "execution_count": 12,
   "id": "b260e228",
   "metadata": {},
   "outputs": [
    {
     "data": {
      "text/plain": [
       "[73065.0, 80000.0, 131300.0, 143860.0]"
      ]
     },
     "execution_count": 12,
     "metadata": {},
     "output_type": "execute_result"
    }
   ],
   "source": [
    "mediana_salarial=[]\n",
    "\n",
    "for i in [2020,2021,2022, 2023]:\n",
    "    mediana_salarial.append(data_of_interest[data_of_interest[\"work_year\"]==i][\"salary_in_usd\"].median())\n",
    "mediana_salarial"
   ]
  },
  {
   "cell_type": "code",
   "execution_count": 13,
   "id": "29653ef4",
   "metadata": {},
   "outputs": [
    {
     "data": {
      "text/plain": [
       "['2020', '2021', '2022', '2023']"
      ]
     },
     "execution_count": 13,
     "metadata": {},
     "output_type": "execute_result"
    }
   ],
   "source": [
    "anos=['2020','2021','2022', '2023']\n",
    "anos"
   ]
  },
  {
   "cell_type": "code",
   "execution_count": 14,
   "id": "30809749",
   "metadata": {},
   "outputs": [
    {
     "data": {
      "image/png": "[encoded data removed]",
      "text/plain": [
       "<Figure size 640x480 with 1 Axes>"
      ]
     },
     "metadata": {},
     "output_type": "display_data"
    }
   ],
   "source": [
    "plt.bar(anos,mediana_salarial, color='blue')\n",
    "plt.title('Anos X Salários')\n",
    "plt.xlabel('Anos')\n",
    "plt.ylabel('Salários')\n",
    "plt.show()"
   ]
  },
  {
   "cell_type": "code",
   "execution_count": 15,
   "id": "4eb61fa6",
   "metadata": {},
   "outputs": [
    {
     "data": {
      "text/plain": [
       "0.09491548621090809"
      ]
     },
     "execution_count": 15,
     "metadata": {},
     "output_type": "execute_result"
    }
   ],
   "source": [
    "porcentagem_aumento_2020_2021=(mediana_salarial[1]-mediana_salarial[0])/mediana_salarial[0]\n",
    "porcentagem_aumento_2020_2021"
   ]
  },
  {
   "cell_type": "markdown",
   "id": "1ed6d881",
   "metadata": {},
   "source": [
    "# experience_level"
   ]
  },
  {
   "cell_type": "code",
   "execution_count": 16,
   "id": "bcbde06a",
   "metadata": {},
   "outputs": [],
   "source": [
    "data_of_interest['log_salary'] = np.log10(data_of_interest['salary_in_usd'])"
   ]
  },
  {
   "cell_type": "code",
   "execution_count": 17,
   "id": "5beb5308",
   "metadata": {},
   "outputs": [
    {
     "data": {
      "text/plain": [
       "<Axes: >"
      ]
     },
     "execution_count": 17,
     "metadata": {},
     "output_type": "execute_result"
    },
    {
     "data": {
      "image/png": "[encoded data removed]",
      "text/plain": [
       "<Figure size 640x480 with 1 Axes>"
      ]
     },
     "metadata": {},
     "output_type": "display_data"
    }
   ],
   "source": [
    "data_of_interest['experience_level'].value_counts().sort_index(ascending=False).plot(kind='barh')"
   ]
  },
  {
   "cell_type": "code",
   "execution_count": 18,
   "id": "56b8e1c9",
   "metadata": {},
   "outputs": [
    {
     "data": {
      "text/plain": [
       "[70000.0, 100000.0, 146000.0, 196000.0]"
      ]
     },
     "execution_count": 18,
     "metadata": {},
     "output_type": "execute_result"
    }
   ],
   "source": [
    "mediana_salarial_experiencia=[]\n",
    "experiencia=[\"EN\",\"MI\",\"SE\",\"EX\"]\n",
    "\n",
    "for i in experiencia:\n",
    "    mediana_salarial_experiencia.append(data_of_interest[data_of_interest[\"experience_level\"]==i][\"salary_in_usd\"].median())\n",
    "mediana_salarial_experiencia"
   ]
  },
  {
   "cell_type": "code",
   "execution_count": 19,
   "id": "f4facf91",
   "metadata": {},
   "outputs": [
    {
     "data": {
      "text/plain": [
       "SE    2516\n",
       "MI     805\n",
       "EN     320\n",
       "EX     114\n",
       "Name: experience_level, dtype: int64"
      ]
     },
     "execution_count": 19,
     "metadata": {},
     "output_type": "execute_result"
    }
   ],
   "source": [
    "data_of_interest['experience_level'].value_counts()"
   ]
  },
  {
   "cell_type": "code",
   "execution_count": null,
   "id": "4f3ca42d",
   "metadata": {},
   "outputs": [],
   "source": [
    "plt.bar(experiencia,mediana_salarial_experiencia, color='blue')\n",
    "plt.title('Experiência X Salários')\n",
    "plt.xlabel('Experiência')\n",
    "plt.ylabel('Salários')\n",
    "plt.show()"
   ]
  },
  {
   "cell_type": "code",
   "execution_count": null,
   "id": "3a307c7c",
   "metadata": {},
   "outputs": [],
   "source": [
    "data_of_interest[['salary_in_usd', 'experience_level']].plot.box(by='experience_level');"
   ]
  },
  {
   "cell_type": "code",
   "execution_count": null,
   "id": "ac9a4152",
   "metadata": {},
   "outputs": [],
   "source": [
    "data_of_interest[['log_salary', 'experience_level']].plot.box(by='experience_level');"
   ]
  },
  {
   "cell_type": "markdown",
   "id": "fae44f41",
   "metadata": {},
   "source": [
    "# Employment Type"
   ]
  },
  {
   "cell_type": "code",
   "execution_count": null,
   "id": "b7ad9f49",
   "metadata": {},
   "outputs": [],
   "source": [
    "data_of_interest['employment_type'].value_counts()"
   ]
  },
  {
   "cell_type": "code",
   "execution_count": null,
   "id": "19e9a566",
   "metadata": {},
   "outputs": [],
   "source": [
    "data_of_interest['employment_type'].value_counts().FT/data_of_interest['employment_type'].value_counts().sum()*100"
   ]
  },
  {
   "cell_type": "code",
   "execution_count": null,
   "id": "8532c101",
   "metadata": {},
   "outputs": [],
   "source": [
    "mediana_salarial_ET=[]\n",
    "employment_type=[\"CT\", \"FT\", \"FL\", \"PT\"]\n",
    "\n",
    "for i in employment_type:\n",
    "    mediana_salarial_ET.append(data_of_interest[data_of_interest[\"employment_type\"]==i][\"salary_in_usd\"].median())\n",
    "plt.bar(employment_type,mediana_salarial_ET, color='blue')\n",
    "plt.title('Employment Type X Salários')\n",
    "plt.xlabel('Employment Type')\n",
    "plt.ylabel('Salários')\n",
    "plt.show()"
   ]
  },
  {
   "cell_type": "code",
   "execution_count": null,
   "id": "2d9a3c8c",
   "metadata": {},
   "outputs": [],
   "source": []
  },
  {
   "cell_type": "code",
   "execution_count": null,
   "id": "11b78744",
   "metadata": {},
   "outputs": [],
   "source": [
    "data_of_interest[['salary_in_usd', 'employment_type']].plot.box(by='employment_type');"
   ]
  },
  {
   "cell_type": "markdown",
   "id": "a002ce27",
   "metadata": {},
   "source": [
    "# job_title"
   ]
  },
  {
   "cell_type": "code",
   "execution_count": null,
   "id": "1d42f8ba",
   "metadata": {},
   "outputs": [],
   "source": [
    "data_of_interest['job_title'].describe()"
   ]
  },
  {
   "cell_type": "markdown",
   "id": "c89d07cd",
   "metadata": {},
   "source": [
    "# company_location"
   ]
  },
  {
   "cell_type": "code",
   "execution_count": null,
   "id": "939bddbb",
   "metadata": {},
   "outputs": [],
   "source": [
    "plt.figure(figsize=(8, 20))\n",
    "data_of_interest['company_location'].value_counts().plot.barh()\n"
   ]
  },
  {
   "cell_type": "code",
   "execution_count": null,
   "id": "21cc63c5",
   "metadata": {},
   "outputs": [],
   "source": [
    "\n",
    "\n",
    "data_of_interest['company_location'].value_counts().US/data_of_interest['company_location'].value_counts().sum()*100"
   ]
  },
  {
   "cell_type": "code",
   "execution_count": null,
   "id": "9b852d26",
   "metadata": {},
   "outputs": [],
   "source": [
    "data_of_interest = data_of_interest[data_of_interest['company_location'] == \"US\"]\n",
    "data_of_interest['company_location']"
   ]
  },
  {
   "cell_type": "code",
   "execution_count": null,
   "id": "b6e42335",
   "metadata": {},
   "outputs": [],
   "source": [
    "data_of_interest['employee_residence'].value_counts().plot.barh()"
   ]
  },
  {
   "cell_type": "code",
   "execution_count": null,
   "id": "a12b729e",
   "metadata": {},
   "outputs": [],
   "source": [
    "data_of_interest['employee_residence'].value_counts().US/data_of_interest['employee_residence'].value_counts().sum()*100"
   ]
  },
  {
   "cell_type": "code",
   "execution_count": null,
   "id": "44772d8c",
   "metadata": {},
   "outputs": [],
   "source": [
    "data_of_interest = data_of_interest[data_of_interest['employee_residence'] == \"US\"]\n",
    "data_of_interest['employee_residence'].value_counts().plot.barh()"
   ]
  },
  {
   "cell_type": "code",
   "execution_count": null,
   "id": "cc9ec415",
   "metadata": {},
   "outputs": [],
   "source": [
    "data_of_interest = data_of_interest.drop(columns=['employee_residence', 'company_location'])"
   ]
  },
  {
   "cell_type": "code",
   "execution_count": null,
   "id": "dbcf4e2c",
   "metadata": {},
   "outputs": [],
   "source": []
  },
  {
   "cell_type": "markdown",
   "id": "44ed9513",
   "metadata": {},
   "source": [
    "# remote_ratio"
   ]
  },
  {
   "cell_type": "code",
   "execution_count": null,
   "id": "8ffa4294",
   "metadata": {},
   "outputs": [],
   "source": [
    "data_of_interest['remote_ratio'].value_counts().sort_index().plot.barh()"
   ]
  },
  {
   "cell_type": "code",
   "execution_count": null,
   "id": "f8c9b4ce",
   "metadata": {},
   "outputs": [],
   "source": [
    "data_of_interest['remote_ratio'].value_counts()"
   ]
  },
  {
   "cell_type": "code",
   "execution_count": null,
   "id": "b3d0bff2",
   "metadata": {
    "scrolled": true
   },
   "outputs": [],
   "source": [
    "data_of_interest = data_of_interest[data_of_interest['remote_ratio'] != 50]\n",
    "data_of_interest['remote_ratio'].value_counts().sort_index().plot.barh()"
   ]
  },
  {
   "cell_type": "code",
   "execution_count": null,
   "id": "09d6c899",
   "metadata": {},
   "outputs": [],
   "source": []
  },
  {
   "cell_type": "code",
   "execution_count": null,
   "id": "d75371be",
   "metadata": {},
   "outputs": [],
   "source": []
  },
  {
   "cell_type": "code",
   "execution_count": null,
   "id": "b47deb2c",
   "metadata": {},
   "outputs": [],
   "source": [
    "data_of_interest[['salary_in_usd', 'remote_ratio']].plot.box(by='remote_ratio');"
   ]
  },
  {
   "cell_type": "code",
   "execution_count": null,
   "id": "659936ce",
   "metadata": {},
   "outputs": [],
   "source": [
    "data_of_interest = data_of_interest.drop(columns=[\"remote_ratio\"])"
   ]
  },
  {
   "cell_type": "markdown",
   "id": "7621d99a",
   "metadata": {},
   "source": [
    "# company_size"
   ]
  },
  {
   "cell_type": "code",
   "execution_count": null,
   "id": "4fea4580",
   "metadata": {},
   "outputs": [],
   "source": [
    "data_of_interest['company_size'].value_counts().sort_index().plot.barh()"
   ]
  },
  {
   "cell_type": "code",
   "execution_count": null,
   "id": "0c058574",
   "metadata": {},
   "outputs": [],
   "source": [
    "data_of_interest['company_size'].value_counts().S/data_of_interest['company_size'].value_counts().sum()*100"
   ]
  },
  {
   "cell_type": "code",
   "execution_count": null,
   "id": "2ad6cf27",
   "metadata": {},
   "outputs": [],
   "source": [
    "data_of_interest = data_of_interest[data_of_interest['company_size'] != \"S\"]\n",
    "data_of_interest['company_size'].value_counts().sort_index().plot.barh()"
   ]
  },
  {
   "cell_type": "code",
   "execution_count": null,
   "id": "3517a3c3",
   "metadata": {},
   "outputs": [],
   "source": [
    "data_of_interest[['salary_in_usd', 'company_size']].plot.box(by='company_size');"
   ]
  },
  {
   "cell_type": "code",
   "execution_count": null,
   "id": "b73065b9",
   "metadata": {},
   "outputs": [],
   "source": []
  },
  {
   "cell_type": "markdown",
   "id": "c0936856",
   "metadata": {},
   "source": [
    "# salary"
   ]
  },
  {
   "cell_type": "code",
   "execution_count": null,
   "id": "ec3aa4d2",
   "metadata": {
    "scrolled": true
   },
   "outputs": [],
   "source": [
    "data_of_interest['salary_in_usd'].plot.hist()"
   ]
  },
  {
   "cell_type": "code",
   "execution_count": null,
   "id": "ef8f41a6",
   "metadata": {},
   "outputs": [],
   "source": [
    "data_of_interest['log_salary'] = np.log10(data_of_interest['salary_in_usd'])"
   ]
  },
  {
   "cell_type": "code",
   "execution_count": null,
   "id": "2e758cd3",
   "metadata": {},
   "outputs": [],
   "source": [
    "data_of_interest['log_salary'].plot.hist()"
   ]
  },
  {
   "cell_type": "code",
   "execution_count": null,
   "id": "5653bbf3",
   "metadata": {
    "scrolled": false
   },
   "outputs": [],
   "source": [
    "data_of_interest[['log_salary', 'experience_level']].plot.box(by='experience_level');"
   ]
  },
  {
   "cell_type": "code",
   "execution_count": null,
   "id": "b8a769ea",
   "metadata": {},
   "outputs": [],
   "source": [
    "data['job_title'].nunique()\n"
   ]
  },
  {
   "cell_type": "code",
   "execution_count": null,
   "id": "4bb043f3",
   "metadata": {},
   "outputs": [],
   "source": [
    "data['job_title'].unique()\n",
    "\n",
    "\n",
    "data.loc[data['job_title'].str.contains('Data Scientist', case=False), 'job_title'] = 'Data Scientist'\n",
    "\n",
    "\n",
    "data.loc[data['job_title'].str.contains('Data Engineer', case=False), 'job_title'] = 'Data Engineer'\n",
    "\n",
    "\n",
    "data.loc[data['job_title'].str.contains('Data Analyst', case=False), 'job_title'] = 'Data Analyst'\n",
    "\n",
    "\n",
    "data.loc[data['job_title'].str.contains('Data Analytics', case=False), 'job_title'] = 'Data Analyst'\n",
    "\n",
    "\n",
    "data.loc[data['job_title'].str.contains('Data Architect', case=False), 'job_title'] = 'Data Architect'\n",
    "\n",
    "data.loc[data['job_title'].str.contains('Data Science', case=False), 'job_title'] = 'Data Scientist'\n",
    "\n",
    "\n",
    "data.loc[data['job_title'].str.contains('Machine Learning Engineer', case=False), 'job_title'] = 'Machine Learning Engineer'\n",
    "\n",
    "data.loc[data['job_title'].str.contains('Computer Vision', case=False), 'job_title'] = 'Machine Learning Engineer'\n",
    "\n",
    "data.loc[data['job_title'].str.contains('ML Engineer', case=False), 'job_title'] = 'Machine Learning Engineer'\n",
    "\n",
    "data.loc[data['job_title'].str.contains('AI Scientist', case=False), 'job_title'] = 'AI Scientist'\n",
    "\n",
    "\n",
    "data.loc[data['job_title'].str.contains('Machine Learning Developer', case=False), 'job_title'] = 'AI Developer'\n",
    "\n",
    "\n",
    "data.loc[data['job_title'].str.contains('Power BI Developer', case=False), 'job_title'] = 'BI Developer'\n",
    "\n",
    "\n",
    "data.loc[data['job_title'].str.contains('Machine Learning Software Engineer', case=False), 'job_title'] = 'Machine Learning Engineer'\n",
    "\n",
    "\n",
    "data.loc[data['job_title'].str.contains('Machine Learning Research Engineer', case=False), 'job_title'] = 'Machine Learning Engineer'\n",
    "\n",
    "\n",
    "data.loc[data['job_title'].str.contains('Deep Learning Engineer', case=False), 'job_title'] = 'Machine Learning Engineer'\n",
    "\n",
    "\n",
    "data.loc[data['job_title'].str.contains('Deep Learning Engineer', case=False), 'job_title'] = 'Machine Learning Engineer'\n",
    "\n",
    "\n",
    "data.loc[data['job_title'].str.contains('Data Operations Engineer', case=False), 'job_title'] = 'Data Engineer'\n",
    "\n",
    "\n",
    "data.loc[data['job_title'].str.contains('Data DevOps Engineer', case=False), 'job_title'] = 'Data Engineer'\n",
    "\n",
    "\n",
    "data.loc[data['job_title'].str.contains('Data Quality Analyst', case=False), 'job_title'] = 'Data Analyst'\n",
    "\n",
    "data.loc[data['job_title'].str.contains('BI Analyst', case=False), 'job_title'] = 'Data Analyst'\n",
    "\n",
    "\n",
    "data.loc[data['job_title'].str.contains('Insight Analyst', case=False), 'job_title'] = 'Data Analyst'\n",
    "\n",
    "\n",
    "data.loc[data['job_title'].str.contains('Data Operations Analyst', case=False), 'job_title'] = 'Data Analyst'\n",
    "\n",
    "\n",
    "data.loc[data['job_title'].str.contains('Applied Machine Learning Scientist', case=False), 'job_title'] = 'Machine Learning Scientist'\n",
    "\n",
    "\n",
    "data.loc[data['job_title'].str.contains('Machine Learning Researcher', case=False), 'job_title'] = 'Machine Learning Scientist'\n",
    "\n",
    "\n",
    "data.loc[data['job_title'].str.contains('Machine Learning Infrastructure Engineer', case=False), 'job_title'] = 'Machine Learning Engineer'\n",
    "\n",
    "\n",
    "data.loc[data['job_title'].str.contains('Data Modeler', case=False), 'job_title'] = 'Data Engineer'\n",
    "\n",
    "\n",
    "data.loc[data['job_title'].str.contains('Data Architect', case=False), 'job_title'] = 'Data Engineer'\n",
    "\n",
    "\n",
    "data.loc[data['job_title'].str.contains('Data Infrastructure Engineer', case=False), 'job_title'] = 'Data Engineer'\n",
    "\n",
    "\n",
    "data.loc[data['job_title'].str.contains('Cloud Database Engineer', case=False), 'job_title'] = 'Data Engineer'\n",
    "\n",
    "\n",
    "data.loc[data['job_title'].str.contains('Applied Scientist', case=False), 'job_title'] = 'Data Scientist'\n",
    "\n",
    "data.loc[data['job_title'].str.contains('BI', case=False), 'job_title'] = 'Business Intelligence'\n",
    "\n",
    "\n",
    "data.loc[data['job_title'].str.contains('Business Intelligence', case=False), 'job_title'] = 'Business Intelligence'\n",
    "\n",
    "\n",
    "data.loc[data['job_title'].str.contains('Deep Learning Researcher', case=False), 'job_title'] = 'Machine Learning Scientist'\n",
    "\n",
    "\n",
    "data.loc[data['job_title'].str.contains('AI Programmer', case=False), 'job_title'] = 'AI Developer'\n",
    "\n",
    "\n",
    "data.loc[data['job_title'].str.contains('NLP Engineer', case=False), 'job_title'] = 'Machine Learning Engineer'\n",
    "\n",
    "\n",
    "data.loc[data['job_title'].str.contains('Data Management Specialist', case=False), 'job_title'] = 'Data Specialist'\n",
    "\n",
    "data.loc[data['job_title'].str.contains('Data Manager', case=False), 'job_title'] = 'Manager Data'\n",
    "\n",
    "data.loc[data['job_title'].str.contains('Head of Data', case=False), 'job_title'] = 'Manager Data'\n",
    "\n",
    "data.loc[data['job_title'].str.contains('Data Lead', case=False), 'job_title'] = 'Manager Data'\n",
    "\n",
    "data.loc[data['job_title'].str.contains('Manager Data Management', case=False), 'job_title'] = 'Manager Data'\n",
    "\n",
    "data.loc[data['job_title'].str.contains('Machine Learning Manager', case=False), 'job_title'] = 'Manager Machine Learning'\n",
    "\n",
    "data.loc[data['job_title'].str.contains('Head of Machine Learning', case=False), 'job_title'] = 'Manager Machine Learning'\n",
    "data.loc[data['job_title'].str.contains('AI Scientist', case=False), 'job_title'] = 'Machine Learning Scientist'\n",
    "data = data.drop(data_to_process[data_to_process.job_title == \"Autonomous Vehicle Technician\"].index)\n"
   ]
  },
  {
   "cell_type": "code",
   "execution_count": null,
   "id": "f6457020",
   "metadata": {},
   "outputs": [],
   "source": [
    "data['job_title'].nunique()\n"
   ]
  },
  {
   "cell_type": "code",
   "execution_count": null,
   "id": "0c888e37",
   "metadata": {},
   "outputs": [],
   "source": [
    "data[\"job_title\"].value_counts()"
   ]
  },
  {
   "cell_type": "markdown",
   "id": "86257235",
   "metadata": {},
   "source": [
    "Decisão: eliminar job_titles de AI Developer para baixo"
   ]
  },
  {
   "cell_type": "code",
   "execution_count": null,
   "id": "44cb1413",
   "metadata": {},
   "outputs": [],
   "source": [
    "count = data_of_interest['job_title'].value_counts()\n",
    "\n",
    "filtered = count[count > 20]\n",
    "filtered.nunique()"
   ]
  },
  {
   "cell_type": "code",
   "execution_count": null,
   "id": "24326294",
   "metadata": {},
   "outputs": [],
   "source": [
    "data_of_interest = data_of_interest.loc[data_of_interest['job_title'].isin(filtered.index), :]\n",
    "data_of_interest['job_title'].value_counts().plot.barh()"
   ]
  },
  {
   "cell_type": "code",
   "execution_count": null,
   "id": "b0946f56",
   "metadata": {},
   "outputs": [],
   "source": []
  },
  {
   "cell_type": "code",
   "execution_count": null,
   "id": "00291eee",
   "metadata": {},
   "outputs": [],
   "source": []
  },
  {
   "cell_type": "markdown",
   "id": "966335e1",
   "metadata": {},
   "source": [
    "# salary"
   ]
  },
  {
   "cell_type": "code",
   "execution_count": null,
   "id": "2ecc9a09",
   "metadata": {},
   "outputs": [],
   "source": [
    "data_of_interest"
   ]
  },
  {
   "cell_type": "code",
   "execution_count": null,
   "id": "1b8e9937",
   "metadata": {},
   "outputs": [],
   "source": [
    "#data_of_interest = data_of_interest.drop(columns=['work_year', 'remote_ratio'])"
   ]
  },
  {
   "cell_type": "code",
   "execution_count": null,
   "id": "15f6eb34",
   "metadata": {},
   "outputs": [],
   "source": [
    "data_of_interest = data_of_interest[data_of_interest['employment_type'] == \"FT\"]\n",
    "data_of_interest = data_of_interest.drop(columns=[\"employment_type\"])"
   ]
  },
  {
   "cell_type": "code",
   "execution_count": null,
   "id": "a16a9820",
   "metadata": {},
   "outputs": [],
   "source": [
    "for c in data_of_interest.columns:\n",
    "    print(c)"
   ]
  },
  {
   "cell_type": "code",
   "execution_count": null,
   "id": "b5b6164d",
   "metadata": {},
   "outputs": [],
   "source": [
    "data_of_interest = pd.get_dummies(data_of_interest, drop_first=False)\n"
   ]
  },
  {
   "cell_type": "code",
   "execution_count": null,
   "id": "db922be1",
   "metadata": {},
   "outputs": [],
   "source": [
    "# data_of_interest.columns"
   ]
  },
  {
   "cell_type": "code",
   "execution_count": null,
   "id": "2e7ebb41",
   "metadata": {},
   "outputs": [],
   "source": [
    "# from sklearn.compose import make_column_transformer\n",
    "# from sklearn.preprocessing import OneHotEncoder\n",
    "\n",
    "# one_hot_enc = make_column_transformer(\n",
    "#     (OneHotEncoder(handle_unknown = 'ignore'),\n",
    "#     [\"experience_level\", \"job_title\", \"company_size\"]),\n",
    "#     remainder='passthrough')\n",
    "\n",
    "# dados = one_hot_enc.fit_transform(data_of_interest)\n",
    "# dados = pd.DataFrame(dados, columns=one_hot_enc.get_feature_names_out())\n",
    "# data_of_interest=dados"
   ]
  },
  {
   "cell_type": "code",
   "execution_count": null,
   "id": "7b662d1d",
   "metadata": {},
   "outputs": [],
   "source": [
    "for c in data_of_interest.columns:\n",
    "    print(c)"
   ]
  },
  {
   "cell_type": "code",
   "execution_count": null,
   "id": "0d8d0018",
   "metadata": {},
   "outputs": [],
   "source": []
  },
  {
   "cell_type": "code",
   "execution_count": null,
   "id": "28515c69",
   "metadata": {},
   "outputs": [],
   "source": []
  },
  {
   "cell_type": "markdown",
   "id": "2d2080f3",
   "metadata": {},
   "source": [
    "# modelo"
   ]
  },
  {
   "cell_type": "code",
   "execution_count": null,
   "id": "3774b571",
   "metadata": {},
   "outputs": [],
   "source": [
    "y = data_of_interest['log_salary'].copy()\n",
    "X = data_of_interest.drop(columns=['salary_in_usd', 'log_salary']).copy()\n",
    "X = X.astype('float')"
   ]
  },
  {
   "cell_type": "code",
   "execution_count": null,
   "id": "4a352c04",
   "metadata": {},
   "outputs": [],
   "source": [
    "# y = data_of_interest['remainder__log_salary'].copy()\n",
    "# X = data_of_interest.drop(columns=['remainder__salary_in_usd', 'remainder__log_salary']).copy()\n",
    "# X = X.astype('float')"
   ]
  },
  {
   "cell_type": "code",
   "execution_count": null,
   "id": "3643908c",
   "metadata": {},
   "outputs": [],
   "source": [
    "X.shape, y.shape"
   ]
  },
  {
   "cell_type": "code",
   "execution_count": null,
   "id": "473580c4",
   "metadata": {},
   "outputs": [],
   "source": [
    "from sklearn.model_selection import train_test_split\n",
    "\n",
    "X_train, X_test, y_train, y_test = train_test_split(X, y, test_size=0.25)"
   ]
  },
  {
   "cell_type": "code",
   "execution_count": null,
   "id": "7c3c765d",
   "metadata": {},
   "outputs": [],
   "source": [
    "X_train_valid, X_test_valid, y_train_valid, y_test_valid = train_test_split(X_train, y_train, test_size=0.33)"
   ]
  },
  {
   "cell_type": "code",
   "execution_count": null,
   "id": "f3148525",
   "metadata": {},
   "outputs": [],
   "source": []
  },
  {
   "cell_type": "markdown",
   "id": "78f78b5b",
   "metadata": {},
   "source": [
    "# modelo 1: Ridge"
   ]
  },
  {
   "cell_type": "code",
   "execution_count": null,
   "id": "9dc66343",
   "metadata": {},
   "outputs": [],
   "source": [
    "import math\n",
    "from sklearn.linear_model import LinearRegression, Ridge\n",
    "from sklearn.metrics import mean_squared_error\n",
    "\n",
    "model = Ridge(alpha=1e-3)\n",
    "model.fit(X_train_valid, y_train_valid)\n",
    "\n",
    "y_pred = model.predict(X_test_valid)\n",
    "RMSE = math.sqrt(mean_squared_error(y_test_valid, y_pred))\n",
    "RMSE"
   ]
  },
  {
   "cell_type": "code",
   "execution_count": null,
   "id": "61f5568a",
   "metadata": {},
   "outputs": [],
   "source": [
    "y_pred_test = model.predict(X_test)\n",
    "RMSE_test = math.sqrt(mean_squared_error(y_test, y_pred_test))\n",
    "RMSE_test"
   ]
  },
  {
   "cell_type": "code",
   "execution_count": null,
   "id": "af376e87",
   "metadata": {},
   "outputs": [],
   "source": [
    "list(zip(X_test_valid.columns, (((10**model.coef_)-1)*100)))"
   ]
  },
  {
   "cell_type": "code",
   "execution_count": null,
   "id": "d1eb941e",
   "metadata": {},
   "outputs": [],
   "source": []
  },
  {
   "cell_type": "code",
   "execution_count": null,
   "id": "1ff54a19",
   "metadata": {},
   "outputs": [],
   "source": [
    "plt.scatter(y_test_valid, y_pred)"
   ]
  },
  {
   "cell_type": "code",
   "execution_count": null,
   "id": "dfdab4a7",
   "metadata": {},
   "outputs": [],
   "source": [
    "erro = y_pred - y_test_valid\n",
    "\n",
    "plt.scatter(y_test_valid, erro)\n",
    "plt.xlabel('salario')\n",
    "plt.ylabel('Erro [$]')"
   ]
  },
  {
   "cell_type": "code",
   "execution_count": null,
   "id": "8965737e",
   "metadata": {},
   "outputs": [],
   "source": [
    "erro_percentual = (10**erro) - 1"
   ]
  },
  {
   "cell_type": "code",
   "execution_count": null,
   "id": "f314b513",
   "metadata": {
    "scrolled": true
   },
   "outputs": [],
   "source": [
    "plt.scatter(y_test_valid, erro_percentual)\n",
    "plt.xlabel('salario ')\n",
    "plt.ylabel('Erro [%]')"
   ]
  },
  {
   "cell_type": "code",
   "execution_count": null,
   "id": "f2c20be7",
   "metadata": {},
   "outputs": [],
   "source": [
    "model.coef_"
   ]
  },
  {
   "cell_type": "code",
   "execution_count": null,
   "id": "ce88fd1e",
   "metadata": {},
   "outputs": [],
   "source": [
    "pd.Series(model.coef_, index = X_test.columns)"
   ]
  },
  {
   "cell_type": "markdown",
   "id": "a5e689d2",
   "metadata": {},
   "source": [
    "# modelo polinomial de grau 2"
   ]
  },
  {
   "cell_type": "code",
   "execution_count": null,
   "id": "89fee2e7",
   "metadata": {},
   "outputs": [],
   "source": [
    "from sklearn.preprocessing import PolynomialFeatures\n",
    "\n",
    "transformer = PolynomialFeatures(degree=2, include_bias=False)\n",
    "X_train_valid_transf = transformer.fit_transform(X_train_valid)"
   ]
  },
  {
   "cell_type": "code",
   "execution_count": null,
   "id": "4cc812a4",
   "metadata": {},
   "outputs": [],
   "source": [
    "feat_names = transformer.get_feature_names_out()"
   ]
  },
  {
   "cell_type": "code",
   "execution_count": null,
   "id": "b45f6ed7",
   "metadata": {},
   "outputs": [],
   "source": [
    "X_train_valid_transf.shape"
   ]
  },
  {
   "cell_type": "code",
   "execution_count": null,
   "id": "cf41bd14",
   "metadata": {},
   "outputs": [],
   "source": [
    "from sklearn.linear_model import Ridge\n",
    "alpha = 1e-3\n",
    "model = Ridge(alpha=alpha)\n",
    "\n",
    "model.fit(X_train_valid_transf, y_train_valid)"
   ]
  },
  {
   "cell_type": "code",
   "execution_count": null,
   "id": "a7ce12bb",
   "metadata": {
    "scrolled": false
   },
   "outputs": [],
   "source": [
    "list(zip(feat_names, ((10**model.coef_) - 1)*100))"
   ]
  },
  {
   "cell_type": "code",
   "execution_count": null,
   "id": "99aa5c1e",
   "metadata": {},
   "outputs": [],
   "source": [
    "X_test_valid_transf = transformer.transform(X_test_valid)\n",
    "y_pred = model.predict(X_test_valid_transf)"
   ]
  },
  {
   "cell_type": "code",
   "execution_count": null,
   "id": "1eddce15",
   "metadata": {},
   "outputs": [],
   "source": [
    "RMSE = math.sqrt(mean_squared_error(y_test_valid, y_pred))\n",
    "RMSE"
   ]
  },
  {
   "cell_type": "code",
   "execution_count": null,
   "id": "c2ef76b4",
   "metadata": {},
   "outputs": [],
   "source": [
    "aux = y_pred - y_test_valid\n",
    "aux[aux > 1e6]"
   ]
  },
  {
   "cell_type": "code",
   "execution_count": null,
   "id": "8576f216",
   "metadata": {},
   "outputs": [],
   "source": []
  },
  {
   "cell_type": "code",
   "execution_count": null,
   "id": "e5d714e1",
   "metadata": {},
   "outputs": [],
   "source": [
    "plt.scatter(y_test_valid, y_pred, alpha=0.3)"
   ]
  },
  {
   "cell_type": "code",
   "execution_count": null,
   "id": "bf11230e",
   "metadata": {},
   "outputs": [],
   "source": [
    "erro = y_pred - y_test_valid\n",
    "\n",
    "plt.scatter(y_test_valid, erro)\n",
    "plt.xlabel('salario')\n",
    "plt.ylabel('Erro [$]')"
   ]
  },
  {
   "cell_type": "code",
   "execution_count": null,
   "id": "31a1ad28",
   "metadata": {},
   "outputs": [],
   "source": [
    "erro_percentual = (10**erro) - 1"
   ]
  },
  {
   "cell_type": "code",
   "execution_count": null,
   "id": "fe98430b",
   "metadata": {},
   "outputs": [],
   "source": [
    "plt.scatter(y_test_valid, erro_percentual)\n",
    "plt.xlabel('salario')\n",
    "plt.ylabel('Erro [%]')"
   ]
  },
  {
   "cell_type": "code",
   "execution_count": null,
   "id": "605b3591",
   "metadata": {},
   "outputs": [],
   "source": [
    "from sklearn.ensemble import RandomForestRegressor\n",
    "\n",
    "model = RandomForestRegressor()\n",
    "model.fit(X_train_valid, y_train_valid)\n",
    "y_pred = model.predict(X_test_valid)\n",
    "RMSE = math.sqrt(mean_squared_error(y_test_valid, y_pred))\n",
    "RMSE"
   ]
  },
  {
   "cell_type": "markdown",
   "id": "96d50507",
   "metadata": {},
   "source": [
    "# Regressão Linear"
   ]
  },
  {
   "cell_type": "code",
   "execution_count": null,
   "id": "128d53bc",
   "metadata": {},
   "outputs": [],
   "source": [
    "import math\n",
    "from sklearn.linear_model import LinearRegression\n",
    "from sklearn.metrics import mean_squared_error\n",
    "\n",
    "model_LR = LinearRegression()\n",
    "model_LR.fit(X_train_valid, y_train_valid)\n",
    "\n",
    "y_pred_LR = model_LR.predict(X_test_valid)\n",
    "RMSE_LR = math.sqrt(mean_squared_error(y_test_valid, y_pred_LR))\n",
    "RMSE_LR"
   ]
  },
  {
   "cell_type": "code",
   "execution_count": null,
   "id": "e4ddb981",
   "metadata": {},
   "outputs": [],
   "source": [
    "y_pred_test_LR = model_LR.predict(X_test)\n",
    "RMSE_test_LR = math.sqrt(mean_squared_error(y_test, y_pred_test_LR))\n",
    "RMSE_test_LR"
   ]
  },
  {
   "cell_type": "code",
   "execution_count": null,
   "id": "66a57ed3",
   "metadata": {},
   "outputs": [],
   "source": [
    "model_LR.coef_"
   ]
  },
  {
   "cell_type": "code",
   "execution_count": null,
   "id": "207bfc6b",
   "metadata": {},
   "outputs": [],
   "source": [
    "list(zip(X_test_valid.columns, (((10**model_LR.coef_)-1)*100)))"
   ]
  },
  {
   "cell_type": "code",
   "execution_count": null,
   "id": "82f5722b",
   "metadata": {},
   "outputs": [],
   "source": []
  },
  {
   "cell_type": "code",
   "execution_count": null,
   "id": "65922d4a",
   "metadata": {},
   "outputs": [],
   "source": [
    "plt.scatter(y_test_valid, y_pred_LR)"
   ]
  },
  {
   "cell_type": "code",
   "execution_count": null,
   "id": "7900a8a6",
   "metadata": {},
   "outputs": [],
   "source": [
    "erro_LR = y_pred_LR - y_test_valid\n",
    "\n",
    "plt.scatter(y_test_valid, erro_LR)\n",
    "plt.xlabel('salario')\n",
    "plt.ylabel('Erro [$]')"
   ]
  },
  {
   "cell_type": "code",
   "execution_count": null,
   "id": "4a45e141",
   "metadata": {},
   "outputs": [],
   "source": [
    "erro_percentual_LR = (10**erro_LR) - 1"
   ]
  },
  {
   "cell_type": "code",
   "execution_count": null,
   "id": "2d8a1b5f",
   "metadata": {},
   "outputs": [],
   "source": [
    "plt.scatter(y_test_valid, erro_percentual_LR)\n",
    "plt.xlabel('salario ')\n",
    "plt.ylabel('Erro [%]')"
   ]
  },
  {
   "cell_type": "code",
   "execution_count": null,
   "id": "7e9ae990",
   "metadata": {},
   "outputs": [],
   "source": [
    "list(zip(X_train_valid.columns, ((10**model_LR.coef_) - 1)*100))"
   ]
  },
  {
   "cell_type": "code",
   "execution_count": null,
   "id": "7bbd1ec6",
   "metadata": {},
   "outputs": [],
   "source": []
  },
  {
   "cell_type": "code",
   "execution_count": null,
   "id": "056a65bb",
   "metadata": {},
   "outputs": [],
   "source": []
  }
 ],
 "metadata": {
  "kernelspec": {
   "display_name": "Python 3 (ipykernel)",
   "language": "python",
   "name": "python3"
  },
  "language_info": {
   "codemirror_mode": {
    "name": "ipython",
    "version": 3
   },
   "file_extension": ".py",
   "mimetype": "text/x-python",
   "name": "python",
   "nbconvert_exporter": "python",
   "pygments_lexer": "ipython3",
   "version": "3.10.9"
  }
 },
 "nbformat": 4,
 "nbformat_minor": 5
}
