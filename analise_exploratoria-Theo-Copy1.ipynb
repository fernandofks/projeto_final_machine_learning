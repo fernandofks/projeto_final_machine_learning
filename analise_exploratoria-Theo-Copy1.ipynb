{
 "cells": [
  {
   "cell_type": "code",
   "execution_count": 1,
   "id": "e2a66d9c",
   "metadata": {},
   "outputs": [],
   "source": [
    "import pandas as pd\n",
    "import numpy as np\n",
    "import matplotlib.pyplot as plt"
   ]
  },
  {
   "cell_type": "code",
   "execution_count": 2,
   "id": "d0bfb15b",
   "metadata": {},
   "outputs": [
    {
     "data": {
      "text/html": [
       "<div>\n",
       "<style scoped>\n",
       "    .dataframe tbody tr th:only-of-type {\n",
       "        vertical-align: middle;\n",
       "    }\n",
       "\n",
       "    .dataframe tbody tr th {\n",
       "        vertical-align: top;\n",
       "    }\n",
       "\n",
       "    .dataframe thead th {\n",
       "        text-align: right;\n",
       "    }\n",
       "</style>\n",
       "<table border=\"1\" class=\"dataframe\">\n",
       "  <thead>\n",
       "    <tr style=\"text-align: right;\">\n",
       "      <th></th>\n",
       "      <th>work_year</th>\n",
       "      <th>experience_level</th>\n",
       "      <th>employment_type</th>\n",
       "      <th>job_title</th>\n",
       "      <th>salary</th>\n",
       "      <th>salary_currency</th>\n",
       "      <th>salary_in_usd</th>\n",
       "      <th>employee_residence</th>\n",
       "      <th>remote_ratio</th>\n",
       "      <th>company_location</th>\n",
       "      <th>company_size</th>\n",
       "    </tr>\n",
       "  </thead>\n",
       "  <tbody>\n",
       "    <tr>\n",
       "      <th>0</th>\n",
       "      <td>2023</td>\n",
       "      <td>SE</td>\n",
       "      <td>FT</td>\n",
       "      <td>Principal Data Scientist</td>\n",
       "      <td>80000</td>\n",
       "      <td>EUR</td>\n",
       "      <td>85847</td>\n",
       "      <td>ES</td>\n",
       "      <td>100</td>\n",
       "      <td>ES</td>\n",
       "      <td>L</td>\n",
       "    </tr>\n",
       "    <tr>\n",
       "      <th>1</th>\n",
       "      <td>2023</td>\n",
       "      <td>MI</td>\n",
       "      <td>CT</td>\n",
       "      <td>ML Engineer</td>\n",
       "      <td>30000</td>\n",
       "      <td>USD</td>\n",
       "      <td>30000</td>\n",
       "      <td>US</td>\n",
       "      <td>100</td>\n",
       "      <td>US</td>\n",
       "      <td>S</td>\n",
       "    </tr>\n",
       "    <tr>\n",
       "      <th>2</th>\n",
       "      <td>2023</td>\n",
       "      <td>MI</td>\n",
       "      <td>CT</td>\n",
       "      <td>ML Engineer</td>\n",
       "      <td>25500</td>\n",
       "      <td>USD</td>\n",
       "      <td>25500</td>\n",
       "      <td>US</td>\n",
       "      <td>100</td>\n",
       "      <td>US</td>\n",
       "      <td>S</td>\n",
       "    </tr>\n",
       "    <tr>\n",
       "      <th>3</th>\n",
       "      <td>2023</td>\n",
       "      <td>SE</td>\n",
       "      <td>FT</td>\n",
       "      <td>Data Scientist</td>\n",
       "      <td>175000</td>\n",
       "      <td>USD</td>\n",
       "      <td>175000</td>\n",
       "      <td>CA</td>\n",
       "      <td>100</td>\n",
       "      <td>CA</td>\n",
       "      <td>M</td>\n",
       "    </tr>\n",
       "    <tr>\n",
       "      <th>4</th>\n",
       "      <td>2023</td>\n",
       "      <td>SE</td>\n",
       "      <td>FT</td>\n",
       "      <td>Data Scientist</td>\n",
       "      <td>120000</td>\n",
       "      <td>USD</td>\n",
       "      <td>120000</td>\n",
       "      <td>CA</td>\n",
       "      <td>100</td>\n",
       "      <td>CA</td>\n",
       "      <td>M</td>\n",
       "    </tr>\n",
       "    <tr>\n",
       "      <th>...</th>\n",
       "      <td>...</td>\n",
       "      <td>...</td>\n",
       "      <td>...</td>\n",
       "      <td>...</td>\n",
       "      <td>...</td>\n",
       "      <td>...</td>\n",
       "      <td>...</td>\n",
       "      <td>...</td>\n",
       "      <td>...</td>\n",
       "      <td>...</td>\n",
       "      <td>...</td>\n",
       "    </tr>\n",
       "    <tr>\n",
       "      <th>3750</th>\n",
       "      <td>2020</td>\n",
       "      <td>SE</td>\n",
       "      <td>FT</td>\n",
       "      <td>Data Scientist</td>\n",
       "      <td>412000</td>\n",
       "      <td>USD</td>\n",
       "      <td>412000</td>\n",
       "      <td>US</td>\n",
       "      <td>100</td>\n",
       "      <td>US</td>\n",
       "      <td>L</td>\n",
       "    </tr>\n",
       "    <tr>\n",
       "      <th>3751</th>\n",
       "      <td>2021</td>\n",
       "      <td>MI</td>\n",
       "      <td>FT</td>\n",
       "      <td>Principal Data Scientist</td>\n",
       "      <td>151000</td>\n",
       "      <td>USD</td>\n",
       "      <td>151000</td>\n",
       "      <td>US</td>\n",
       "      <td>100</td>\n",
       "      <td>US</td>\n",
       "      <td>L</td>\n",
       "    </tr>\n",
       "    <tr>\n",
       "      <th>3752</th>\n",
       "      <td>2020</td>\n",
       "      <td>EN</td>\n",
       "      <td>FT</td>\n",
       "      <td>Data Scientist</td>\n",
       "      <td>105000</td>\n",
       "      <td>USD</td>\n",
       "      <td>105000</td>\n",
       "      <td>US</td>\n",
       "      <td>100</td>\n",
       "      <td>US</td>\n",
       "      <td>S</td>\n",
       "    </tr>\n",
       "    <tr>\n",
       "      <th>3753</th>\n",
       "      <td>2020</td>\n",
       "      <td>EN</td>\n",
       "      <td>CT</td>\n",
       "      <td>Business Data Analyst</td>\n",
       "      <td>100000</td>\n",
       "      <td>USD</td>\n",
       "      <td>100000</td>\n",
       "      <td>US</td>\n",
       "      <td>100</td>\n",
       "      <td>US</td>\n",
       "      <td>L</td>\n",
       "    </tr>\n",
       "    <tr>\n",
       "      <th>3754</th>\n",
       "      <td>2021</td>\n",
       "      <td>SE</td>\n",
       "      <td>FT</td>\n",
       "      <td>Data Science Manager</td>\n",
       "      <td>7000000</td>\n",
       "      <td>INR</td>\n",
       "      <td>94665</td>\n",
       "      <td>IN</td>\n",
       "      <td>50</td>\n",
       "      <td>IN</td>\n",
       "      <td>L</td>\n",
       "    </tr>\n",
       "  </tbody>\n",
       "</table>\n",
       "<p>3755 rows × 11 columns</p>\n",
       "</div>"
      ],
      "text/plain": [
       "      work_year experience_level employment_type                 job_title  \\\n",
       "0          2023               SE              FT  Principal Data Scientist   \n",
       "1          2023               MI              CT               ML Engineer   \n",
       "2          2023               MI              CT               ML Engineer   \n",
       "3          2023               SE              FT            Data Scientist   \n",
       "4          2023               SE              FT            Data Scientist   \n",
       "...         ...              ...             ...                       ...   \n",
       "3750       2020               SE              FT            Data Scientist   \n",
       "3751       2021               MI              FT  Principal Data Scientist   \n",
       "3752       2020               EN              FT            Data Scientist   \n",
       "3753       2020               EN              CT     Business Data Analyst   \n",
       "3754       2021               SE              FT      Data Science Manager   \n",
       "\n",
       "       salary salary_currency  salary_in_usd employee_residence  remote_ratio  \\\n",
       "0       80000             EUR          85847                 ES           100   \n",
       "1       30000             USD          30000                 US           100   \n",
       "2       25500             USD          25500                 US           100   \n",
       "3      175000             USD         175000                 CA           100   \n",
       "4      120000             USD         120000                 CA           100   \n",
       "...       ...             ...            ...                ...           ...   \n",
       "3750   412000             USD         412000                 US           100   \n",
       "3751   151000             USD         151000                 US           100   \n",
       "3752   105000             USD         105000                 US           100   \n",
       "3753   100000             USD         100000                 US           100   \n",
       "3754  7000000             INR          94665                 IN            50   \n",
       "\n",
       "     company_location company_size  \n",
       "0                  ES            L  \n",
       "1                  US            S  \n",
       "2                  US            S  \n",
       "3                  CA            M  \n",
       "4                  CA            M  \n",
       "...               ...          ...  \n",
       "3750               US            L  \n",
       "3751               US            L  \n",
       "3752               US            S  \n",
       "3753               US            L  \n",
       "3754               IN            L  \n",
       "\n",
       "[3755 rows x 11 columns]"
      ]
     },
     "execution_count": 2,
     "metadata": {},
     "output_type": "execute_result"
    }
   ],
   "source": [
    "data=pd.read_csv('./ds_salaries.csv')\n",
    "data"
   ]
  },
  {
   "cell_type": "code",
   "execution_count": 3,
   "id": "97412425",
   "metadata": {},
   "outputs": [
    {
     "data": {
      "text/plain": [
       "0        85847\n",
       "1        30000\n",
       "2        25500\n",
       "3       175000\n",
       "4       120000\n",
       "         ...  \n",
       "3750    412000\n",
       "3751    151000\n",
       "3752    105000\n",
       "3753    100000\n",
       "3754     94665\n",
       "Name: salary_in_usd, Length: 3755, dtype: int64"
      ]
     },
     "execution_count": 3,
     "metadata": {},
     "output_type": "execute_result"
    }
   ],
   "source": [
    "salaries_usd=data['salary_in_usd'].copy()\n",
    "salaries_usd"
   ]
  },
  {
   "cell_type": "code",
   "execution_count": 4,
   "id": "35953aae",
   "metadata": {},
   "outputs": [
    {
     "data": {
      "text/html": [
       "<div>\n",
       "<style scoped>\n",
       "    .dataframe tbody tr th:only-of-type {\n",
       "        vertical-align: middle;\n",
       "    }\n",
       "\n",
       "    .dataframe tbody tr th {\n",
       "        vertical-align: top;\n",
       "    }\n",
       "\n",
       "    .dataframe thead th {\n",
       "        text-align: right;\n",
       "    }\n",
       "</style>\n",
       "<table border=\"1\" class=\"dataframe\">\n",
       "  <thead>\n",
       "    <tr style=\"text-align: right;\">\n",
       "      <th></th>\n",
       "      <th>work_year</th>\n",
       "      <th>experience_level</th>\n",
       "      <th>employment_type</th>\n",
       "      <th>job_title</th>\n",
       "      <th>salary</th>\n",
       "      <th>salary_currency</th>\n",
       "      <th>employee_residence</th>\n",
       "      <th>remote_ratio</th>\n",
       "      <th>company_location</th>\n",
       "      <th>company_size</th>\n",
       "    </tr>\n",
       "  </thead>\n",
       "  <tbody>\n",
       "    <tr>\n",
       "      <th>0</th>\n",
       "      <td>2023</td>\n",
       "      <td>SE</td>\n",
       "      <td>FT</td>\n",
       "      <td>Principal Data Scientist</td>\n",
       "      <td>80000</td>\n",
       "      <td>EUR</td>\n",
       "      <td>ES</td>\n",
       "      <td>100</td>\n",
       "      <td>ES</td>\n",
       "      <td>L</td>\n",
       "    </tr>\n",
       "    <tr>\n",
       "      <th>1</th>\n",
       "      <td>2023</td>\n",
       "      <td>MI</td>\n",
       "      <td>CT</td>\n",
       "      <td>ML Engineer</td>\n",
       "      <td>30000</td>\n",
       "      <td>USD</td>\n",
       "      <td>US</td>\n",
       "      <td>100</td>\n",
       "      <td>US</td>\n",
       "      <td>S</td>\n",
       "    </tr>\n",
       "    <tr>\n",
       "      <th>2</th>\n",
       "      <td>2023</td>\n",
       "      <td>MI</td>\n",
       "      <td>CT</td>\n",
       "      <td>ML Engineer</td>\n",
       "      <td>25500</td>\n",
       "      <td>USD</td>\n",
       "      <td>US</td>\n",
       "      <td>100</td>\n",
       "      <td>US</td>\n",
       "      <td>S</td>\n",
       "    </tr>\n",
       "    <tr>\n",
       "      <th>3</th>\n",
       "      <td>2023</td>\n",
       "      <td>SE</td>\n",
       "      <td>FT</td>\n",
       "      <td>Data Scientist</td>\n",
       "      <td>175000</td>\n",
       "      <td>USD</td>\n",
       "      <td>CA</td>\n",
       "      <td>100</td>\n",
       "      <td>CA</td>\n",
       "      <td>M</td>\n",
       "    </tr>\n",
       "    <tr>\n",
       "      <th>4</th>\n",
       "      <td>2023</td>\n",
       "      <td>SE</td>\n",
       "      <td>FT</td>\n",
       "      <td>Data Scientist</td>\n",
       "      <td>120000</td>\n",
       "      <td>USD</td>\n",
       "      <td>CA</td>\n",
       "      <td>100</td>\n",
       "      <td>CA</td>\n",
       "      <td>M</td>\n",
       "    </tr>\n",
       "    <tr>\n",
       "      <th>...</th>\n",
       "      <td>...</td>\n",
       "      <td>...</td>\n",
       "      <td>...</td>\n",
       "      <td>...</td>\n",
       "      <td>...</td>\n",
       "      <td>...</td>\n",
       "      <td>...</td>\n",
       "      <td>...</td>\n",
       "      <td>...</td>\n",
       "      <td>...</td>\n",
       "    </tr>\n",
       "    <tr>\n",
       "      <th>3750</th>\n",
       "      <td>2020</td>\n",
       "      <td>SE</td>\n",
       "      <td>FT</td>\n",
       "      <td>Data Scientist</td>\n",
       "      <td>412000</td>\n",
       "      <td>USD</td>\n",
       "      <td>US</td>\n",
       "      <td>100</td>\n",
       "      <td>US</td>\n",
       "      <td>L</td>\n",
       "    </tr>\n",
       "    <tr>\n",
       "      <th>3751</th>\n",
       "      <td>2021</td>\n",
       "      <td>MI</td>\n",
       "      <td>FT</td>\n",
       "      <td>Principal Data Scientist</td>\n",
       "      <td>151000</td>\n",
       "      <td>USD</td>\n",
       "      <td>US</td>\n",
       "      <td>100</td>\n",
       "      <td>US</td>\n",
       "      <td>L</td>\n",
       "    </tr>\n",
       "    <tr>\n",
       "      <th>3752</th>\n",
       "      <td>2020</td>\n",
       "      <td>EN</td>\n",
       "      <td>FT</td>\n",
       "      <td>Data Scientist</td>\n",
       "      <td>105000</td>\n",
       "      <td>USD</td>\n",
       "      <td>US</td>\n",
       "      <td>100</td>\n",
       "      <td>US</td>\n",
       "      <td>S</td>\n",
       "    </tr>\n",
       "    <tr>\n",
       "      <th>3753</th>\n",
       "      <td>2020</td>\n",
       "      <td>EN</td>\n",
       "      <td>CT</td>\n",
       "      <td>Business Data Analyst</td>\n",
       "      <td>100000</td>\n",
       "      <td>USD</td>\n",
       "      <td>US</td>\n",
       "      <td>100</td>\n",
       "      <td>US</td>\n",
       "      <td>L</td>\n",
       "    </tr>\n",
       "    <tr>\n",
       "      <th>3754</th>\n",
       "      <td>2021</td>\n",
       "      <td>SE</td>\n",
       "      <td>FT</td>\n",
       "      <td>Data Science Manager</td>\n",
       "      <td>7000000</td>\n",
       "      <td>INR</td>\n",
       "      <td>IN</td>\n",
       "      <td>50</td>\n",
       "      <td>IN</td>\n",
       "      <td>L</td>\n",
       "    </tr>\n",
       "  </tbody>\n",
       "</table>\n",
       "<p>3755 rows × 10 columns</p>\n",
       "</div>"
      ],
      "text/plain": [
       "      work_year experience_level employment_type                 job_title  \\\n",
       "0          2023               SE              FT  Principal Data Scientist   \n",
       "1          2023               MI              CT               ML Engineer   \n",
       "2          2023               MI              CT               ML Engineer   \n",
       "3          2023               SE              FT            Data Scientist   \n",
       "4          2023               SE              FT            Data Scientist   \n",
       "...         ...              ...             ...                       ...   \n",
       "3750       2020               SE              FT            Data Scientist   \n",
       "3751       2021               MI              FT  Principal Data Scientist   \n",
       "3752       2020               EN              FT            Data Scientist   \n",
       "3753       2020               EN              CT     Business Data Analyst   \n",
       "3754       2021               SE              FT      Data Science Manager   \n",
       "\n",
       "       salary salary_currency employee_residence  remote_ratio  \\\n",
       "0       80000             EUR                 ES           100   \n",
       "1       30000             USD                 US           100   \n",
       "2       25500             USD                 US           100   \n",
       "3      175000             USD                 CA           100   \n",
       "4      120000             USD                 CA           100   \n",
       "...       ...             ...                ...           ...   \n",
       "3750   412000             USD                 US           100   \n",
       "3751   151000             USD                 US           100   \n",
       "3752   105000             USD                 US           100   \n",
       "3753   100000             USD                 US           100   \n",
       "3754  7000000             INR                 IN            50   \n",
       "\n",
       "     company_location company_size  \n",
       "0                  ES            L  \n",
       "1                  US            S  \n",
       "2                  US            S  \n",
       "3                  CA            M  \n",
       "4                  CA            M  \n",
       "...               ...          ...  \n",
       "3750               US            L  \n",
       "3751               US            L  \n",
       "3752               US            S  \n",
       "3753               US            L  \n",
       "3754               IN            L  \n",
       "\n",
       "[3755 rows x 10 columns]"
      ]
     },
     "execution_count": 4,
     "metadata": {},
     "output_type": "execute_result"
    }
   ],
   "source": [
    "data_to_process=data.drop(columns=['salary_in_usd'])\n",
    "data_to_process"
   ]
  },
  {
   "cell_type": "code",
   "execution_count": null,
   "id": "326f137b",
   "metadata": {},
   "outputs": [],
   "source": []
  },
  {
   "cell_type": "code",
   "execution_count": 5,
   "id": "856a082c",
   "metadata": {},
   "outputs": [
    {
     "data": {
      "text/html": [
       "<div>\n",
       "<style scoped>\n",
       "    .dataframe tbody tr th:only-of-type {\n",
       "        vertical-align: middle;\n",
       "    }\n",
       "\n",
       "    .dataframe tbody tr th {\n",
       "        vertical-align: top;\n",
       "    }\n",
       "\n",
       "    .dataframe thead th {\n",
       "        text-align: right;\n",
       "    }\n",
       "</style>\n",
       "<table border=\"1\" class=\"dataframe\">\n",
       "  <thead>\n",
       "    <tr style=\"text-align: right;\">\n",
       "      <th></th>\n",
       "      <th>work_year</th>\n",
       "      <th>experience_level</th>\n",
       "      <th>employment_type</th>\n",
       "      <th>job_title</th>\n",
       "      <th>employee_residence</th>\n",
       "      <th>remote_ratio</th>\n",
       "      <th>company_location</th>\n",
       "      <th>company_size</th>\n",
       "    </tr>\n",
       "  </thead>\n",
       "  <tbody>\n",
       "    <tr>\n",
       "      <th>0</th>\n",
       "      <td>2023</td>\n",
       "      <td>SE</td>\n",
       "      <td>FT</td>\n",
       "      <td>Principal Data Scientist</td>\n",
       "      <td>ES</td>\n",
       "      <td>100</td>\n",
       "      <td>ES</td>\n",
       "      <td>L</td>\n",
       "    </tr>\n",
       "    <tr>\n",
       "      <th>1</th>\n",
       "      <td>2023</td>\n",
       "      <td>MI</td>\n",
       "      <td>CT</td>\n",
       "      <td>ML Engineer</td>\n",
       "      <td>US</td>\n",
       "      <td>100</td>\n",
       "      <td>US</td>\n",
       "      <td>S</td>\n",
       "    </tr>\n",
       "    <tr>\n",
       "      <th>2</th>\n",
       "      <td>2023</td>\n",
       "      <td>MI</td>\n",
       "      <td>CT</td>\n",
       "      <td>ML Engineer</td>\n",
       "      <td>US</td>\n",
       "      <td>100</td>\n",
       "      <td>US</td>\n",
       "      <td>S</td>\n",
       "    </tr>\n",
       "    <tr>\n",
       "      <th>3</th>\n",
       "      <td>2023</td>\n",
       "      <td>SE</td>\n",
       "      <td>FT</td>\n",
       "      <td>Data Scientist</td>\n",
       "      <td>CA</td>\n",
       "      <td>100</td>\n",
       "      <td>CA</td>\n",
       "      <td>M</td>\n",
       "    </tr>\n",
       "    <tr>\n",
       "      <th>4</th>\n",
       "      <td>2023</td>\n",
       "      <td>SE</td>\n",
       "      <td>FT</td>\n",
       "      <td>Data Scientist</td>\n",
       "      <td>CA</td>\n",
       "      <td>100</td>\n",
       "      <td>CA</td>\n",
       "      <td>M</td>\n",
       "    </tr>\n",
       "    <tr>\n",
       "      <th>...</th>\n",
       "      <td>...</td>\n",
       "      <td>...</td>\n",
       "      <td>...</td>\n",
       "      <td>...</td>\n",
       "      <td>...</td>\n",
       "      <td>...</td>\n",
       "      <td>...</td>\n",
       "      <td>...</td>\n",
       "    </tr>\n",
       "    <tr>\n",
       "      <th>3750</th>\n",
       "      <td>2020</td>\n",
       "      <td>SE</td>\n",
       "      <td>FT</td>\n",
       "      <td>Data Scientist</td>\n",
       "      <td>US</td>\n",
       "      <td>100</td>\n",
       "      <td>US</td>\n",
       "      <td>L</td>\n",
       "    </tr>\n",
       "    <tr>\n",
       "      <th>3751</th>\n",
       "      <td>2021</td>\n",
       "      <td>MI</td>\n",
       "      <td>FT</td>\n",
       "      <td>Principal Data Scientist</td>\n",
       "      <td>US</td>\n",
       "      <td>100</td>\n",
       "      <td>US</td>\n",
       "      <td>L</td>\n",
       "    </tr>\n",
       "    <tr>\n",
       "      <th>3752</th>\n",
       "      <td>2020</td>\n",
       "      <td>EN</td>\n",
       "      <td>FT</td>\n",
       "      <td>Data Scientist</td>\n",
       "      <td>US</td>\n",
       "      <td>100</td>\n",
       "      <td>US</td>\n",
       "      <td>S</td>\n",
       "    </tr>\n",
       "    <tr>\n",
       "      <th>3753</th>\n",
       "      <td>2020</td>\n",
       "      <td>EN</td>\n",
       "      <td>CT</td>\n",
       "      <td>Business Data Analyst</td>\n",
       "      <td>US</td>\n",
       "      <td>100</td>\n",
       "      <td>US</td>\n",
       "      <td>L</td>\n",
       "    </tr>\n",
       "    <tr>\n",
       "      <th>3754</th>\n",
       "      <td>2021</td>\n",
       "      <td>SE</td>\n",
       "      <td>FT</td>\n",
       "      <td>Data Science Manager</td>\n",
       "      <td>IN</td>\n",
       "      <td>50</td>\n",
       "      <td>IN</td>\n",
       "      <td>L</td>\n",
       "    </tr>\n",
       "  </tbody>\n",
       "</table>\n",
       "<p>3755 rows × 8 columns</p>\n",
       "</div>"
      ],
      "text/plain": [
       "      work_year experience_level employment_type                 job_title  \\\n",
       "0          2023               SE              FT  Principal Data Scientist   \n",
       "1          2023               MI              CT               ML Engineer   \n",
       "2          2023               MI              CT               ML Engineer   \n",
       "3          2023               SE              FT            Data Scientist   \n",
       "4          2023               SE              FT            Data Scientist   \n",
       "...         ...              ...             ...                       ...   \n",
       "3750       2020               SE              FT            Data Scientist   \n",
       "3751       2021               MI              FT  Principal Data Scientist   \n",
       "3752       2020               EN              FT            Data Scientist   \n",
       "3753       2020               EN              CT     Business Data Analyst   \n",
       "3754       2021               SE              FT      Data Science Manager   \n",
       "\n",
       "     employee_residence  remote_ratio company_location company_size  \n",
       "0                    ES           100               ES            L  \n",
       "1                    US           100               US            S  \n",
       "2                    US           100               US            S  \n",
       "3                    CA           100               CA            M  \n",
       "4                    CA           100               CA            M  \n",
       "...                 ...           ...              ...          ...  \n",
       "3750                 US           100               US            L  \n",
       "3751                 US           100               US            L  \n",
       "3752                 US           100               US            S  \n",
       "3753                 US           100               US            L  \n",
       "3754                 IN            50               IN            L  \n",
       "\n",
       "[3755 rows x 8 columns]"
      ]
     },
     "execution_count": 5,
     "metadata": {},
     "output_type": "execute_result"
    }
   ],
   "source": [
    "data_of_interest=data_to_process.drop(columns=['salary','salary_currency']).copy()\n",
    "data_of_interest"
   ]
  },
  {
   "cell_type": "markdown",
   "id": "f38dc98b",
   "metadata": {},
   "source": [
    "# work_year"
   ]
  },
  {
   "cell_type": "code",
   "execution_count": 6,
   "id": "6ff26f77",
   "metadata": {},
   "outputs": [
    {
     "data": {
      "text/plain": [
       "<Axes: ylabel='Frequency'>"
      ]
     },
     "execution_count": 6,
     "metadata": {},
     "output_type": "execute_result"
    },
    {
     "data": {
      "image/png": "[encoded data removed]",
      "text/plain": [
       "<Figure size 640x480 with 1 Axes>"
      ]
     },
     "metadata": {},
     "output_type": "display_data"
    }
   ],
   "source": [
    "data_of_interest['work_year'].plot.hist()"
   ]
  },
  {
   "cell_type": "markdown",
   "id": "1ed6d881",
   "metadata": {},
   "source": [
    "# experience_level"
   ]
  },
  {
   "cell_type": "code",
   "execution_count": 7,
   "id": "5beb5308",
   "metadata": {},
   "outputs": [
    {
     "data": {
      "text/plain": [
       "<Axes: >"
      ]
     },
     "execution_count": 7,
     "metadata": {},
     "output_type": "execute_result"
    },
    {
     "data": {
      "image/png": "[encoded data removed]",
      "text/plain": [
       "<Figure size 640x480 with 1 Axes>"
      ]
     },
     "metadata": {},
     "output_type": "display_data"
    }
   ],
   "source": [
    "data_of_interest['experience_level'].hist()"
   ]
  },
  {
   "cell_type": "markdown",
   "id": "a002ce27",
   "metadata": {},
   "source": [
    "# job_title"
   ]
  },
  {
   "cell_type": "code",
   "execution_count": 8,
   "id": "1d42f8ba",
   "metadata": {},
   "outputs": [
    {
     "data": {
      "text/plain": [
       "count              3755\n",
       "unique               93\n",
       "top       Data Engineer\n",
       "freq               1040\n",
       "Name: job_title, dtype: object"
      ]
     },
     "execution_count": 8,
     "metadata": {},
     "output_type": "execute_result"
    }
   ],
   "source": [
    "data_of_interest['job_title'].describe()"
   ]
  },
  {
   "cell_type": "markdown",
   "id": "c89d07cd",
   "metadata": {},
   "source": [
    "# employee_residence"
   ]
  },
  {
   "cell_type": "code",
   "execution_count": null,
   "id": "090e73f0",
   "metadata": {},
   "outputs": [],
   "source": []
  },
  {
   "cell_type": "markdown",
   "id": "94170e4d",
   "metadata": {},
   "source": [
    "# company_location"
   ]
  },
  {
   "cell_type": "code",
   "execution_count": 9,
   "id": "939bddbb",
   "metadata": {},
   "outputs": [
    {
     "data": {
      "text/plain": [
       "<Axes: >"
      ]
     },
     "execution_count": 9,
     "metadata": {},
     "output_type": "execute_result"
    },
    {
     "data": {
      "image/png": "[encoded data removed]",
      "text/plain": [
       "<Figure size 640x480 with 1 Axes>"
      ]
     },
     "metadata": {},
     "output_type": "display_data"
    }
   ],
   "source": [
    "data_of_interest['company_location'].hist()"
   ]
  },
  {
   "cell_type": "code",
   "execution_count": 10,
   "id": "f5bfed2e",
   "metadata": {},
   "outputs": [
    {
     "data": {
      "text/plain": [
       "US    3040\n",
       "GB     172\n",
       "CA      87\n",
       "ES      77\n",
       "IN      58\n",
       "DE      56\n",
       "FR      34\n",
       "Name: company_location, dtype: int64"
      ]
     },
     "execution_count": 10,
     "metadata": {},
     "output_type": "execute_result"
    }
   ],
   "source": [
    "count = data_of_interest['company_location'].value_counts()\n",
    "\n",
    "filtered = count[count > 15]\n",
    "filtered"
   ]
  },
  {
   "cell_type": "code",
   "execution_count": 11,
   "id": "26946c51",
   "metadata": {},
   "outputs": [],
   "source": [
    "data_of_interest = data_of_interest.loc[data_of_interest['company_location'].isin(filtered.index), :]"
   ]
  },
  {
   "cell_type": "code",
   "execution_count": 12,
   "id": "9b852d26",
   "metadata": {},
   "outputs": [
    {
     "data": {
      "text/plain": [
       "0       ES\n",
       "1       US\n",
       "2       US\n",
       "3       CA\n",
       "4       CA\n",
       "        ..\n",
       "3750    US\n",
       "3751    US\n",
       "3752    US\n",
       "3753    US\n",
       "3754    IN\n",
       "Name: company_location, Length: 3524, dtype: object"
      ]
     },
     "execution_count": 12,
     "metadata": {},
     "output_type": "execute_result"
    }
   ],
   "source": [
    "data_of_interest['company_location']"
   ]
  },
  {
   "cell_type": "code",
   "execution_count": 13,
   "id": "4f17f8c5",
   "metadata": {},
   "outputs": [
    {
     "data": {
      "text/plain": [
       "<Axes: >"
      ]
     },
     "execution_count": 13,
     "metadata": {},
     "output_type": "execute_result"
    },
    {
     "data": {
      "image/png": "[encoded data removed]",
      "text/plain": [
       "<Figure size 640x480 with 1 Axes>"
      ]
     },
     "metadata": {},
     "output_type": "display_data"
    }
   ],
   "source": [
    "data_of_interest['company_location'].hist()"
   ]
  },
  {
   "cell_type": "code",
   "execution_count": 14,
   "id": "b6e42335",
   "metadata": {},
   "outputs": [
    {
     "data": {
      "text/plain": [
       "<Axes: >"
      ]
     },
     "execution_count": 14,
     "metadata": {},
     "output_type": "execute_result"
    },
    {
     "data": {
      "image/png": "[encoded data removed]",
      "text/plain": [
       "<Figure size 640x480 with 1 Axes>"
      ]
     },
     "metadata": {},
     "output_type": "display_data"
    }
   ],
   "source": [
    "data_of_interest['employee_residence'].hist()"
   ]
  },
  {
   "cell_type": "code",
   "execution_count": 15,
   "id": "cc9ec415",
   "metadata": {},
   "outputs": [
    {
     "data": {
      "text/plain": [
       "US    3002\n",
       "GB     167\n",
       "CA      84\n",
       "ES      79\n",
       "IN      64\n",
       "DE      47\n",
       "FR      37\n",
       "Name: employee_residence, dtype: int64"
      ]
     },
     "execution_count": 15,
     "metadata": {},
     "output_type": "execute_result"
    }
   ],
   "source": [
    "count = data_of_interest['employee_residence'].value_counts()\n",
    "\n",
    "filtered = count[count > 30]\n",
    "filtered"
   ]
  },
  {
   "cell_type": "code",
   "execution_count": 16,
   "id": "dbcf4e2c",
   "metadata": {},
   "outputs": [
    {
     "data": {
      "text/plain": [
       "<Axes: >"
      ]
     },
     "execution_count": 16,
     "metadata": {},
     "output_type": "execute_result"
    },
    {
     "data": {
      "image/png": "[encoded data removed]",
      "text/plain": [
       "<Figure size 640x480 with 1 Axes>"
      ]
     },
     "metadata": {},
     "output_type": "display_data"
    }
   ],
   "source": [
    "data_of_interest = data_of_interest.loc[data_of_interest['employee_residence'].isin(filtered.index), :]\n",
    "data_of_interest['employee_residence'].hist()"
   ]
  },
  {
   "cell_type": "markdown",
   "id": "44ed9513",
   "metadata": {},
   "source": [
    "# remote_ratio"
   ]
  },
  {
   "cell_type": "code",
   "execution_count": 17,
   "id": "8ffa4294",
   "metadata": {},
   "outputs": [
    {
     "data": {
      "text/plain": [
       "<Axes: ylabel='Frequency'>"
      ]
     },
     "execution_count": 17,
     "metadata": {},
     "output_type": "execute_result"
    },
    {
     "data": {
      "image/png": "[encoded data removed]",
      "text/plain": [
       "<Figure size 640x480 with 1 Axes>"
      ]
     },
     "metadata": {},
     "output_type": "display_data"
    }
   ],
   "source": [
    "data_of_interest['remote_ratio'].plot.hist()"
   ]
  },
  {
   "cell_type": "markdown",
   "id": "7621d99a",
   "metadata": {},
   "source": [
    "# company_size"
   ]
  },
  {
   "cell_type": "code",
   "execution_count": 18,
   "id": "4fea4580",
   "metadata": {},
   "outputs": [
    {
     "data": {
      "text/plain": [
       "<Axes: >"
      ]
     },
     "execution_count": 18,
     "metadata": {},
     "output_type": "execute_result"
    },
    {
     "data": {
      "image/png": "[encoded data removed]",
      "text/plain": [
       "<Figure size 640x480 with 1 Axes>"
      ]
     },
     "metadata": {},
     "output_type": "display_data"
    }
   ],
   "source": [
    "data_of_interest['company_size'].hist()"
   ]
  },
  {
   "cell_type": "markdown",
   "id": "c0936856",
   "metadata": {},
   "source": [
    "# salary"
   ]
  },
  {
   "cell_type": "code",
   "execution_count": 19,
   "id": "ec3aa4d2",
   "metadata": {},
   "outputs": [
    {
     "data": {
      "text/plain": [
       "<Axes: ylabel='Frequency'>"
      ]
     },
     "execution_count": 19,
     "metadata": {},
     "output_type": "execute_result"
    },
    {
     "data": {
      "image/png": "[encoded data removed]",
      "text/plain": [
       "<Figure size 640x480 with 1 Axes>"
      ]
     },
     "metadata": {},
     "output_type": "display_data"
    }
   ],
   "source": [
    "data_to_process['salary'].plot.hist()"
   ]
  },
  {
   "cell_type": "code",
   "execution_count": 20,
   "id": "266676df",
   "metadata": {},
   "outputs": [
    {
     "data": {
      "text/plain": [
       "True     3670\n",
       "False      85\n",
       "Name: salary, dtype: int64"
      ]
     },
     "execution_count": 20,
     "metadata": {},
     "output_type": "execute_result"
    }
   ],
   "source": [
    "linhas_normais = data_to_process['salary'] <= 350000\n",
    "linhas_normais.value_counts()"
   ]
  },
  {
   "cell_type": "code",
   "execution_count": 21,
   "id": "22bcd3bc",
   "metadata": {},
   "outputs": [],
   "source": [
    "data_to_process = data_to_process[linhas_normais]"
   ]
  },
  {
   "cell_type": "code",
   "execution_count": 22,
   "id": "2718e2df",
   "metadata": {},
   "outputs": [
    {
     "data": {
      "text/plain": [
       "<Axes: ylabel='Frequency'>"
      ]
     },
     "execution_count": 22,
     "metadata": {},
     "output_type": "execute_result"
    },
    {
     "data": {
      "image/png": "[encoded data removed]",
      "text/plain": [
       "<Figure size 640x480 with 1 Axes>"
      ]
     },
     "metadata": {},
     "output_type": "display_data"
    }
   ],
   "source": [
    "data_to_process['salary'].plot.hist()"
   ]
  },
  {
   "cell_type": "code",
   "execution_count": 23,
   "id": "bcbde06a",
   "metadata": {},
   "outputs": [],
   "source": [
    "#data_to_process['log_salary'] = np.sqrt(data_to_process['salary'])"
   ]
  },
  {
   "cell_type": "code",
   "execution_count": 24,
   "id": "2e758cd3",
   "metadata": {},
   "outputs": [],
   "source": [
    "#data_to_process['log_salary'].plot.hist()"
   ]
  },
  {
   "cell_type": "code",
   "execution_count": 26,
   "id": "5653bbf3",
   "metadata": {},
   "outputs": [
    {
     "data": {
      "text/plain": [
       "salary    Axes(0.125,0.11;0.775x0.77)\n",
       "dtype: object"
      ]
     },
     "execution_count": 26,
     "metadata": {},
     "output_type": "execute_result"
    },
    {
     "data": {
      "image/png": "[encoded data removed]",
      "text/plain": [
       "<Figure size 640x480 with 1 Axes>"
      ]
     },
     "metadata": {},
     "output_type": "display_data"
    }
   ],
   "source": [
    "data_to_process[['salary', 'experience_level']].plot.box(by='experience_level')"
   ]
  },
  {
   "cell_type": "code",
   "execution_count": 27,
   "id": "4bb043f3",
   "metadata": {},
   "outputs": [],
   "source": [
    "data['job_title'].unique()\n",
    "\n",
    "\n",
    "data.loc[data['job_title'].str.contains('Data Scientist', case=False), 'job_title'] = 'Data Scientist'\n",
    "\n",
    "\n",
    "data.loc[data['job_title'].str.contains('Data Engineer', case=False), 'job_title'] = 'Data Engineer'\n",
    "\n",
    "\n",
    "data.loc[data['job_title'].str.contains('Data Analyst', case=False), 'job_title'] = 'Data Analyst'\n",
    "\n",
    "\n",
    "data.loc[data['job_title'].str.contains('Data Analytics', case=False), 'job_title'] = 'Data Analyst'\n",
    "\n",
    "\n",
    "data.loc[data['job_title'].str.contains('Data Architect', case=False), 'job_title'] = 'Data Architect'\n",
    "\n",
    "data.loc[data['job_title'].str.contains('Data Science', case=False), 'job_title'] = 'Data Scientist'\n",
    "\n",
    "\n",
    "data.loc[data['job_title'].str.contains('Machine Learning Engineer', case=False), 'job_title'] = 'Machine Learning Engineer'\n",
    "\n",
    "data.loc[data['job_title'].str.contains('Computer Vision', case=False), 'job_title'] = 'Machine Learning Engineer'\n",
    "\n",
    "data.loc[data['job_title'].str.contains('ML Engineer', case=False), 'job_title'] = 'Machine Learning Engineer'\n",
    "\n",
    "data.loc[data['job_title'].str.contains('AI Scientist', case=False), 'job_title'] = 'AI Scientist'\n",
    "\n",
    "\n",
    "data.loc[data['job_title'].str.contains('Machine Learning Developer', case=False), 'job_title'] = 'AI Developer'\n",
    "\n",
    "\n",
    "data.loc[data['job_title'].str.contains('Power BI Developer', case=False), 'job_title'] = 'BI Developer'\n",
    "\n",
    "\n",
    "data.loc[data['job_title'].str.contains('Machine Learning Software Engineer', case=False), 'job_title'] = 'Machine Learning Engineer'\n",
    "\n",
    "\n",
    "data.loc[data['job_title'].str.contains('Machine Learning Research Engineer', case=False), 'job_title'] = 'Machine Learning Engineer'\n",
    "\n",
    "\n",
    "data.loc[data['job_title'].str.contains('Deep Learning Engineer', case=False), 'job_title'] = 'Machine Learning Engineer'\n",
    "\n",
    "\n",
    "data.loc[data['job_title'].str.contains('Deep Learning Engineer', case=False), 'job_title'] = 'Machine Learning Engineer'\n",
    "\n",
    "\n",
    "data.loc[data['job_title'].str.contains('Data Operations Engineer', case=False), 'job_title'] = 'Data Engineer'\n",
    "\n",
    "\n",
    "data.loc[data['job_title'].str.contains('Data DevOps Engineer', case=False), 'job_title'] = 'Data Engineer'\n",
    "\n",
    "\n",
    "data.loc[data['job_title'].str.contains('Data Quality Analyst', case=False), 'job_title'] = 'Data Analyst'\n",
    "\n",
    "data.loc[data['job_title'].str.contains('BI Analyst', case=False), 'job_title'] = 'Data Analyst'\n",
    "\n",
    "\n",
    "data.loc[data['job_title'].str.contains('Insight Analyst', case=False), 'job_title'] = 'Data Analyst'\n",
    "\n",
    "\n",
    "data.loc[data['job_title'].str.contains('Data Operations Analyst', case=False), 'job_title'] = 'Data Analyst'\n",
    "\n",
    "\n",
    "data.loc[data['job_title'].str.contains('Applied Machine Learning Scientist', case=False), 'job_title'] = 'Machine Learning Scientist'\n",
    "\n",
    "\n",
    "data.loc[data['job_title'].str.contains('Machine Learning Researcher', case=False), 'job_title'] = 'Machine Learning Scientist'\n",
    "\n",
    "\n",
    "data.loc[data['job_title'].str.contains('Machine Learning Infrastructure Engineer', case=False), 'job_title'] = 'Machine Learning Engineer'\n",
    "\n",
    "\n",
    "data.loc[data['job_title'].str.contains('Data Modeler', case=False), 'job_title'] = 'Data Engineer'\n",
    "\n",
    "\n",
    "data.loc[data['job_title'].str.contains('Data Architect', case=False), 'job_title'] = 'Data Engineer'\n",
    "\n",
    "\n",
    "data.loc[data['job_title'].str.contains('Data Infrastructure Engineer', case=False), 'job_title'] = 'Data Engineer'\n",
    "\n",
    "\n",
    "data.loc[data['job_title'].str.contains('Cloud Database Engineer', case=False), 'job_title'] = 'Data Engineer'\n",
    "\n",
    "\n",
    "data.loc[data['job_title'].str.contains('Applied Scientist', case=False), 'job_title'] = 'Data Scientist'\n",
    "\n",
    "data.loc[data['job_title'].str.contains('BI', case=False), 'job_title'] = 'Business Intelligence'\n",
    "\n",
    "\n",
    "data.loc[data['job_title'].str.contains('Business Intelligence', case=False), 'job_title'] = 'Business Intelligence'\n",
    "\n",
    "\n",
    "data.loc[data['job_title'].str.contains('Deep Learning Researcher', case=False), 'job_title'] = 'Machine Learning Scientist'\n",
    "\n",
    "\n",
    "data.loc[data['job_title'].str.contains('AI Programmer', case=False), 'job_title'] = 'AI Developer'\n",
    "\n",
    "\n",
    "data.loc[data['job_title'].str.contains('NLP Engineer', case=False), 'job_title'] = 'Machine Learning Engineer'\n",
    "\n",
    "\n",
    "data.loc[data['job_title'].str.contains('Data Management Specialist', case=False), 'job_title'] = 'Data Specialist'\n",
    "\n",
    "data.loc[data['job_title'].str.contains('Data Manager', case=False), 'job_title'] = 'Manager Data'\n",
    "\n",
    "data.loc[data['job_title'].str.contains('Head of Data', case=False), 'job_title'] = 'Manager Data'\n",
    "\n",
    "data.loc[data['job_title'].str.contains('Data Lead', case=False), 'job_title'] = 'Manager Data'\n",
    "\n",
    "data.loc[data['job_title'].str.contains('Manager Data Management', case=False), 'job_title'] = 'Manager Data'\n",
    "\n",
    "data.loc[data['job_title'].str.contains('Machine Learning Manager', case=False), 'job_title'] = 'Manager Machine Learning'\n",
    "\n",
    "data.loc[data['job_title'].str.contains('Head of Machine Learning', case=False), 'job_title'] = 'Manager Machine Learning'"
   ]
  },
  {
   "cell_type": "code",
   "execution_count": 28,
   "id": "0c888e37",
   "metadata": {},
   "outputs": [
    {
     "data": {
      "text/plain": [
       "Data Engineer                 1196\n",
       "Data Scientist                1045\n",
       "Data Analyst                   718\n",
       "Machine Learning Engineer      394\n",
       "Analytics Engineer             103\n",
       "Research Scientist              82\n",
       "Machine Learning Scientist      61\n",
       "Manager Data                    42\n",
       "Research Engineer               37\n",
       "AI Developer                    20\n",
       "Business Intelligence           18\n",
       "Data Specialist                 15\n",
       "ETL Developer                   10\n",
       "MLOps Engineer                   4\n",
       "Manager Machine Learning         4\n",
       "ETL Engineer                     2\n",
       "Data Strategist                  2\n",
       "Name: job_title, dtype: int64"
      ]
     },
     "execution_count": 28,
     "metadata": {},
     "output_type": "execute_result"
    }
   ],
   "source": [
    "data.loc[data['job_title'].str.contains('AI Scientist', case=False), 'job_title'] = 'Machine Learning Scientist'\n",
    "\n",
    "data['job_title'].nunique()\n",
    "\n",
    "data = data.drop(data_to_process[data_to_process.job_title == \"Autonomous Vehicle Technician\"].index)\n",
    "\n",
    "data[\"job_title\"].value_counts()"
   ]
  },
  {
   "cell_type": "code",
   "execution_count": null,
   "id": "fca9c12b",
   "metadata": {},
   "outputs": [],
   "source": []
  },
  {
   "cell_type": "code",
   "execution_count": 32,
   "id": "c59da060",
   "metadata": {},
   "outputs": [],
   "source": [
    "data = pd.get_dummies(data, drop_first=True)"
   ]
  },
  {
   "cell_type": "code",
   "execution_count": 33,
   "id": "22973886",
   "metadata": {},
   "outputs": [
    {
     "name": "stdout",
     "output_type": "stream",
     "text": [
      "work_year\n",
      "salary\n",
      "salary_in_usd\n",
      "remote_ratio\n",
      "experience_level_EX\n",
      "experience_level_MI\n",
      "experience_level_SE\n",
      "employment_type_FL\n",
      "employment_type_FT\n",
      "employment_type_PT\n",
      "job_title_Analytics Engineer\n",
      "job_title_Business Intelligence\n",
      "job_title_Data Analyst\n",
      "job_title_Data Engineer\n",
      "job_title_Data Scientist\n",
      "job_title_Data Specialist\n",
      "job_title_Data Strategist\n",
      "job_title_ETL Developer\n",
      "job_title_ETL Engineer\n",
      "job_title_MLOps Engineer\n",
      "job_title_Machine Learning Engineer\n",
      "job_title_Machine Learning Scientist\n",
      "job_title_Manager Data\n",
      "job_title_Manager Machine Learning\n",
      "job_title_Research Engineer\n",
      "job_title_Research Scientist\n",
      "salary_currency_BRL\n",
      "salary_currency_CAD\n",
      "salary_currency_CHF\n",
      "salary_currency_CLP\n",
      "salary_currency_CZK\n",
      "salary_currency_DKK\n",
      "salary_currency_EUR\n",
      "salary_currency_GBP\n",
      "salary_currency_HKD\n",
      "salary_currency_HUF\n",
      "salary_currency_ILS\n",
      "salary_currency_INR\n",
      "salary_currency_JPY\n",
      "salary_currency_MXN\n",
      "salary_currency_PLN\n",
      "salary_currency_SGD\n",
      "salary_currency_THB\n",
      "salary_currency_TRY\n",
      "salary_currency_USD\n",
      "employee_residence_AM\n",
      "employee_residence_AR\n",
      "employee_residence_AS\n",
      "employee_residence_AT\n",
      "employee_residence_AU\n",
      "employee_residence_BA\n",
      "employee_residence_BE\n",
      "employee_residence_BG\n",
      "employee_residence_BO\n",
      "employee_residence_BR\n",
      "employee_residence_CA\n",
      "employee_residence_CF\n",
      "employee_residence_CH\n",
      "employee_residence_CL\n",
      "employee_residence_CN\n",
      "employee_residence_CO\n",
      "employee_residence_CR\n",
      "employee_residence_CY\n",
      "employee_residence_CZ\n",
      "employee_residence_DE\n",
      "employee_residence_DK\n",
      "employee_residence_DO\n",
      "employee_residence_DZ\n",
      "employee_residence_EE\n",
      "employee_residence_EG\n",
      "employee_residence_ES\n",
      "employee_residence_FI\n",
      "employee_residence_FR\n",
      "employee_residence_GB\n",
      "employee_residence_GH\n",
      "employee_residence_GR\n",
      "employee_residence_HK\n",
      "employee_residence_HN\n",
      "employee_residence_HR\n",
      "employee_residence_HU\n",
      "employee_residence_ID\n",
      "employee_residence_IE\n",
      "employee_residence_IL\n",
      "employee_residence_IN\n",
      "employee_residence_IQ\n",
      "employee_residence_IR\n",
      "employee_residence_IT\n",
      "employee_residence_JE\n",
      "employee_residence_JP\n",
      "employee_residence_KE\n",
      "employee_residence_KW\n",
      "employee_residence_LT\n",
      "employee_residence_LU\n",
      "employee_residence_LV\n",
      "employee_residence_MA\n",
      "employee_residence_MD\n",
      "employee_residence_MK\n",
      "employee_residence_MT\n",
      "employee_residence_MX\n",
      "employee_residence_MY\n",
      "employee_residence_NG\n",
      "employee_residence_NL\n",
      "employee_residence_NZ\n",
      "employee_residence_PH\n",
      "employee_residence_PK\n",
      "employee_residence_PL\n",
      "employee_residence_PR\n",
      "employee_residence_PT\n",
      "employee_residence_RO\n",
      "employee_residence_RS\n",
      "employee_residence_RU\n",
      "employee_residence_SE\n",
      "employee_residence_SG\n",
      "employee_residence_SI\n",
      "employee_residence_SK\n",
      "employee_residence_TH\n",
      "employee_residence_TN\n",
      "employee_residence_TR\n",
      "employee_residence_UA\n",
      "employee_residence_US\n",
      "employee_residence_UZ\n",
      "employee_residence_VN\n",
      "company_location_AL\n",
      "company_location_AM\n",
      "company_location_AR\n",
      "company_location_AS\n",
      "company_location_AT\n",
      "company_location_AU\n",
      "company_location_BA\n",
      "company_location_BE\n",
      "company_location_BO\n",
      "company_location_BR\n",
      "company_location_CA\n",
      "company_location_CF\n",
      "company_location_CH\n",
      "company_location_CL\n",
      "company_location_CN\n",
      "company_location_CO\n",
      "company_location_CR\n",
      "company_location_CZ\n",
      "company_location_DE\n",
      "company_location_DK\n",
      "company_location_DZ\n",
      "company_location_EE\n",
      "company_location_EG\n",
      "company_location_ES\n",
      "company_location_FI\n",
      "company_location_FR\n",
      "company_location_GB\n",
      "company_location_GH\n",
      "company_location_GR\n",
      "company_location_HK\n",
      "company_location_HN\n",
      "company_location_HR\n",
      "company_location_HU\n",
      "company_location_ID\n",
      "company_location_IE\n",
      "company_location_IL\n",
      "company_location_IN\n",
      "company_location_IQ\n",
      "company_location_IR\n",
      "company_location_IT\n",
      "company_location_JP\n",
      "company_location_KE\n",
      "company_location_LT\n",
      "company_location_LU\n",
      "company_location_LV\n",
      "company_location_MA\n",
      "company_location_MD\n",
      "company_location_MK\n",
      "company_location_MT\n",
      "company_location_MX\n",
      "company_location_MY\n",
      "company_location_NG\n",
      "company_location_NL\n",
      "company_location_NZ\n",
      "company_location_PH\n",
      "company_location_PK\n",
      "company_location_PL\n",
      "company_location_PR\n",
      "company_location_PT\n",
      "company_location_RO\n",
      "company_location_RU\n",
      "company_location_SE\n",
      "company_location_SG\n",
      "company_location_SI\n",
      "company_location_SK\n",
      "company_location_TH\n",
      "company_location_TR\n",
      "company_location_UA\n",
      "company_location_US\n",
      "company_location_VN\n",
      "company_size_M\n",
      "company_size_S\n"
     ]
    }
   ],
   "source": [
    "for c in data.columns:\n",
    "    print(c)"
   ]
  },
  {
   "cell_type": "code",
   "execution_count": 34,
   "id": "2ecc9a09",
   "metadata": {},
   "outputs": [
    {
     "data": {
      "text/html": [
       "<div>\n",
       "<style scoped>\n",
       "    .dataframe tbody tr th:only-of-type {\n",
       "        vertical-align: middle;\n",
       "    }\n",
       "\n",
       "    .dataframe tbody tr th {\n",
       "        vertical-align: top;\n",
       "    }\n",
       "\n",
       "    .dataframe thead th {\n",
       "        text-align: right;\n",
       "    }\n",
       "</style>\n",
       "<table border=\"1\" class=\"dataframe\">\n",
       "  <thead>\n",
       "    <tr style=\"text-align: right;\">\n",
       "      <th></th>\n",
       "      <th>work_year</th>\n",
       "      <th>salary</th>\n",
       "      <th>salary_in_usd</th>\n",
       "      <th>remote_ratio</th>\n",
       "      <th>experience_level_EX</th>\n",
       "      <th>experience_level_MI</th>\n",
       "      <th>experience_level_SE</th>\n",
       "      <th>employment_type_FL</th>\n",
       "      <th>employment_type_FT</th>\n",
       "      <th>employment_type_PT</th>\n",
       "      <th>...</th>\n",
       "      <th>company_location_SG</th>\n",
       "      <th>company_location_SI</th>\n",
       "      <th>company_location_SK</th>\n",
       "      <th>company_location_TH</th>\n",
       "      <th>company_location_TR</th>\n",
       "      <th>company_location_UA</th>\n",
       "      <th>company_location_US</th>\n",
       "      <th>company_location_VN</th>\n",
       "      <th>company_size_M</th>\n",
       "      <th>company_size_S</th>\n",
       "    </tr>\n",
       "  </thead>\n",
       "  <tbody>\n",
       "    <tr>\n",
       "      <th>0</th>\n",
       "      <td>2023</td>\n",
       "      <td>80000</td>\n",
       "      <td>85847</td>\n",
       "      <td>100</td>\n",
       "      <td>0</td>\n",
       "      <td>0</td>\n",
       "      <td>1</td>\n",
       "      <td>0</td>\n",
       "      <td>1</td>\n",
       "      <td>0</td>\n",
       "      <td>...</td>\n",
       "      <td>0</td>\n",
       "      <td>0</td>\n",
       "      <td>0</td>\n",
       "      <td>0</td>\n",
       "      <td>0</td>\n",
       "      <td>0</td>\n",
       "      <td>0</td>\n",
       "      <td>0</td>\n",
       "      <td>0</td>\n",
       "      <td>0</td>\n",
       "    </tr>\n",
       "    <tr>\n",
       "      <th>1</th>\n",
       "      <td>2023</td>\n",
       "      <td>30000</td>\n",
       "      <td>30000</td>\n",
       "      <td>100</td>\n",
       "      <td>0</td>\n",
       "      <td>1</td>\n",
       "      <td>0</td>\n",
       "      <td>0</td>\n",
       "      <td>0</td>\n",
       "      <td>0</td>\n",
       "      <td>...</td>\n",
       "      <td>0</td>\n",
       "      <td>0</td>\n",
       "      <td>0</td>\n",
       "      <td>0</td>\n",
       "      <td>0</td>\n",
       "      <td>0</td>\n",
       "      <td>1</td>\n",
       "      <td>0</td>\n",
       "      <td>0</td>\n",
       "      <td>1</td>\n",
       "    </tr>\n",
       "    <tr>\n",
       "      <th>2</th>\n",
       "      <td>2023</td>\n",
       "      <td>25500</td>\n",
       "      <td>25500</td>\n",
       "      <td>100</td>\n",
       "      <td>0</td>\n",
       "      <td>1</td>\n",
       "      <td>0</td>\n",
       "      <td>0</td>\n",
       "      <td>0</td>\n",
       "      <td>0</td>\n",
       "      <td>...</td>\n",
       "      <td>0</td>\n",
       "      <td>0</td>\n",
       "      <td>0</td>\n",
       "      <td>0</td>\n",
       "      <td>0</td>\n",
       "      <td>0</td>\n",
       "      <td>1</td>\n",
       "      <td>0</td>\n",
       "      <td>0</td>\n",
       "      <td>1</td>\n",
       "    </tr>\n",
       "    <tr>\n",
       "      <th>3</th>\n",
       "      <td>2023</td>\n",
       "      <td>175000</td>\n",
       "      <td>175000</td>\n",
       "      <td>100</td>\n",
       "      <td>0</td>\n",
       "      <td>0</td>\n",
       "      <td>1</td>\n",
       "      <td>0</td>\n",
       "      <td>1</td>\n",
       "      <td>0</td>\n",
       "      <td>...</td>\n",
       "      <td>0</td>\n",
       "      <td>0</td>\n",
       "      <td>0</td>\n",
       "      <td>0</td>\n",
       "      <td>0</td>\n",
       "      <td>0</td>\n",
       "      <td>0</td>\n",
       "      <td>0</td>\n",
       "      <td>1</td>\n",
       "      <td>0</td>\n",
       "    </tr>\n",
       "    <tr>\n",
       "      <th>4</th>\n",
       "      <td>2023</td>\n",
       "      <td>120000</td>\n",
       "      <td>120000</td>\n",
       "      <td>100</td>\n",
       "      <td>0</td>\n",
       "      <td>0</td>\n",
       "      <td>1</td>\n",
       "      <td>0</td>\n",
       "      <td>1</td>\n",
       "      <td>0</td>\n",
       "      <td>...</td>\n",
       "      <td>0</td>\n",
       "      <td>0</td>\n",
       "      <td>0</td>\n",
       "      <td>0</td>\n",
       "      <td>0</td>\n",
       "      <td>0</td>\n",
       "      <td>0</td>\n",
       "      <td>0</td>\n",
       "      <td>1</td>\n",
       "      <td>0</td>\n",
       "    </tr>\n",
       "    <tr>\n",
       "      <th>...</th>\n",
       "      <td>...</td>\n",
       "      <td>...</td>\n",
       "      <td>...</td>\n",
       "      <td>...</td>\n",
       "      <td>...</td>\n",
       "      <td>...</td>\n",
       "      <td>...</td>\n",
       "      <td>...</td>\n",
       "      <td>...</td>\n",
       "      <td>...</td>\n",
       "      <td>...</td>\n",
       "      <td>...</td>\n",
       "      <td>...</td>\n",
       "      <td>...</td>\n",
       "      <td>...</td>\n",
       "      <td>...</td>\n",
       "      <td>...</td>\n",
       "      <td>...</td>\n",
       "      <td>...</td>\n",
       "      <td>...</td>\n",
       "      <td>...</td>\n",
       "    </tr>\n",
       "    <tr>\n",
       "      <th>3750</th>\n",
       "      <td>2020</td>\n",
       "      <td>412000</td>\n",
       "      <td>412000</td>\n",
       "      <td>100</td>\n",
       "      <td>0</td>\n",
       "      <td>0</td>\n",
       "      <td>1</td>\n",
       "      <td>0</td>\n",
       "      <td>1</td>\n",
       "      <td>0</td>\n",
       "      <td>...</td>\n",
       "      <td>0</td>\n",
       "      <td>0</td>\n",
       "      <td>0</td>\n",
       "      <td>0</td>\n",
       "      <td>0</td>\n",
       "      <td>0</td>\n",
       "      <td>1</td>\n",
       "      <td>0</td>\n",
       "      <td>0</td>\n",
       "      <td>0</td>\n",
       "    </tr>\n",
       "    <tr>\n",
       "      <th>3751</th>\n",
       "      <td>2021</td>\n",
       "      <td>151000</td>\n",
       "      <td>151000</td>\n",
       "      <td>100</td>\n",
       "      <td>0</td>\n",
       "      <td>1</td>\n",
       "      <td>0</td>\n",
       "      <td>0</td>\n",
       "      <td>1</td>\n",
       "      <td>0</td>\n",
       "      <td>...</td>\n",
       "      <td>0</td>\n",
       "      <td>0</td>\n",
       "      <td>0</td>\n",
       "      <td>0</td>\n",
       "      <td>0</td>\n",
       "      <td>0</td>\n",
       "      <td>1</td>\n",
       "      <td>0</td>\n",
       "      <td>0</td>\n",
       "      <td>0</td>\n",
       "    </tr>\n",
       "    <tr>\n",
       "      <th>3752</th>\n",
       "      <td>2020</td>\n",
       "      <td>105000</td>\n",
       "      <td>105000</td>\n",
       "      <td>100</td>\n",
       "      <td>0</td>\n",
       "      <td>0</td>\n",
       "      <td>0</td>\n",
       "      <td>0</td>\n",
       "      <td>1</td>\n",
       "      <td>0</td>\n",
       "      <td>...</td>\n",
       "      <td>0</td>\n",
       "      <td>0</td>\n",
       "      <td>0</td>\n",
       "      <td>0</td>\n",
       "      <td>0</td>\n",
       "      <td>0</td>\n",
       "      <td>1</td>\n",
       "      <td>0</td>\n",
       "      <td>0</td>\n",
       "      <td>1</td>\n",
       "    </tr>\n",
       "    <tr>\n",
       "      <th>3753</th>\n",
       "      <td>2020</td>\n",
       "      <td>100000</td>\n",
       "      <td>100000</td>\n",
       "      <td>100</td>\n",
       "      <td>0</td>\n",
       "      <td>0</td>\n",
       "      <td>0</td>\n",
       "      <td>0</td>\n",
       "      <td>0</td>\n",
       "      <td>0</td>\n",
       "      <td>...</td>\n",
       "      <td>0</td>\n",
       "      <td>0</td>\n",
       "      <td>0</td>\n",
       "      <td>0</td>\n",
       "      <td>0</td>\n",
       "      <td>0</td>\n",
       "      <td>1</td>\n",
       "      <td>0</td>\n",
       "      <td>0</td>\n",
       "      <td>0</td>\n",
       "    </tr>\n",
       "    <tr>\n",
       "      <th>3754</th>\n",
       "      <td>2021</td>\n",
       "      <td>7000000</td>\n",
       "      <td>94665</td>\n",
       "      <td>50</td>\n",
       "      <td>0</td>\n",
       "      <td>0</td>\n",
       "      <td>1</td>\n",
       "      <td>0</td>\n",
       "      <td>1</td>\n",
       "      <td>0</td>\n",
       "      <td>...</td>\n",
       "      <td>0</td>\n",
       "      <td>0</td>\n",
       "      <td>0</td>\n",
       "      <td>0</td>\n",
       "      <td>0</td>\n",
       "      <td>0</td>\n",
       "      <td>0</td>\n",
       "      <td>0</td>\n",
       "      <td>0</td>\n",
       "      <td>0</td>\n",
       "    </tr>\n",
       "  </tbody>\n",
       "</table>\n",
       "<p>3753 rows × 194 columns</p>\n",
       "</div>"
      ],
      "text/plain": [
       "      work_year   salary  salary_in_usd  remote_ratio  experience_level_EX  \\\n",
       "0          2023    80000          85847           100                    0   \n",
       "1          2023    30000          30000           100                    0   \n",
       "2          2023    25500          25500           100                    0   \n",
       "3          2023   175000         175000           100                    0   \n",
       "4          2023   120000         120000           100                    0   \n",
       "...         ...      ...            ...           ...                  ...   \n",
       "3750       2020   412000         412000           100                    0   \n",
       "3751       2021   151000         151000           100                    0   \n",
       "3752       2020   105000         105000           100                    0   \n",
       "3753       2020   100000         100000           100                    0   \n",
       "3754       2021  7000000          94665            50                    0   \n",
       "\n",
       "      experience_level_MI  experience_level_SE  employment_type_FL  \\\n",
       "0                       0                    1                   0   \n",
       "1                       1                    0                   0   \n",
       "2                       1                    0                   0   \n",
       "3                       0                    1                   0   \n",
       "4                       0                    1                   0   \n",
       "...                   ...                  ...                 ...   \n",
       "3750                    0                    1                   0   \n",
       "3751                    1                    0                   0   \n",
       "3752                    0                    0                   0   \n",
       "3753                    0                    0                   0   \n",
       "3754                    0                    1                   0   \n",
       "\n",
       "      employment_type_FT  employment_type_PT  ...  company_location_SG  \\\n",
       "0                      1                   0  ...                    0   \n",
       "1                      0                   0  ...                    0   \n",
       "2                      0                   0  ...                    0   \n",
       "3                      1                   0  ...                    0   \n",
       "4                      1                   0  ...                    0   \n",
       "...                  ...                 ...  ...                  ...   \n",
       "3750                   1                   0  ...                    0   \n",
       "3751                   1                   0  ...                    0   \n",
       "3752                   1                   0  ...                    0   \n",
       "3753                   0                   0  ...                    0   \n",
       "3754                   1                   0  ...                    0   \n",
       "\n",
       "      company_location_SI  company_location_SK  company_location_TH  \\\n",
       "0                       0                    0                    0   \n",
       "1                       0                    0                    0   \n",
       "2                       0                    0                    0   \n",
       "3                       0                    0                    0   \n",
       "4                       0                    0                    0   \n",
       "...                   ...                  ...                  ...   \n",
       "3750                    0                    0                    0   \n",
       "3751                    0                    0                    0   \n",
       "3752                    0                    0                    0   \n",
       "3753                    0                    0                    0   \n",
       "3754                    0                    0                    0   \n",
       "\n",
       "      company_location_TR  company_location_UA  company_location_US  \\\n",
       "0                       0                    0                    0   \n",
       "1                       0                    0                    1   \n",
       "2                       0                    0                    1   \n",
       "3                       0                    0                    0   \n",
       "4                       0                    0                    0   \n",
       "...                   ...                  ...                  ...   \n",
       "3750                    0                    0                    1   \n",
       "3751                    0                    0                    1   \n",
       "3752                    0                    0                    1   \n",
       "3753                    0                    0                    1   \n",
       "3754                    0                    0                    0   \n",
       "\n",
       "      company_location_VN  company_size_M  company_size_S  \n",
       "0                       0               0               0  \n",
       "1                       0               0               1  \n",
       "2                       0               0               1  \n",
       "3                       0               1               0  \n",
       "4                       0               1               0  \n",
       "...                   ...             ...             ...  \n",
       "3750                    0               0               0  \n",
       "3751                    0               0               0  \n",
       "3752                    0               0               1  \n",
       "3753                    0               0               0  \n",
       "3754                    0               0               0  \n",
       "\n",
       "[3753 rows x 194 columns]"
      ]
     },
     "execution_count": 34,
     "metadata": {},
     "output_type": "execute_result"
    }
   ],
   "source": [
    "data"
   ]
  },
  {
   "cell_type": "markdown",
   "id": "2d2080f3",
   "metadata": {},
   "source": [
    "# modelo"
   ]
  },
  {
   "cell_type": "code",
   "execution_count": 35,
   "id": "3774b571",
   "metadata": {},
   "outputs": [],
   "source": [
    "y = data['salary_in_usd'].copy()\n",
    "X = data.drop(columns=['salary_in_usd']).copy()\n"
   ]
  },
  {
   "cell_type": "code",
   "execution_count": 36,
   "id": "3643908c",
   "metadata": {},
   "outputs": [
    {
     "data": {
      "text/plain": [
       "((3753, 193), (3753,))"
      ]
     },
     "execution_count": 36,
     "metadata": {},
     "output_type": "execute_result"
    }
   ],
   "source": [
    "X.shape, y.shape"
   ]
  },
  {
   "cell_type": "code",
   "execution_count": 37,
   "id": "473580c4",
   "metadata": {},
   "outputs": [],
   "source": [
    "from sklearn.model_selection import train_test_split\n",
    "\n",
    "X_train, X_test, y_train, y_test = train_test_split(X, y, test_size=0.25)"
   ]
  },
  {
   "cell_type": "code",
   "execution_count": 38,
   "id": "7c3c765d",
   "metadata": {},
   "outputs": [],
   "source": [
    "X_train_valid, X_test_valid, y_train_valid, y_test_valid = train_test_split(X_train, y_train, test_size=0.33)"
   ]
  },
  {
   "cell_type": "markdown",
   "id": "78f78b5b",
   "metadata": {},
   "source": [
    "# modelo 1: regressao linear simples"
   ]
  },
  {
   "cell_type": "code",
   "execution_count": 39,
   "id": "9dc66343",
   "metadata": {},
   "outputs": [
    {
     "data": {
      "text/plain": [
       "56757.47600884184"
      ]
     },
     "execution_count": 39,
     "metadata": {},
     "output_type": "execute_result"
    }
   ],
   "source": [
    "import math\n",
    "from sklearn.linear_model import LinearRegression\n",
    "from sklearn.metrics import mean_squared_error\n",
    "\n",
    "model = LinearRegression()\n",
    "model.fit(X_train_valid, y_train_valid)\n",
    "\n",
    "y_pred = model.predict(X_test_valid)\n",
    "RMSE = math.sqrt(mean_squared_error(y_test_valid, y_pred))\n",
    "RMSE"
   ]
  },
  {
   "cell_type": "code",
   "execution_count": 40,
   "id": "d1eb941e",
   "metadata": {},
   "outputs": [],
   "source": [
    "import matplotlib.pyplot as plt"
   ]
  },
  {
   "cell_type": "code",
   "execution_count": 41,
   "id": "1ff54a19",
   "metadata": {},
   "outputs": [
    {
     "data": {
      "text/plain": [
       "<matplotlib.collections.PathCollection at 0x7ff12944df90>"
      ]
     },
     "execution_count": 41,
     "metadata": {},
     "output_type": "execute_result"
    },
    {
     "data": {
      "image/png": "[encoded data removed]",
      "text/plain": [
       "<Figure size 640x480 with 1 Axes>"
      ]
     },
     "metadata": {},
     "output_type": "display_data"
    }
   ],
   "source": [
    "plt.scatter(y_test_valid, y_pred)"
   ]
  },
  {
   "cell_type": "code",
   "execution_count": 42,
   "id": "dfdab4a7",
   "metadata": {},
   "outputs": [
    {
     "data": {
      "text/plain": [
       "Text(0, 0.5, 'Erro [$]')"
      ]
     },
     "execution_count": 42,
     "metadata": {},
     "output_type": "execute_result"
    },
    {
     "data": {
      "image/png": "[encoded data removed]",
      "text/plain": [
       "<Figure size 640x480 with 1 Axes>"
      ]
     },
     "metadata": {},
     "output_type": "display_data"
    }
   ],
   "source": [
    "erro = y_pred - y_test_valid\n",
    "\n",
    "plt.scatter(y_test_valid, erro)\n",
    "plt.xlabel('salario')\n",
    "plt.ylabel('Erro [$]')"
   ]
  },
  {
   "cell_type": "code",
   "execution_count": 43,
   "id": "8965737e",
   "metadata": {},
   "outputs": [],
   "source": [
    "erro_percentual = 100.0 * (erro / y_test_valid)"
   ]
  },
  {
   "cell_type": "code",
   "execution_count": 44,
   "id": "f314b513",
   "metadata": {},
   "outputs": [
    {
     "data": {
      "text/plain": [
       "(-100.0, 100.0)"
      ]
     },
     "execution_count": 44,
     "metadata": {},
     "output_type": "execute_result"
    },
    {
     "data": {
      "image/png": "[encoded data removed]",
      "text/plain": [
       "<Figure size 640x480 with 1 Axes>"
      ]
     },
     "metadata": {},
     "output_type": "display_data"
    }
   ],
   "source": [
    "plt.scatter(y_test_valid, erro_percentual)\n",
    "plt.xlabel('salario ')\n",
    "plt.ylabel('Erro [%]')\n",
    "plt.ylim(-100, 100)"
   ]
  },
  {
   "cell_type": "markdown",
   "id": "a5e689d2",
   "metadata": {},
   "source": [
    "# modelo polinomial de grau 2"
   ]
  },
  {
   "cell_type": "code",
   "execution_count": 45,
   "id": "89fee2e7",
   "metadata": {},
   "outputs": [],
   "source": [
    "from sklearn.preprocessing import PolynomialFeatures\n",
    "\n",
    "transformer = PolynomialFeatures(degree=2, include_bias=False)\n",
    "X_train_valid_transf = transformer.fit_transform(X_train_valid)"
   ]
  },
  {
   "cell_type": "code",
   "execution_count": 46,
   "id": "cf41bd14",
   "metadata": {},
   "outputs": [
    {
     "data": {
      "text/html": [
       "<style>#sk-container-id-1 {color: black;background-color: white;}#sk-container-id-1 pre{padding: 0;}#sk-container-id-1 div.sk-toggleable {background-color: white;}#sk-container-id-1 label.sk-toggleable__label {cursor: pointer;display: block;width: 100%;margin-bottom: 0;padding: 0.3em;box-sizing: border-box;text-align: center;}#sk-container-id-1 label.sk-toggleable__label-arrow:before {content: \"▸\";float: left;margin-right: 0.25em;color: #696969;}#sk-container-id-1 label.sk-toggleable__label-arrow:hover:before {color: black;}#sk-container-id-1 div.sk-estimator:hover label.sk-toggleable__label-arrow:before {color: black;}#sk-container-id-1 div.sk-toggleable__content {max-height: 0;max-width: 0;overflow: hidden;text-align: left;background-color: #f0f8ff;}#sk-container-id-1 div.sk-toggleable__content pre {margin: 0.2em;color: black;border-radius: 0.25em;background-color: #f0f8ff;}#sk-container-id-1 input.sk-toggleable__control:checked~div.sk-toggleable__content {max-height: 200px;max-width: 100%;overflow: auto;}#sk-container-id-1 input.sk-toggleable__control:checked~label.sk-toggleable__label-arrow:before {content: \"▾\";}#sk-container-id-1 div.sk-estimator input.sk-toggleable__control:checked~label.sk-toggleable__label {background-color: #d4ebff;}#sk-container-id-1 div.sk-label input.sk-toggleable__control:checked~label.sk-toggleable__label {background-color: #d4ebff;}#sk-container-id-1 input.sk-hidden--visually {border: 0;clip: rect(1px 1px 1px 1px);clip: rect(1px, 1px, 1px, 1px);height: 1px;margin: -1px;overflow: hidden;padding: 0;position: absolute;width: 1px;}#sk-container-id-1 div.sk-estimator {font-family: monospace;background-color: #f0f8ff;border: 1px dotted black;border-radius: 0.25em;box-sizing: border-box;margin-bottom: 0.5em;}#sk-container-id-1 div.sk-estimator:hover {background-color: #d4ebff;}#sk-container-id-1 div.sk-parallel-item::after {content: \"\";width: 100%;border-bottom: 1px solid gray;flex-grow: 1;}#sk-container-id-1 div.sk-label:hover label.sk-toggleable__label {background-color: #d4ebff;}#sk-container-id-1 div.sk-serial::before {content: \"\";position: absolute;border-left: 1px solid gray;box-sizing: border-box;top: 0;bottom: 0;left: 50%;z-index: 0;}#sk-container-id-1 div.sk-serial {display: flex;flex-direction: column;align-items: center;background-color: white;padding-right: 0.2em;padding-left: 0.2em;position: relative;}#sk-container-id-1 div.sk-item {position: relative;z-index: 1;}#sk-container-id-1 div.sk-parallel {display: flex;align-items: stretch;justify-content: center;background-color: white;position: relative;}#sk-container-id-1 div.sk-item::before, #sk-container-id-1 div.sk-parallel-item::before {content: \"\";position: absolute;border-left: 1px solid gray;box-sizing: border-box;top: 0;bottom: 0;left: 50%;z-index: -1;}#sk-container-id-1 div.sk-parallel-item {display: flex;flex-direction: column;z-index: 1;position: relative;background-color: white;}#sk-container-id-1 div.sk-parallel-item:first-child::after {align-self: flex-end;width: 50%;}#sk-container-id-1 div.sk-parallel-item:last-child::after {align-self: flex-start;width: 50%;}#sk-container-id-1 div.sk-parallel-item:only-child::after {width: 0;}#sk-container-id-1 div.sk-dashed-wrapped {border: 1px dashed gray;margin: 0 0.4em 0.5em 0.4em;box-sizing: border-box;padding-bottom: 0.4em;background-color: white;}#sk-container-id-1 div.sk-label label {font-family: monospace;font-weight: bold;display: inline-block;line-height: 1.2em;}#sk-container-id-1 div.sk-label-container {text-align: center;}#sk-container-id-1 div.sk-container {/* jupyter's `normalize.less` sets `[hidden] { display: none; }` but bootstrap.min.css set `[hidden] { display: none !important; }` so we also need the `!important` here to be able to override the default hidden behavior on the sphinx rendered scikit-learn.org. See: https://github.com/scikit-learn/scikit-learn/issues/21755 */display: inline-block !important;position: relative;}#sk-container-id-1 div.sk-text-repr-fallback {display: none;}</style><div id=\"sk-container-id-1\" class=\"sk-top-container\"><div class=\"sk-text-repr-fallback\"><pre>LinearRegression()</pre><b>In a Jupyter environment, please rerun this cell to show the HTML representation or trust the notebook. <br />On GitHub, the HTML representation is unable to render, please try loading this page with nbviewer.org.</b></div><div class=\"sk-container\" hidden><div class=\"sk-item\"><div class=\"sk-estimator sk-toggleable\"><input class=\"sk-toggleable__control sk-hidden--visually\" id=\"sk-estimator-id-1\" type=\"checkbox\" checked><label for=\"sk-estimator-id-1\" class=\"sk-toggleable__label sk-toggleable__label-arrow\">LinearRegression</label><div class=\"sk-toggleable__content\"><pre>LinearRegression()</pre></div></div></div></div></div>"
      ],
      "text/plain": [
       "LinearRegression()"
      ]
     },
     "execution_count": 46,
     "metadata": {},
     "output_type": "execute_result"
    }
   ],
   "source": [
    "model = LinearRegression()\n",
    "\n",
    "model.fit(X_train_valid_transf, y_train_valid)"
   ]
  },
  {
   "cell_type": "code",
   "execution_count": 47,
   "id": "99aa5c1e",
   "metadata": {},
   "outputs": [],
   "source": [
    "X_test_valid_transf = transformer.transform(X_test_valid)\n",
    "y_pred = model.predict(X_test_valid_transf)"
   ]
  },
  {
   "cell_type": "code",
   "execution_count": 48,
   "id": "1eddce15",
   "metadata": {},
   "outputs": [
    {
     "data": {
      "text/plain": [
       "88075.3934036052"
      ]
     },
     "execution_count": 48,
     "metadata": {},
     "output_type": "execute_result"
    }
   ],
   "source": [
    "RMSE = math.sqrt(mean_squared_error(y_test_valid, y_pred))\n",
    "RMSE"
   ]
  },
  {
   "cell_type": "code",
   "execution_count": 49,
   "id": "e5d714e1",
   "metadata": {},
   "outputs": [
    {
     "data": {
      "text/plain": [
       "<matplotlib.collections.PathCollection at 0x7ff12a1d63b0>"
      ]
     },
     "execution_count": 49,
     "metadata": {},
     "output_type": "execute_result"
    },
    {
     "data": {
      "image/png": "[encoded data removed]",
      "text/plain": [
       "<Figure size 640x480 with 1 Axes>"
      ]
     },
     "metadata": {},
     "output_type": "display_data"
    }
   ],
   "source": [
    "plt.scatter(y_test_valid, y_pred)"
   ]
  },
  {
   "cell_type": "code",
   "execution_count": 50,
   "id": "bf11230e",
   "metadata": {},
   "outputs": [
    {
     "data": {
      "text/plain": [
       "Text(0, 0.5, 'Erro [$]')"
      ]
     },
     "execution_count": 50,
     "metadata": {},
     "output_type": "execute_result"
    },
    {
     "data": {
      "image/png": "[encoded data removed]",
      "text/plain": [
       "<Figure size 640x480 with 1 Axes>"
      ]
     },
     "metadata": {},
     "output_type": "display_data"
    }
   ],
   "source": [
    "erro = y_pred - y_test_valid\n",
    "\n",
    "plt.scatter(y_test_valid, erro)\n",
    "plt.xlabel('salario')\n",
    "plt.ylabel('Erro [$]')"
   ]
  },
  {
   "cell_type": "code",
   "execution_count": 51,
   "id": "31a1ad28",
   "metadata": {},
   "outputs": [],
   "source": [
    "erro_percentual = 100.0 * (erro / y_test_valid)"
   ]
  },
  {
   "cell_type": "code",
   "execution_count": 52,
   "id": "fe98430b",
   "metadata": {},
   "outputs": [
    {
     "data": {
      "text/plain": [
       "(-100.0, 100.0)"
      ]
     },
     "execution_count": 52,
     "metadata": {},
     "output_type": "execute_result"
    },
    {
     "data": {
      "image/png": "[encoded data removed]",
      "text/plain": [
       "<Figure size 640x480 with 1 Axes>"
      ]
     },
     "metadata": {},
     "output_type": "display_data"
    }
   ],
   "source": [
    "plt.scatter(y_test_valid, erro_percentual)\n",
    "plt.xlabel('salario')\n",
    "plt.ylabel('Erro [%]')\n",
    "plt.ylim(-100, 100)"
   ]
  },
  {
   "cell_type": "code",
   "execution_count": null,
   "id": "605b3591",
   "metadata": {},
   "outputs": [],
   "source": []
  },
  {
   "cell_type": "code",
   "execution_count": null,
   "id": "7bbd1ec6",
   "metadata": {},
   "outputs": [],
   "source": []
  },
  {
   "cell_type": "code",
   "execution_count": null,
   "id": "056a65bb",
   "metadata": {},
   "outputs": [],
   "source": []
  }
 ],
 "metadata": {
  "kernelspec": {
   "display_name": "Python 3 (ipykernel)",
   "language": "python",
   "name": "python3"
  },
  "language_info": {
   "codemirror_mode": {
    "name": "ipython",
    "version": 3
   },
   "file_extension": ".py",
   "mimetype": "text/x-python",
   "name": "python",
   "nbconvert_exporter": "python",
   "pygments_lexer": "ipython3",
   "version": "3.10.9"
  }
 },
 "nbformat": 4,
 "nbformat_minor": 5
}
