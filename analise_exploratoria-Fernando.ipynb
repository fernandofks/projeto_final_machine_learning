{
 "cells": [
  {
   "cell_type": "code",
   "execution_count": 51,
   "id": "e2a66d9c",
   "metadata": {},
   "outputs": [],
   "source": [
    "import pandas as pd\n",
    "import numpy as np\n",
    "import matplotlib.pyplot as plt"
   ]
  },
  {
   "cell_type": "code",
   "execution_count": 52,
   "id": "d0bfb15b",
   "metadata": {},
   "outputs": [
    {
     "data": {
      "text/html": [
       "<div>\n",
       "<style scoped>\n",
       "    .dataframe tbody tr th:only-of-type {\n",
       "        vertical-align: middle;\n",
       "    }\n",
       "\n",
       "    .dataframe tbody tr th {\n",
       "        vertical-align: top;\n",
       "    }\n",
       "\n",
       "    .dataframe thead th {\n",
       "        text-align: right;\n",
       "    }\n",
       "</style>\n",
       "<table border=\"1\" class=\"dataframe\">\n",
       "  <thead>\n",
       "    <tr style=\"text-align: right;\">\n",
       "      <th></th>\n",
       "      <th>work_year</th>\n",
       "      <th>experience_level</th>\n",
       "      <th>employment_type</th>\n",
       "      <th>job_title</th>\n",
       "      <th>salary</th>\n",
       "      <th>salary_currency</th>\n",
       "      <th>salary_in_usd</th>\n",
       "      <th>employee_residence</th>\n",
       "      <th>remote_ratio</th>\n",
       "      <th>company_location</th>\n",
       "      <th>company_size</th>\n",
       "    </tr>\n",
       "  </thead>\n",
       "  <tbody>\n",
       "    <tr>\n",
       "      <th>0</th>\n",
       "      <td>2023</td>\n",
       "      <td>SE</td>\n",
       "      <td>FT</td>\n",
       "      <td>Principal Data Scientist</td>\n",
       "      <td>80000</td>\n",
       "      <td>EUR</td>\n",
       "      <td>85847</td>\n",
       "      <td>ES</td>\n",
       "      <td>100</td>\n",
       "      <td>ES</td>\n",
       "      <td>L</td>\n",
       "    </tr>\n",
       "    <tr>\n",
       "      <th>1</th>\n",
       "      <td>2023</td>\n",
       "      <td>MI</td>\n",
       "      <td>CT</td>\n",
       "      <td>ML Engineer</td>\n",
       "      <td>30000</td>\n",
       "      <td>USD</td>\n",
       "      <td>30000</td>\n",
       "      <td>US</td>\n",
       "      <td>100</td>\n",
       "      <td>US</td>\n",
       "      <td>S</td>\n",
       "    </tr>\n",
       "    <tr>\n",
       "      <th>2</th>\n",
       "      <td>2023</td>\n",
       "      <td>MI</td>\n",
       "      <td>CT</td>\n",
       "      <td>ML Engineer</td>\n",
       "      <td>25500</td>\n",
       "      <td>USD</td>\n",
       "      <td>25500</td>\n",
       "      <td>US</td>\n",
       "      <td>100</td>\n",
       "      <td>US</td>\n",
       "      <td>S</td>\n",
       "    </tr>\n",
       "    <tr>\n",
       "      <th>3</th>\n",
       "      <td>2023</td>\n",
       "      <td>SE</td>\n",
       "      <td>FT</td>\n",
       "      <td>Data Scientist</td>\n",
       "      <td>175000</td>\n",
       "      <td>USD</td>\n",
       "      <td>175000</td>\n",
       "      <td>CA</td>\n",
       "      <td>100</td>\n",
       "      <td>CA</td>\n",
       "      <td>M</td>\n",
       "    </tr>\n",
       "    <tr>\n",
       "      <th>4</th>\n",
       "      <td>2023</td>\n",
       "      <td>SE</td>\n",
       "      <td>FT</td>\n",
       "      <td>Data Scientist</td>\n",
       "      <td>120000</td>\n",
       "      <td>USD</td>\n",
       "      <td>120000</td>\n",
       "      <td>CA</td>\n",
       "      <td>100</td>\n",
       "      <td>CA</td>\n",
       "      <td>M</td>\n",
       "    </tr>\n",
       "    <tr>\n",
       "      <th>...</th>\n",
       "      <td>...</td>\n",
       "      <td>...</td>\n",
       "      <td>...</td>\n",
       "      <td>...</td>\n",
       "      <td>...</td>\n",
       "      <td>...</td>\n",
       "      <td>...</td>\n",
       "      <td>...</td>\n",
       "      <td>...</td>\n",
       "      <td>...</td>\n",
       "      <td>...</td>\n",
       "    </tr>\n",
       "    <tr>\n",
       "      <th>3750</th>\n",
       "      <td>2020</td>\n",
       "      <td>SE</td>\n",
       "      <td>FT</td>\n",
       "      <td>Data Scientist</td>\n",
       "      <td>412000</td>\n",
       "      <td>USD</td>\n",
       "      <td>412000</td>\n",
       "      <td>US</td>\n",
       "      <td>100</td>\n",
       "      <td>US</td>\n",
       "      <td>L</td>\n",
       "    </tr>\n",
       "    <tr>\n",
       "      <th>3751</th>\n",
       "      <td>2021</td>\n",
       "      <td>MI</td>\n",
       "      <td>FT</td>\n",
       "      <td>Principal Data Scientist</td>\n",
       "      <td>151000</td>\n",
       "      <td>USD</td>\n",
       "      <td>151000</td>\n",
       "      <td>US</td>\n",
       "      <td>100</td>\n",
       "      <td>US</td>\n",
       "      <td>L</td>\n",
       "    </tr>\n",
       "    <tr>\n",
       "      <th>3752</th>\n",
       "      <td>2020</td>\n",
       "      <td>EN</td>\n",
       "      <td>FT</td>\n",
       "      <td>Data Scientist</td>\n",
       "      <td>105000</td>\n",
       "      <td>USD</td>\n",
       "      <td>105000</td>\n",
       "      <td>US</td>\n",
       "      <td>100</td>\n",
       "      <td>US</td>\n",
       "      <td>S</td>\n",
       "    </tr>\n",
       "    <tr>\n",
       "      <th>3753</th>\n",
       "      <td>2020</td>\n",
       "      <td>EN</td>\n",
       "      <td>CT</td>\n",
       "      <td>Business Data Analyst</td>\n",
       "      <td>100000</td>\n",
       "      <td>USD</td>\n",
       "      <td>100000</td>\n",
       "      <td>US</td>\n",
       "      <td>100</td>\n",
       "      <td>US</td>\n",
       "      <td>L</td>\n",
       "    </tr>\n",
       "    <tr>\n",
       "      <th>3754</th>\n",
       "      <td>2021</td>\n",
       "      <td>SE</td>\n",
       "      <td>FT</td>\n",
       "      <td>Data Science Manager</td>\n",
       "      <td>7000000</td>\n",
       "      <td>INR</td>\n",
       "      <td>94665</td>\n",
       "      <td>IN</td>\n",
       "      <td>50</td>\n",
       "      <td>IN</td>\n",
       "      <td>L</td>\n",
       "    </tr>\n",
       "  </tbody>\n",
       "</table>\n",
       "<p>3755 rows × 11 columns</p>\n",
       "</div>"
      ],
      "text/plain": [
       "      work_year experience_level employment_type                 job_title  \\\n",
       "0          2023               SE              FT  Principal Data Scientist   \n",
       "1          2023               MI              CT               ML Engineer   \n",
       "2          2023               MI              CT               ML Engineer   \n",
       "3          2023               SE              FT            Data Scientist   \n",
       "4          2023               SE              FT            Data Scientist   \n",
       "...         ...              ...             ...                       ...   \n",
       "3750       2020               SE              FT            Data Scientist   \n",
       "3751       2021               MI              FT  Principal Data Scientist   \n",
       "3752       2020               EN              FT            Data Scientist   \n",
       "3753       2020               EN              CT     Business Data Analyst   \n",
       "3754       2021               SE              FT      Data Science Manager   \n",
       "\n",
       "       salary salary_currency  salary_in_usd employee_residence  remote_ratio  \\\n",
       "0       80000             EUR          85847                 ES           100   \n",
       "1       30000             USD          30000                 US           100   \n",
       "2       25500             USD          25500                 US           100   \n",
       "3      175000             USD         175000                 CA           100   \n",
       "4      120000             USD         120000                 CA           100   \n",
       "...       ...             ...            ...                ...           ...   \n",
       "3750   412000             USD         412000                 US           100   \n",
       "3751   151000             USD         151000                 US           100   \n",
       "3752   105000             USD         105000                 US           100   \n",
       "3753   100000             USD         100000                 US           100   \n",
       "3754  7000000             INR          94665                 IN            50   \n",
       "\n",
       "     company_location company_size  \n",
       "0                  ES            L  \n",
       "1                  US            S  \n",
       "2                  US            S  \n",
       "3                  CA            M  \n",
       "4                  CA            M  \n",
       "...               ...          ...  \n",
       "3750               US            L  \n",
       "3751               US            L  \n",
       "3752               US            S  \n",
       "3753               US            L  \n",
       "3754               IN            L  \n",
       "\n",
       "[3755 rows x 11 columns]"
      ]
     },
     "execution_count": 52,
     "metadata": {},
     "output_type": "execute_result"
    }
   ],
   "source": [
    "data=pd.read_csv('./ds_salaries.csv')\n",
    "data"
   ]
  },
  {
   "cell_type": "code",
   "execution_count": 53,
   "id": "97412425",
   "metadata": {},
   "outputs": [
    {
     "data": {
      "text/plain": [
       "0        85847\n",
       "1        30000\n",
       "2        25500\n",
       "3       175000\n",
       "4       120000\n",
       "         ...  \n",
       "3750    412000\n",
       "3751    151000\n",
       "3752    105000\n",
       "3753    100000\n",
       "3754     94665\n",
       "Name: salary_in_usd, Length: 3755, dtype: int64"
      ]
     },
     "execution_count": 53,
     "metadata": {},
     "output_type": "execute_result"
    }
   ],
   "source": [
    "salaries_usd=data['salary_in_usd'].copy()\n",
    "salaries_usd"
   ]
  },
  {
   "cell_type": "code",
   "execution_count": 54,
   "id": "35953aae",
   "metadata": {},
   "outputs": [
    {
     "data": {
      "text/html": [
       "<div>\n",
       "<style scoped>\n",
       "    .dataframe tbody tr th:only-of-type {\n",
       "        vertical-align: middle;\n",
       "    }\n",
       "\n",
       "    .dataframe tbody tr th {\n",
       "        vertical-align: top;\n",
       "    }\n",
       "\n",
       "    .dataframe thead th {\n",
       "        text-align: right;\n",
       "    }\n",
       "</style>\n",
       "<table border=\"1\" class=\"dataframe\">\n",
       "  <thead>\n",
       "    <tr style=\"text-align: right;\">\n",
       "      <th></th>\n",
       "      <th>work_year</th>\n",
       "      <th>experience_level</th>\n",
       "      <th>employment_type</th>\n",
       "      <th>job_title</th>\n",
       "      <th>salary</th>\n",
       "      <th>salary_currency</th>\n",
       "      <th>employee_residence</th>\n",
       "      <th>remote_ratio</th>\n",
       "      <th>company_location</th>\n",
       "      <th>company_size</th>\n",
       "    </tr>\n",
       "  </thead>\n",
       "  <tbody>\n",
       "    <tr>\n",
       "      <th>0</th>\n",
       "      <td>2023</td>\n",
       "      <td>SE</td>\n",
       "      <td>FT</td>\n",
       "      <td>Principal Data Scientist</td>\n",
       "      <td>80000</td>\n",
       "      <td>EUR</td>\n",
       "      <td>ES</td>\n",
       "      <td>100</td>\n",
       "      <td>ES</td>\n",
       "      <td>L</td>\n",
       "    </tr>\n",
       "    <tr>\n",
       "      <th>1</th>\n",
       "      <td>2023</td>\n",
       "      <td>MI</td>\n",
       "      <td>CT</td>\n",
       "      <td>ML Engineer</td>\n",
       "      <td>30000</td>\n",
       "      <td>USD</td>\n",
       "      <td>US</td>\n",
       "      <td>100</td>\n",
       "      <td>US</td>\n",
       "      <td>S</td>\n",
       "    </tr>\n",
       "    <tr>\n",
       "      <th>2</th>\n",
       "      <td>2023</td>\n",
       "      <td>MI</td>\n",
       "      <td>CT</td>\n",
       "      <td>ML Engineer</td>\n",
       "      <td>25500</td>\n",
       "      <td>USD</td>\n",
       "      <td>US</td>\n",
       "      <td>100</td>\n",
       "      <td>US</td>\n",
       "      <td>S</td>\n",
       "    </tr>\n",
       "    <tr>\n",
       "      <th>3</th>\n",
       "      <td>2023</td>\n",
       "      <td>SE</td>\n",
       "      <td>FT</td>\n",
       "      <td>Data Scientist</td>\n",
       "      <td>175000</td>\n",
       "      <td>USD</td>\n",
       "      <td>CA</td>\n",
       "      <td>100</td>\n",
       "      <td>CA</td>\n",
       "      <td>M</td>\n",
       "    </tr>\n",
       "    <tr>\n",
       "      <th>4</th>\n",
       "      <td>2023</td>\n",
       "      <td>SE</td>\n",
       "      <td>FT</td>\n",
       "      <td>Data Scientist</td>\n",
       "      <td>120000</td>\n",
       "      <td>USD</td>\n",
       "      <td>CA</td>\n",
       "      <td>100</td>\n",
       "      <td>CA</td>\n",
       "      <td>M</td>\n",
       "    </tr>\n",
       "    <tr>\n",
       "      <th>...</th>\n",
       "      <td>...</td>\n",
       "      <td>...</td>\n",
       "      <td>...</td>\n",
       "      <td>...</td>\n",
       "      <td>...</td>\n",
       "      <td>...</td>\n",
       "      <td>...</td>\n",
       "      <td>...</td>\n",
       "      <td>...</td>\n",
       "      <td>...</td>\n",
       "    </tr>\n",
       "    <tr>\n",
       "      <th>3750</th>\n",
       "      <td>2020</td>\n",
       "      <td>SE</td>\n",
       "      <td>FT</td>\n",
       "      <td>Data Scientist</td>\n",
       "      <td>412000</td>\n",
       "      <td>USD</td>\n",
       "      <td>US</td>\n",
       "      <td>100</td>\n",
       "      <td>US</td>\n",
       "      <td>L</td>\n",
       "    </tr>\n",
       "    <tr>\n",
       "      <th>3751</th>\n",
       "      <td>2021</td>\n",
       "      <td>MI</td>\n",
       "      <td>FT</td>\n",
       "      <td>Principal Data Scientist</td>\n",
       "      <td>151000</td>\n",
       "      <td>USD</td>\n",
       "      <td>US</td>\n",
       "      <td>100</td>\n",
       "      <td>US</td>\n",
       "      <td>L</td>\n",
       "    </tr>\n",
       "    <tr>\n",
       "      <th>3752</th>\n",
       "      <td>2020</td>\n",
       "      <td>EN</td>\n",
       "      <td>FT</td>\n",
       "      <td>Data Scientist</td>\n",
       "      <td>105000</td>\n",
       "      <td>USD</td>\n",
       "      <td>US</td>\n",
       "      <td>100</td>\n",
       "      <td>US</td>\n",
       "      <td>S</td>\n",
       "    </tr>\n",
       "    <tr>\n",
       "      <th>3753</th>\n",
       "      <td>2020</td>\n",
       "      <td>EN</td>\n",
       "      <td>CT</td>\n",
       "      <td>Business Data Analyst</td>\n",
       "      <td>100000</td>\n",
       "      <td>USD</td>\n",
       "      <td>US</td>\n",
       "      <td>100</td>\n",
       "      <td>US</td>\n",
       "      <td>L</td>\n",
       "    </tr>\n",
       "    <tr>\n",
       "      <th>3754</th>\n",
       "      <td>2021</td>\n",
       "      <td>SE</td>\n",
       "      <td>FT</td>\n",
       "      <td>Data Science Manager</td>\n",
       "      <td>7000000</td>\n",
       "      <td>INR</td>\n",
       "      <td>IN</td>\n",
       "      <td>50</td>\n",
       "      <td>IN</td>\n",
       "      <td>L</td>\n",
       "    </tr>\n",
       "  </tbody>\n",
       "</table>\n",
       "<p>3755 rows × 10 columns</p>\n",
       "</div>"
      ],
      "text/plain": [
       "      work_year experience_level employment_type                 job_title  \\\n",
       "0          2023               SE              FT  Principal Data Scientist   \n",
       "1          2023               MI              CT               ML Engineer   \n",
       "2          2023               MI              CT               ML Engineer   \n",
       "3          2023               SE              FT            Data Scientist   \n",
       "4          2023               SE              FT            Data Scientist   \n",
       "...         ...              ...             ...                       ...   \n",
       "3750       2020               SE              FT            Data Scientist   \n",
       "3751       2021               MI              FT  Principal Data Scientist   \n",
       "3752       2020               EN              FT            Data Scientist   \n",
       "3753       2020               EN              CT     Business Data Analyst   \n",
       "3754       2021               SE              FT      Data Science Manager   \n",
       "\n",
       "       salary salary_currency employee_residence  remote_ratio  \\\n",
       "0       80000             EUR                 ES           100   \n",
       "1       30000             USD                 US           100   \n",
       "2       25500             USD                 US           100   \n",
       "3      175000             USD                 CA           100   \n",
       "4      120000             USD                 CA           100   \n",
       "...       ...             ...                ...           ...   \n",
       "3750   412000             USD                 US           100   \n",
       "3751   151000             USD                 US           100   \n",
       "3752   105000             USD                 US           100   \n",
       "3753   100000             USD                 US           100   \n",
       "3754  7000000             INR                 IN            50   \n",
       "\n",
       "     company_location company_size  \n",
       "0                  ES            L  \n",
       "1                  US            S  \n",
       "2                  US            S  \n",
       "3                  CA            M  \n",
       "4                  CA            M  \n",
       "...               ...          ...  \n",
       "3750               US            L  \n",
       "3751               US            L  \n",
       "3752               US            S  \n",
       "3753               US            L  \n",
       "3754               IN            L  \n",
       "\n",
       "[3755 rows x 10 columns]"
      ]
     },
     "execution_count": 54,
     "metadata": {},
     "output_type": "execute_result"
    }
   ],
   "source": [
    "data_to_process=data.drop(columns=['salary_in_usd'])\n",
    "data_to_process"
   ]
  },
  {
   "cell_type": "code",
   "execution_count": 55,
   "id": "52370756",
   "metadata": {},
   "outputs": [],
   "source": [
    "brasil=data[data['company_location']==\"BR\"]"
   ]
  },
  {
   "cell_type": "code",
   "execution_count": 56,
   "id": "1d54acb1",
   "metadata": {},
   "outputs": [],
   "source": [
    "salario_brasil=brasil['salary_in_usd']/12*5"
   ]
  },
  {
   "cell_type": "code",
   "execution_count": 57,
   "id": "9af00926",
   "metadata": {},
   "outputs": [
    {
     "data": {
      "text/plain": [
       "<Axes: >"
      ]
     },
     "execution_count": 57,
     "metadata": {},
     "output_type": "execute_result"
    },
    {
     "data": {
      "image/png": "[encoded data removed]",
      "text/plain": [
       "<Figure size 640x480 with 1 Axes>"
      ]
     },
     "metadata": {},
     "output_type": "display_data"
    }
   ],
   "source": [
    "brasil=data[data['company_location']==\"BR\"]\n",
    "salario_brasil=brasil['salary_in_usd']/12*5\n",
    "salario_brasil.hist()"
   ]
  },
  {
   "cell_type": "code",
   "execution_count": null,
   "id": "a1e8cc2c",
   "metadata": {},
   "outputs": [],
   "source": []
  },
  {
   "cell_type": "code",
   "execution_count": 58,
   "id": "856a082c",
   "metadata": {},
   "outputs": [
    {
     "data": {
      "text/plain": [
       "array([[<Axes: title={'center': 'salary_in_usd'}>]], dtype=object)"
      ]
     },
     "execution_count": 58,
     "metadata": {},
     "output_type": "execute_result"
    },
    {
     "data": {
      "image/png": "[encoded data removed]",
      "text/plain": [
       "<Figure size 640x480 with 1 Axes>"
      ]
     },
     "metadata": {},
     "output_type": "display_data"
    }
   ],
   "source": [
    "mean_salary_per_country=data.groupby('company_location', as_index=False)['salary_in_usd'].mean()\n",
    "mean_salary_per_country.hist()"
   ]
  },
  {
   "cell_type": "code",
   "execution_count": 59,
   "id": "709975e0",
   "metadata": {},
   "outputs": [
    {
     "data": {
      "text/plain": [
       "10    16908.0\n",
       "Name: salary_in_usd, dtype: float64"
      ]
     },
     "execution_count": 59,
     "metadata": {},
     "output_type": "execute_result"
    }
   ],
   "source": [
    "mean_salary_per_country[mean_salary_per_country['company_location']==\"BR\"]['salary_in_usd']/12*5"
   ]
  },
  {
   "cell_type": "code",
   "execution_count": 60,
   "id": "2a668f2a",
   "metadata": {},
   "outputs": [
    {
     "data": {
      "text/html": [
       "<div>\n",
       "<style scoped>\n",
       "    .dataframe tbody tr th:only-of-type {\n",
       "        vertical-align: middle;\n",
       "    }\n",
       "\n",
       "    .dataframe tbody tr th {\n",
       "        vertical-align: top;\n",
       "    }\n",
       "\n",
       "    .dataframe thead th {\n",
       "        text-align: right;\n",
       "    }\n",
       "</style>\n",
       "<table border=\"1\" class=\"dataframe\">\n",
       "  <thead>\n",
       "    <tr style=\"text-align: right;\">\n",
       "      <th></th>\n",
       "      <th>experience_level</th>\n",
       "      <th>salary_in_usd</th>\n",
       "    </tr>\n",
       "  </thead>\n",
       "  <tbody>\n",
       "    <tr>\n",
       "      <th>0</th>\n",
       "      <td>EN</td>\n",
       "      <td>70000.0</td>\n",
       "    </tr>\n",
       "    <tr>\n",
       "      <th>1</th>\n",
       "      <td>EX</td>\n",
       "      <td>196000.0</td>\n",
       "    </tr>\n",
       "    <tr>\n",
       "      <th>2</th>\n",
       "      <td>MI</td>\n",
       "      <td>100000.0</td>\n",
       "    </tr>\n",
       "    <tr>\n",
       "      <th>3</th>\n",
       "      <td>SE</td>\n",
       "      <td>146000.0</td>\n",
       "    </tr>\n",
       "  </tbody>\n",
       "</table>\n",
       "</div>"
      ],
      "text/plain": [
       "  experience_level  salary_in_usd\n",
       "0               EN        70000.0\n",
       "1               EX       196000.0\n",
       "2               MI       100000.0\n",
       "3               SE       146000.0"
      ]
     },
     "execution_count": 60,
     "metadata": {},
     "output_type": "execute_result"
    }
   ],
   "source": [
    "data.groupby('experience_level', as_index=False)['salary_in_usd'].mean()\n",
    "data.groupby('experience_level', as_index=False)['salary_in_usd'].median()\n"
   ]
  },
  {
   "cell_type": "code",
   "execution_count": 61,
   "id": "4109dc71",
   "metadata": {},
   "outputs": [
    {
     "name": "stdout",
     "output_type": "stream",
     "text": [
      "<class 'pandas.core.frame.DataFrame'>\n",
      "RangeIndex: 3755 entries, 0 to 3754\n",
      "Data columns (total 11 columns):\n",
      " #   Column              Non-Null Count  Dtype \n",
      "---  ------              --------------  ----- \n",
      " 0   work_year           3755 non-null   int64 \n",
      " 1   experience_level    3755 non-null   object\n",
      " 2   employment_type     3755 non-null   object\n",
      " 3   job_title           3755 non-null   object\n",
      " 4   salary              3755 non-null   int64 \n",
      " 5   salary_currency     3755 non-null   object\n",
      " 6   salary_in_usd       3755 non-null   int64 \n",
      " 7   employee_residence  3755 non-null   object\n",
      " 8   remote_ratio        3755 non-null   int64 \n",
      " 9   company_location    3755 non-null   object\n",
      " 10  company_size        3755 non-null   object\n",
      "dtypes: int64(4), object(7)\n",
      "memory usage: 322.8+ KB\n"
     ]
    }
   ],
   "source": [
    "data.info()"
   ]
  },
  {
   "cell_type": "code",
   "execution_count": 119,
   "id": "a1863011",
   "metadata": {},
   "outputs": [
    {
     "data": {
      "text/plain": [
       "array(['Data Scientist', 'Machine Learning Engineer', 'Applied Scientist',\n",
       "       'Data Analyst', 'Data Engineer', 'Research Engineer',\n",
       "       'Analytics Engineer', 'Business Intelligence Engineer',\n",
       "       'Data Strategist', 'AI Developer', 'Research Scientist',\n",
       "       'ETL Engineer', 'Head of Data', 'Data Manager',\n",
       "       'Machine Learning Scientist', 'Data Specialist', 'MLOps Engineer',\n",
       "       'AI Scientist', 'Autonomous Vehicle Technician', 'AI Programmer',\n",
       "       'BI Developer', 'Deep Learning Researcher', 'Data Lead',\n",
       "       'NLP Engineer', 'Manager Data Management',\n",
       "       'Data Management Specialist', 'Machine Learning Manager',\n",
       "       'ETL Developer', 'Head of Machine Learning'], dtype=object)"
      ]
     },
     "execution_count": 119,
     "metadata": {},
     "output_type": "execute_result"
    }
   ],
   "source": [
    "data['job_title'].unique()\n"
   ]
  },
  {
   "cell_type": "code",
   "execution_count": 63,
   "id": "cfa77cde",
   "metadata": {},
   "outputs": [],
   "source": [
    "data.loc[data['job_title'].str.contains('Data Scientist', case=False), 'job_title'] = 'Data Scientist'\n"
   ]
  },
  {
   "cell_type": "code",
   "execution_count": 64,
   "id": "8743e702",
   "metadata": {},
   "outputs": [],
   "source": [
    "data.loc[data['job_title'].str.contains('Data Engineer', case=False), 'job_title'] = 'Data Engineer'\n"
   ]
  },
  {
   "cell_type": "code",
   "execution_count": 65,
   "id": "9af4b16e",
   "metadata": {},
   "outputs": [],
   "source": [
    "data.loc[data['job_title'].str.contains('Data Analyst', case=False), 'job_title'] = 'Data Analyst'\n"
   ]
  },
  {
   "cell_type": "code",
   "execution_count": 80,
   "id": "5f04aea8",
   "metadata": {},
   "outputs": [],
   "source": [
    "data.loc[data['job_title'].str.contains('Data Analytics', case=False), 'job_title'] = 'Data Analyst'\n"
   ]
  },
  {
   "cell_type": "code",
   "execution_count": 66,
   "id": "1c9404c2",
   "metadata": {},
   "outputs": [],
   "source": [
    "data.loc[data['job_title'].str.contains('Data Architect', case=False), 'job_title'] = 'Data Architect'"
   ]
  },
  {
   "cell_type": "code",
   "execution_count": 67,
   "id": "cdbb9cbb",
   "metadata": {},
   "outputs": [],
   "source": [
    "data.loc[data['job_title'].str.contains('Data Science', case=False), 'job_title'] = 'Data Scientist'\n"
   ]
  },
  {
   "cell_type": "code",
   "execution_count": 68,
   "id": "9d984d16",
   "metadata": {},
   "outputs": [],
   "source": [
    "data.loc[data['job_title'].str.contains('Machine Learning Engineer', case=False), 'job_title'] = 'Machine Learning Engineer'"
   ]
  },
  {
   "cell_type": "code",
   "execution_count": 84,
   "id": "07ddbb2a",
   "metadata": {},
   "outputs": [],
   "source": [
    "data.loc[data['job_title'].str.contains('Computer Vision', case=False), 'job_title'] = 'Machine Learning Engineer'"
   ]
  },
  {
   "cell_type": "code",
   "execution_count": 70,
   "id": "24868dcb",
   "metadata": {},
   "outputs": [],
   "source": [
    "data.loc[data['job_title'].str.contains('ML Engineer', case=False), 'job_title'] = 'Machine Learning Engineer'"
   ]
  },
  {
   "cell_type": "code",
   "execution_count": 71,
   "id": "f9d2dea3",
   "metadata": {},
   "outputs": [],
   "source": [
    "data.loc[data['job_title'].str.contains('AI Scientist', case=False), 'job_title'] = 'AI Scientist'\n"
   ]
  },
  {
   "cell_type": "code",
   "execution_count": 73,
   "id": "71f3f340",
   "metadata": {},
   "outputs": [],
   "source": [
    "data.loc[data['job_title'].str.contains('Machine Learning Developer', case=False), 'job_title'] = 'AI Developer'\n"
   ]
  },
  {
   "cell_type": "code",
   "execution_count": 74,
   "id": "09f9038c",
   "metadata": {},
   "outputs": [],
   "source": [
    "data.loc[data['job_title'].str.contains('Power BI Developer', case=False), 'job_title'] = 'BI Developer'\n"
   ]
  },
  {
   "cell_type": "code",
   "execution_count": 75,
   "id": "106302f6",
   "metadata": {},
   "outputs": [],
   "source": [
    "data.loc[data['job_title'].str.contains('Machine Learning Software Engineer', case=False), 'job_title'] = 'Machine Learning Engineer'\n"
   ]
  },
  {
   "cell_type": "code",
   "execution_count": 76,
   "id": "b9970946",
   "metadata": {},
   "outputs": [],
   "source": [
    "data.loc[data['job_title'].str.contains('Machine Learning Research Engineer', case=False), 'job_title'] = 'Machine Learning Engineer'\n"
   ]
  },
  {
   "cell_type": "code",
   "execution_count": 77,
   "id": "ba6b45b2",
   "metadata": {},
   "outputs": [],
   "source": [
    "data.loc[data['job_title'].str.contains('Deep Learning Engineer', case=False), 'job_title'] = 'Machine Learning Engineer'\n"
   ]
  },
  {
   "cell_type": "code",
   "execution_count": null,
   "id": "d7abae27",
   "metadata": {},
   "outputs": [],
   "source": [
    "data.loc[data['job_title'].str.contains('Deep Learning Engineer', case=False), 'job_title'] = 'Machine Learning Engineer'\n"
   ]
  },
  {
   "cell_type": "code",
   "execution_count": 91,
   "id": "9664b55e",
   "metadata": {},
   "outputs": [],
   "source": [
    "data.loc[data['job_title'].str.contains('Data Operations Engineer', case=False), 'job_title'] = 'Data Engineer'\n"
   ]
  },
  {
   "cell_type": "code",
   "execution_count": 93,
   "id": "bd1e231e",
   "metadata": {},
   "outputs": [],
   "source": [
    "data.loc[data['job_title'].str.contains('Data DevOps Engineer', case=False), 'job_title'] = 'Data Engineer'\n"
   ]
  },
  {
   "cell_type": "code",
   "execution_count": 98,
   "id": "38950d2f",
   "metadata": {},
   "outputs": [],
   "source": [
    "data.loc[data['job_title'].str.contains('Data Quality Analyst', case=False), 'job_title'] = 'Data Analyst'\n"
   ]
  },
  {
   "cell_type": "code",
   "execution_count": 99,
   "id": "23bb7bb7",
   "metadata": {},
   "outputs": [],
   "source": [
    "data.loc[data['job_title'].str.contains('BI Analyst', case=False), 'job_title'] = 'Data Analyst'\n"
   ]
  },
  {
   "cell_type": "code",
   "execution_count": 100,
   "id": "b846967e",
   "metadata": {},
   "outputs": [],
   "source": [
    "data.loc[data['job_title'].str.contains('Insight Analyst', case=False), 'job_title'] = 'Data Analyst'\n"
   ]
  },
  {
   "cell_type": "code",
   "execution_count": 101,
   "id": "73a8df0c",
   "metadata": {},
   "outputs": [],
   "source": [
    "data.loc[data['job_title'].str.contains('Data Operations Analyst', case=False), 'job_title'] = 'Data Analyst'\n"
   ]
  },
  {
   "cell_type": "code",
   "execution_count": 105,
   "id": "a8749b34",
   "metadata": {},
   "outputs": [],
   "source": [
    "data.loc[data['job_title'].str.contains('Applied Machine Learning Scientist', case=False), 'job_title'] = 'Machine Learning Scientist'\n"
   ]
  },
  {
   "cell_type": "code",
   "execution_count": 106,
   "id": "a10d0344",
   "metadata": {},
   "outputs": [],
   "source": [
    "data.loc[data['job_title'].str.contains('Machine Learning Researcher', case=False), 'job_title'] = 'Machine Learning Scientist'\n"
   ]
  },
  {
   "cell_type": "code",
   "execution_count": 108,
   "id": "4d649f8f",
   "metadata": {},
   "outputs": [],
   "source": [
    "data.loc[data['job_title'].str.contains('Machine Learning Infrastructure Engineer', case=False), 'job_title'] = 'Machine Learning Engineer'\n"
   ]
  },
  {
   "cell_type": "code",
   "execution_count": 112,
   "id": "da5d174f",
   "metadata": {},
   "outputs": [],
   "source": [
    "data.loc[data['job_title'].str.contains('Data Modeler', case=False), 'job_title'] = 'Data Engineer'\n"
   ]
  },
  {
   "cell_type": "code",
   "execution_count": 113,
   "id": "1eab33a1",
   "metadata": {},
   "outputs": [],
   "source": [
    "data.loc[data['job_title'].str.contains('Data Architect', case=False), 'job_title'] = 'Data Engineer'\n"
   ]
  },
  {
   "cell_type": "code",
   "execution_count": 114,
   "id": "c67fdee3",
   "metadata": {},
   "outputs": [],
   "source": [
    "data.loc[data['job_title'].str.contains('Data Infrastructure Engineer', case=False), 'job_title'] = 'Data Engineer'\n"
   ]
  },
  {
   "cell_type": "code",
   "execution_count": 115,
   "id": "90b05e79",
   "metadata": {},
   "outputs": [],
   "source": [
    "data.loc[data['job_title'].str.contains('Cloud Database Engineer', case=False), 'job_title'] = 'Data Engineer'\n"
   ]
  },
  {
   "cell_type": "code",
   "execution_count": 121,
   "id": "ec9eacf7",
   "metadata": {},
   "outputs": [],
   "source": [
    "data.loc[data['job_title'].str.contains('Applied Scientist', case=False), 'job_title'] = 'Data Scientist'\n"
   ]
  },
  {
   "cell_type": "code",
   "execution_count": 122,
   "id": "ccc14481",
   "metadata": {},
   "outputs": [],
   "source": [
    "data.loc[data['job_title'].str.contains('BI', case=False), 'job_title'] = 'Business Intelligence'\n"
   ]
  },
  {
   "cell_type": "code",
   "execution_count": 123,
   "id": "f2f455db",
   "metadata": {},
   "outputs": [],
   "source": [
    "data.loc[data['job_title'].str.contains('Business Intelligence', case=False), 'job_title'] = 'Business Intelligence'\n"
   ]
  },
  {
   "cell_type": "code",
   "execution_count": 125,
   "id": "46db5c2b",
   "metadata": {},
   "outputs": [],
   "source": [
    "data.loc[data['job_title'].str.contains('Deep Learning Researcher', case=False), 'job_title'] = 'Machine Learning Scientist'\n"
   ]
  },
  {
   "cell_type": "code",
   "execution_count": 126,
   "id": "8639836b",
   "metadata": {},
   "outputs": [],
   "source": [
    "data.loc[data['job_title'].str.contains('AI Programmer', case=False), 'job_title'] = 'AI Developer'\n"
   ]
  },
  {
   "cell_type": "code",
   "execution_count": 130,
   "id": "78db5866",
   "metadata": {},
   "outputs": [],
   "source": [
    "data.loc[data['job_title'].str.contains('NLP Engineer', case=False), 'job_title'] = 'Machine Learning Engineer'\n"
   ]
  },
  {
   "cell_type": "code",
   "execution_count": 134,
   "id": "c9820cfd",
   "metadata": {},
   "outputs": [],
   "source": [
    "data.loc[data['job_title'].str.contains('Data Management Specialist', case=False), 'job_title'] = 'Data Specialist'"
   ]
  },
  {
   "cell_type": "code",
   "execution_count": 137,
   "id": "44fe15f4",
   "metadata": {},
   "outputs": [],
   "source": [
    "data.loc[data['job_title'].str.contains('Data Manager', case=False), 'job_title'] = 'Manager Data'"
   ]
  },
  {
   "cell_type": "code",
   "execution_count": 138,
   "id": "86cdcc1f",
   "metadata": {},
   "outputs": [],
   "source": [
    "data.loc[data['job_title'].str.contains('Head of Data', case=False), 'job_title'] = 'Manager Data'"
   ]
  },
  {
   "cell_type": "code",
   "execution_count": 139,
   "id": "9ae0c7f4",
   "metadata": {},
   "outputs": [],
   "source": [
    "data.loc[data['job_title'].str.contains('Data Lead', case=False), 'job_title'] = 'Manager Data'"
   ]
  },
  {
   "cell_type": "code",
   "execution_count": 140,
   "id": "ceccedaf",
   "metadata": {},
   "outputs": [],
   "source": [
    "data.loc[data['job_title'].str.contains('Manager Data Management', case=False), 'job_title'] = 'Manager Data'"
   ]
  },
  {
   "cell_type": "code",
   "execution_count": 144,
   "id": "a8ff9915",
   "metadata": {},
   "outputs": [],
   "source": [
    "data.loc[data['job_title'].str.contains('Machine Learning Manager', case=False), 'job_title'] = 'Manager Machine Learning'"
   ]
  },
  {
   "cell_type": "code",
   "execution_count": 145,
   "id": "dfc961ee",
   "metadata": {},
   "outputs": [],
   "source": [
    "data.loc[data['job_title'].str.contains('Head of Machine Learning', case=False), 'job_title'] = 'Manager Machine Learning'"
   ]
  },
  {
   "cell_type": "code",
   "execution_count": 149,
   "id": "a6c4eb78",
   "metadata": {},
   "outputs": [],
   "source": [
    "data.loc[data['job_title'].str.contains('AI Scientist', case=False), 'job_title'] = 'Machine Learning Scientist'"
   ]
  },
  {
   "cell_type": "code",
   "execution_count": 160,
   "id": "cb26041e",
   "metadata": {},
   "outputs": [
    {
     "data": {
      "text/plain": [
       "17"
      ]
     },
     "execution_count": 160,
     "metadata": {},
     "output_type": "execute_result"
    }
   ],
   "source": [
    "data['job_title'].nunique()"
   ]
  },
  {
   "cell_type": "code",
   "execution_count": 158,
   "id": "f6318718",
   "metadata": {},
   "outputs": [],
   "source": [
    "data = data.drop(data[data.job_title == \"Autonomous Vehicle Technician\"].index)"
   ]
  },
  {
   "cell_type": "code",
   "execution_count": null,
   "id": "b1149dd1",
   "metadata": {},
   "outputs": [],
   "source": []
  }
 ],
 "metadata": {
  "kernelspec": {
   "display_name": "Python 3 (ipykernel)",
   "language": "python",
   "name": "python3"
  },
  "language_info": {
   "codemirror_mode": {
    "name": "ipython",
    "version": 3
   },
   "file_extension": ".py",
   "mimetype": "text/x-python",
   "name": "python",
   "nbconvert_exporter": "python",
   "pygments_lexer": "ipython3",
   "version": "3.10.9"
  }
 },
 "nbformat": 4,
 "nbformat_minor": 5
}
