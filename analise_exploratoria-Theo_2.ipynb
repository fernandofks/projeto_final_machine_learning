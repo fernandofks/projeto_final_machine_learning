{
 "cells": [
  {
   "cell_type": "code",
   "execution_count": 1,
   "id": "e2a66d9c",
   "metadata": {},
   "outputs": [],
   "source": [
    "import pandas as pd\n",
    "import numpy as np\n",
    "import matplotlib.pyplot as plt"
   ]
  },
  {
   "cell_type": "code",
   "execution_count": 2,
   "id": "d0bfb15b",
   "metadata": {},
   "outputs": [
    {
     "data": {
      "text/html": [
       "<div>\n",
       "<style scoped>\n",
       "    .dataframe tbody tr th:only-of-type {\n",
       "        vertical-align: middle;\n",
       "    }\n",
       "\n",
       "    .dataframe tbody tr th {\n",
       "        vertical-align: top;\n",
       "    }\n",
       "\n",
       "    .dataframe thead th {\n",
       "        text-align: right;\n",
       "    }\n",
       "</style>\n",
       "<table border=\"1\" class=\"dataframe\">\n",
       "  <thead>\n",
       "    <tr style=\"text-align: right;\">\n",
       "      <th></th>\n",
       "      <th>work_year</th>\n",
       "      <th>experience_level</th>\n",
       "      <th>employment_type</th>\n",
       "      <th>job_title</th>\n",
       "      <th>salary</th>\n",
       "      <th>salary_currency</th>\n",
       "      <th>salary_in_usd</th>\n",
       "      <th>employee_residence</th>\n",
       "      <th>remote_ratio</th>\n",
       "      <th>company_location</th>\n",
       "      <th>company_size</th>\n",
       "    </tr>\n",
       "  </thead>\n",
       "  <tbody>\n",
       "    <tr>\n",
       "      <th>0</th>\n",
       "      <td>2023</td>\n",
       "      <td>SE</td>\n",
       "      <td>FT</td>\n",
       "      <td>Principal Data Scientist</td>\n",
       "      <td>80000</td>\n",
       "      <td>EUR</td>\n",
       "      <td>85847</td>\n",
       "      <td>ES</td>\n",
       "      <td>100</td>\n",
       "      <td>ES</td>\n",
       "      <td>L</td>\n",
       "    </tr>\n",
       "    <tr>\n",
       "      <th>1</th>\n",
       "      <td>2023</td>\n",
       "      <td>MI</td>\n",
       "      <td>CT</td>\n",
       "      <td>ML Engineer</td>\n",
       "      <td>30000</td>\n",
       "      <td>USD</td>\n",
       "      <td>30000</td>\n",
       "      <td>US</td>\n",
       "      <td>100</td>\n",
       "      <td>US</td>\n",
       "      <td>S</td>\n",
       "    </tr>\n",
       "    <tr>\n",
       "      <th>2</th>\n",
       "      <td>2023</td>\n",
       "      <td>MI</td>\n",
       "      <td>CT</td>\n",
       "      <td>ML Engineer</td>\n",
       "      <td>25500</td>\n",
       "      <td>USD</td>\n",
       "      <td>25500</td>\n",
       "      <td>US</td>\n",
       "      <td>100</td>\n",
       "      <td>US</td>\n",
       "      <td>S</td>\n",
       "    </tr>\n",
       "    <tr>\n",
       "      <th>3</th>\n",
       "      <td>2023</td>\n",
       "      <td>SE</td>\n",
       "      <td>FT</td>\n",
       "      <td>Data Scientist</td>\n",
       "      <td>175000</td>\n",
       "      <td>USD</td>\n",
       "      <td>175000</td>\n",
       "      <td>CA</td>\n",
       "      <td>100</td>\n",
       "      <td>CA</td>\n",
       "      <td>M</td>\n",
       "    </tr>\n",
       "    <tr>\n",
       "      <th>4</th>\n",
       "      <td>2023</td>\n",
       "      <td>SE</td>\n",
       "      <td>FT</td>\n",
       "      <td>Data Scientist</td>\n",
       "      <td>120000</td>\n",
       "      <td>USD</td>\n",
       "      <td>120000</td>\n",
       "      <td>CA</td>\n",
       "      <td>100</td>\n",
       "      <td>CA</td>\n",
       "      <td>M</td>\n",
       "    </tr>\n",
       "    <tr>\n",
       "      <th>...</th>\n",
       "      <td>...</td>\n",
       "      <td>...</td>\n",
       "      <td>...</td>\n",
       "      <td>...</td>\n",
       "      <td>...</td>\n",
       "      <td>...</td>\n",
       "      <td>...</td>\n",
       "      <td>...</td>\n",
       "      <td>...</td>\n",
       "      <td>...</td>\n",
       "      <td>...</td>\n",
       "    </tr>\n",
       "    <tr>\n",
       "      <th>3750</th>\n",
       "      <td>2020</td>\n",
       "      <td>SE</td>\n",
       "      <td>FT</td>\n",
       "      <td>Data Scientist</td>\n",
       "      <td>412000</td>\n",
       "      <td>USD</td>\n",
       "      <td>412000</td>\n",
       "      <td>US</td>\n",
       "      <td>100</td>\n",
       "      <td>US</td>\n",
       "      <td>L</td>\n",
       "    </tr>\n",
       "    <tr>\n",
       "      <th>3751</th>\n",
       "      <td>2021</td>\n",
       "      <td>MI</td>\n",
       "      <td>FT</td>\n",
       "      <td>Principal Data Scientist</td>\n",
       "      <td>151000</td>\n",
       "      <td>USD</td>\n",
       "      <td>151000</td>\n",
       "      <td>US</td>\n",
       "      <td>100</td>\n",
       "      <td>US</td>\n",
       "      <td>L</td>\n",
       "    </tr>\n",
       "    <tr>\n",
       "      <th>3752</th>\n",
       "      <td>2020</td>\n",
       "      <td>EN</td>\n",
       "      <td>FT</td>\n",
       "      <td>Data Scientist</td>\n",
       "      <td>105000</td>\n",
       "      <td>USD</td>\n",
       "      <td>105000</td>\n",
       "      <td>US</td>\n",
       "      <td>100</td>\n",
       "      <td>US</td>\n",
       "      <td>S</td>\n",
       "    </tr>\n",
       "    <tr>\n",
       "      <th>3753</th>\n",
       "      <td>2020</td>\n",
       "      <td>EN</td>\n",
       "      <td>CT</td>\n",
       "      <td>Business Data Analyst</td>\n",
       "      <td>100000</td>\n",
       "      <td>USD</td>\n",
       "      <td>100000</td>\n",
       "      <td>US</td>\n",
       "      <td>100</td>\n",
       "      <td>US</td>\n",
       "      <td>L</td>\n",
       "    </tr>\n",
       "    <tr>\n",
       "      <th>3754</th>\n",
       "      <td>2021</td>\n",
       "      <td>SE</td>\n",
       "      <td>FT</td>\n",
       "      <td>Data Science Manager</td>\n",
       "      <td>7000000</td>\n",
       "      <td>INR</td>\n",
       "      <td>94665</td>\n",
       "      <td>IN</td>\n",
       "      <td>50</td>\n",
       "      <td>IN</td>\n",
       "      <td>L</td>\n",
       "    </tr>\n",
       "  </tbody>\n",
       "</table>\n",
       "<p>3755 rows × 11 columns</p>\n",
       "</div>"
      ],
      "text/plain": [
       "      work_year experience_level employment_type                 job_title  \\\n",
       "0          2023               SE              FT  Principal Data Scientist   \n",
       "1          2023               MI              CT               ML Engineer   \n",
       "2          2023               MI              CT               ML Engineer   \n",
       "3          2023               SE              FT            Data Scientist   \n",
       "4          2023               SE              FT            Data Scientist   \n",
       "...         ...              ...             ...                       ...   \n",
       "3750       2020               SE              FT            Data Scientist   \n",
       "3751       2021               MI              FT  Principal Data Scientist   \n",
       "3752       2020               EN              FT            Data Scientist   \n",
       "3753       2020               EN              CT     Business Data Analyst   \n",
       "3754       2021               SE              FT      Data Science Manager   \n",
       "\n",
       "       salary salary_currency  salary_in_usd employee_residence  remote_ratio  \\\n",
       "0       80000             EUR          85847                 ES           100   \n",
       "1       30000             USD          30000                 US           100   \n",
       "2       25500             USD          25500                 US           100   \n",
       "3      175000             USD         175000                 CA           100   \n",
       "4      120000             USD         120000                 CA           100   \n",
       "...       ...             ...            ...                ...           ...   \n",
       "3750   412000             USD         412000                 US           100   \n",
       "3751   151000             USD         151000                 US           100   \n",
       "3752   105000             USD         105000                 US           100   \n",
       "3753   100000             USD         100000                 US           100   \n",
       "3754  7000000             INR          94665                 IN            50   \n",
       "\n",
       "     company_location company_size  \n",
       "0                  ES            L  \n",
       "1                  US            S  \n",
       "2                  US            S  \n",
       "3                  CA            M  \n",
       "4                  CA            M  \n",
       "...               ...          ...  \n",
       "3750               US            L  \n",
       "3751               US            L  \n",
       "3752               US            S  \n",
       "3753               US            L  \n",
       "3754               IN            L  \n",
       "\n",
       "[3755 rows x 11 columns]"
      ]
     },
     "execution_count": 2,
     "metadata": {},
     "output_type": "execute_result"
    }
   ],
   "source": [
    "data = pd.read_csv('./ds_salaries.csv')\n",
    "data"
   ]
  },
  {
   "cell_type": "code",
   "execution_count": 3,
   "id": "e82e2cb2",
   "metadata": {},
   "outputs": [
    {
     "data": {
      "text/plain": [
       "<AxesSubplot:>"
      ]
     },
     "execution_count": 3,
     "metadata": {},
     "output_type": "execute_result"
    },
    {
     "data": {
      "image/png": "[encoded data removed]",
      "text/plain": [
       "<Figure size 432x288 with 1 Axes>"
      ]
     },
     "metadata": {
      "needs_background": "light"
     },
     "output_type": "display_data"
    }
   ],
   "source": [
    "data['employment_type'].value_counts().sort_index().plot.barh()"
   ]
  },
  {
   "cell_type": "code",
   "execution_count": 4,
   "id": "2e1d4496",
   "metadata": {},
   "outputs": [],
   "source": [
    "data['experience_level'] = data['experience_level'] \\\n",
    "    .astype('category') \\\n",
    "    .cat \\\n",
    "    .set_categories(['EN', 'MI', 'SE', 'EX'], ordered=True)"
   ]
  },
  {
   "cell_type": "code",
   "execution_count": 5,
   "id": "97412425",
   "metadata": {},
   "outputs": [
    {
     "data": {
      "text/plain": [
       "0        85847\n",
       "1        30000\n",
       "2        25500\n",
       "3       175000\n",
       "4       120000\n",
       "         ...  \n",
       "3750    412000\n",
       "3751    151000\n",
       "3752    105000\n",
       "3753    100000\n",
       "3754     94665\n",
       "Name: salary_in_usd, Length: 3755, dtype: int64"
      ]
     },
     "execution_count": 5,
     "metadata": {},
     "output_type": "execute_result"
    }
   ],
   "source": [
    "salaries_usd=data['salary_in_usd'].copy()\n",
    "salaries_usd"
   ]
  },
  {
   "cell_type": "code",
   "execution_count": 6,
   "id": "35953aae",
   "metadata": {},
   "outputs": [
    {
     "data": {
      "text/html": [
       "<div>\n",
       "<style scoped>\n",
       "    .dataframe tbody tr th:only-of-type {\n",
       "        vertical-align: middle;\n",
       "    }\n",
       "\n",
       "    .dataframe tbody tr th {\n",
       "        vertical-align: top;\n",
       "    }\n",
       "\n",
       "    .dataframe thead th {\n",
       "        text-align: right;\n",
       "    }\n",
       "</style>\n",
       "<table border=\"1\" class=\"dataframe\">\n",
       "  <thead>\n",
       "    <tr style=\"text-align: right;\">\n",
       "      <th></th>\n",
       "      <th>work_year</th>\n",
       "      <th>experience_level</th>\n",
       "      <th>employment_type</th>\n",
       "      <th>job_title</th>\n",
       "      <th>salary</th>\n",
       "      <th>salary_currency</th>\n",
       "      <th>salary_in_usd</th>\n",
       "      <th>employee_residence</th>\n",
       "      <th>remote_ratio</th>\n",
       "      <th>company_location</th>\n",
       "      <th>company_size</th>\n",
       "    </tr>\n",
       "  </thead>\n",
       "  <tbody>\n",
       "    <tr>\n",
       "      <th>0</th>\n",
       "      <td>2023</td>\n",
       "      <td>SE</td>\n",
       "      <td>FT</td>\n",
       "      <td>Principal Data Scientist</td>\n",
       "      <td>80000</td>\n",
       "      <td>EUR</td>\n",
       "      <td>85847</td>\n",
       "      <td>ES</td>\n",
       "      <td>100</td>\n",
       "      <td>ES</td>\n",
       "      <td>L</td>\n",
       "    </tr>\n",
       "    <tr>\n",
       "      <th>1</th>\n",
       "      <td>2023</td>\n",
       "      <td>MI</td>\n",
       "      <td>CT</td>\n",
       "      <td>ML Engineer</td>\n",
       "      <td>30000</td>\n",
       "      <td>USD</td>\n",
       "      <td>30000</td>\n",
       "      <td>US</td>\n",
       "      <td>100</td>\n",
       "      <td>US</td>\n",
       "      <td>S</td>\n",
       "    </tr>\n",
       "    <tr>\n",
       "      <th>2</th>\n",
       "      <td>2023</td>\n",
       "      <td>MI</td>\n",
       "      <td>CT</td>\n",
       "      <td>ML Engineer</td>\n",
       "      <td>25500</td>\n",
       "      <td>USD</td>\n",
       "      <td>25500</td>\n",
       "      <td>US</td>\n",
       "      <td>100</td>\n",
       "      <td>US</td>\n",
       "      <td>S</td>\n",
       "    </tr>\n",
       "    <tr>\n",
       "      <th>3</th>\n",
       "      <td>2023</td>\n",
       "      <td>SE</td>\n",
       "      <td>FT</td>\n",
       "      <td>Data Scientist</td>\n",
       "      <td>175000</td>\n",
       "      <td>USD</td>\n",
       "      <td>175000</td>\n",
       "      <td>CA</td>\n",
       "      <td>100</td>\n",
       "      <td>CA</td>\n",
       "      <td>M</td>\n",
       "    </tr>\n",
       "    <tr>\n",
       "      <th>4</th>\n",
       "      <td>2023</td>\n",
       "      <td>SE</td>\n",
       "      <td>FT</td>\n",
       "      <td>Data Scientist</td>\n",
       "      <td>120000</td>\n",
       "      <td>USD</td>\n",
       "      <td>120000</td>\n",
       "      <td>CA</td>\n",
       "      <td>100</td>\n",
       "      <td>CA</td>\n",
       "      <td>M</td>\n",
       "    </tr>\n",
       "    <tr>\n",
       "      <th>...</th>\n",
       "      <td>...</td>\n",
       "      <td>...</td>\n",
       "      <td>...</td>\n",
       "      <td>...</td>\n",
       "      <td>...</td>\n",
       "      <td>...</td>\n",
       "      <td>...</td>\n",
       "      <td>...</td>\n",
       "      <td>...</td>\n",
       "      <td>...</td>\n",
       "      <td>...</td>\n",
       "    </tr>\n",
       "    <tr>\n",
       "      <th>3750</th>\n",
       "      <td>2020</td>\n",
       "      <td>SE</td>\n",
       "      <td>FT</td>\n",
       "      <td>Data Scientist</td>\n",
       "      <td>412000</td>\n",
       "      <td>USD</td>\n",
       "      <td>412000</td>\n",
       "      <td>US</td>\n",
       "      <td>100</td>\n",
       "      <td>US</td>\n",
       "      <td>L</td>\n",
       "    </tr>\n",
       "    <tr>\n",
       "      <th>3751</th>\n",
       "      <td>2021</td>\n",
       "      <td>MI</td>\n",
       "      <td>FT</td>\n",
       "      <td>Principal Data Scientist</td>\n",
       "      <td>151000</td>\n",
       "      <td>USD</td>\n",
       "      <td>151000</td>\n",
       "      <td>US</td>\n",
       "      <td>100</td>\n",
       "      <td>US</td>\n",
       "      <td>L</td>\n",
       "    </tr>\n",
       "    <tr>\n",
       "      <th>3752</th>\n",
       "      <td>2020</td>\n",
       "      <td>EN</td>\n",
       "      <td>FT</td>\n",
       "      <td>Data Scientist</td>\n",
       "      <td>105000</td>\n",
       "      <td>USD</td>\n",
       "      <td>105000</td>\n",
       "      <td>US</td>\n",
       "      <td>100</td>\n",
       "      <td>US</td>\n",
       "      <td>S</td>\n",
       "    </tr>\n",
       "    <tr>\n",
       "      <th>3753</th>\n",
       "      <td>2020</td>\n",
       "      <td>EN</td>\n",
       "      <td>CT</td>\n",
       "      <td>Business Data Analyst</td>\n",
       "      <td>100000</td>\n",
       "      <td>USD</td>\n",
       "      <td>100000</td>\n",
       "      <td>US</td>\n",
       "      <td>100</td>\n",
       "      <td>US</td>\n",
       "      <td>L</td>\n",
       "    </tr>\n",
       "    <tr>\n",
       "      <th>3754</th>\n",
       "      <td>2021</td>\n",
       "      <td>SE</td>\n",
       "      <td>FT</td>\n",
       "      <td>Data Science Manager</td>\n",
       "      <td>7000000</td>\n",
       "      <td>INR</td>\n",
       "      <td>94665</td>\n",
       "      <td>IN</td>\n",
       "      <td>50</td>\n",
       "      <td>IN</td>\n",
       "      <td>L</td>\n",
       "    </tr>\n",
       "  </tbody>\n",
       "</table>\n",
       "<p>3755 rows × 11 columns</p>\n",
       "</div>"
      ],
      "text/plain": [
       "      work_year experience_level employment_type                 job_title  \\\n",
       "0          2023               SE              FT  Principal Data Scientist   \n",
       "1          2023               MI              CT               ML Engineer   \n",
       "2          2023               MI              CT               ML Engineer   \n",
       "3          2023               SE              FT            Data Scientist   \n",
       "4          2023               SE              FT            Data Scientist   \n",
       "...         ...              ...             ...                       ...   \n",
       "3750       2020               SE              FT            Data Scientist   \n",
       "3751       2021               MI              FT  Principal Data Scientist   \n",
       "3752       2020               EN              FT            Data Scientist   \n",
       "3753       2020               EN              CT     Business Data Analyst   \n",
       "3754       2021               SE              FT      Data Science Manager   \n",
       "\n",
       "       salary salary_currency  salary_in_usd employee_residence  remote_ratio  \\\n",
       "0       80000             EUR          85847                 ES           100   \n",
       "1       30000             USD          30000                 US           100   \n",
       "2       25500             USD          25500                 US           100   \n",
       "3      175000             USD         175000                 CA           100   \n",
       "4      120000             USD         120000                 CA           100   \n",
       "...       ...             ...            ...                ...           ...   \n",
       "3750   412000             USD         412000                 US           100   \n",
       "3751   151000             USD         151000                 US           100   \n",
       "3752   105000             USD         105000                 US           100   \n",
       "3753   100000             USD         100000                 US           100   \n",
       "3754  7000000             INR          94665                 IN            50   \n",
       "\n",
       "     company_location company_size  \n",
       "0                  ES            L  \n",
       "1                  US            S  \n",
       "2                  US            S  \n",
       "3                  CA            M  \n",
       "4                  CA            M  \n",
       "...               ...          ...  \n",
       "3750               US            L  \n",
       "3751               US            L  \n",
       "3752               US            S  \n",
       "3753               US            L  \n",
       "3754               IN            L  \n",
       "\n",
       "[3755 rows x 11 columns]"
      ]
     },
     "execution_count": 6,
     "metadata": {},
     "output_type": "execute_result"
    }
   ],
   "source": [
    "data_to_process=data\n",
    "data_to_process"
   ]
  },
  {
   "cell_type": "code",
   "execution_count": null,
   "id": "326f137b",
   "metadata": {},
   "outputs": [],
   "source": []
  },
  {
   "cell_type": "code",
   "execution_count": 7,
   "id": "856a082c",
   "metadata": {},
   "outputs": [
    {
     "data": {
      "text/html": [
       "<div>\n",
       "<style scoped>\n",
       "    .dataframe tbody tr th:only-of-type {\n",
       "        vertical-align: middle;\n",
       "    }\n",
       "\n",
       "    .dataframe tbody tr th {\n",
       "        vertical-align: top;\n",
       "    }\n",
       "\n",
       "    .dataframe thead th {\n",
       "        text-align: right;\n",
       "    }\n",
       "</style>\n",
       "<table border=\"1\" class=\"dataframe\">\n",
       "  <thead>\n",
       "    <tr style=\"text-align: right;\">\n",
       "      <th></th>\n",
       "      <th>work_year</th>\n",
       "      <th>experience_level</th>\n",
       "      <th>employment_type</th>\n",
       "      <th>job_title</th>\n",
       "      <th>salary_in_usd</th>\n",
       "      <th>employee_residence</th>\n",
       "      <th>remote_ratio</th>\n",
       "      <th>company_location</th>\n",
       "      <th>company_size</th>\n",
       "    </tr>\n",
       "  </thead>\n",
       "  <tbody>\n",
       "    <tr>\n",
       "      <th>0</th>\n",
       "      <td>2023</td>\n",
       "      <td>SE</td>\n",
       "      <td>FT</td>\n",
       "      <td>Principal Data Scientist</td>\n",
       "      <td>85847</td>\n",
       "      <td>ES</td>\n",
       "      <td>100</td>\n",
       "      <td>ES</td>\n",
       "      <td>L</td>\n",
       "    </tr>\n",
       "    <tr>\n",
       "      <th>1</th>\n",
       "      <td>2023</td>\n",
       "      <td>MI</td>\n",
       "      <td>CT</td>\n",
       "      <td>ML Engineer</td>\n",
       "      <td>30000</td>\n",
       "      <td>US</td>\n",
       "      <td>100</td>\n",
       "      <td>US</td>\n",
       "      <td>S</td>\n",
       "    </tr>\n",
       "    <tr>\n",
       "      <th>2</th>\n",
       "      <td>2023</td>\n",
       "      <td>MI</td>\n",
       "      <td>CT</td>\n",
       "      <td>ML Engineer</td>\n",
       "      <td>25500</td>\n",
       "      <td>US</td>\n",
       "      <td>100</td>\n",
       "      <td>US</td>\n",
       "      <td>S</td>\n",
       "    </tr>\n",
       "    <tr>\n",
       "      <th>3</th>\n",
       "      <td>2023</td>\n",
       "      <td>SE</td>\n",
       "      <td>FT</td>\n",
       "      <td>Data Scientist</td>\n",
       "      <td>175000</td>\n",
       "      <td>CA</td>\n",
       "      <td>100</td>\n",
       "      <td>CA</td>\n",
       "      <td>M</td>\n",
       "    </tr>\n",
       "    <tr>\n",
       "      <th>4</th>\n",
       "      <td>2023</td>\n",
       "      <td>SE</td>\n",
       "      <td>FT</td>\n",
       "      <td>Data Scientist</td>\n",
       "      <td>120000</td>\n",
       "      <td>CA</td>\n",
       "      <td>100</td>\n",
       "      <td>CA</td>\n",
       "      <td>M</td>\n",
       "    </tr>\n",
       "    <tr>\n",
       "      <th>...</th>\n",
       "      <td>...</td>\n",
       "      <td>...</td>\n",
       "      <td>...</td>\n",
       "      <td>...</td>\n",
       "      <td>...</td>\n",
       "      <td>...</td>\n",
       "      <td>...</td>\n",
       "      <td>...</td>\n",
       "      <td>...</td>\n",
       "    </tr>\n",
       "    <tr>\n",
       "      <th>3750</th>\n",
       "      <td>2020</td>\n",
       "      <td>SE</td>\n",
       "      <td>FT</td>\n",
       "      <td>Data Scientist</td>\n",
       "      <td>412000</td>\n",
       "      <td>US</td>\n",
       "      <td>100</td>\n",
       "      <td>US</td>\n",
       "      <td>L</td>\n",
       "    </tr>\n",
       "    <tr>\n",
       "      <th>3751</th>\n",
       "      <td>2021</td>\n",
       "      <td>MI</td>\n",
       "      <td>FT</td>\n",
       "      <td>Principal Data Scientist</td>\n",
       "      <td>151000</td>\n",
       "      <td>US</td>\n",
       "      <td>100</td>\n",
       "      <td>US</td>\n",
       "      <td>L</td>\n",
       "    </tr>\n",
       "    <tr>\n",
       "      <th>3752</th>\n",
       "      <td>2020</td>\n",
       "      <td>EN</td>\n",
       "      <td>FT</td>\n",
       "      <td>Data Scientist</td>\n",
       "      <td>105000</td>\n",
       "      <td>US</td>\n",
       "      <td>100</td>\n",
       "      <td>US</td>\n",
       "      <td>S</td>\n",
       "    </tr>\n",
       "    <tr>\n",
       "      <th>3753</th>\n",
       "      <td>2020</td>\n",
       "      <td>EN</td>\n",
       "      <td>CT</td>\n",
       "      <td>Business Data Analyst</td>\n",
       "      <td>100000</td>\n",
       "      <td>US</td>\n",
       "      <td>100</td>\n",
       "      <td>US</td>\n",
       "      <td>L</td>\n",
       "    </tr>\n",
       "    <tr>\n",
       "      <th>3754</th>\n",
       "      <td>2021</td>\n",
       "      <td>SE</td>\n",
       "      <td>FT</td>\n",
       "      <td>Data Science Manager</td>\n",
       "      <td>94665</td>\n",
       "      <td>IN</td>\n",
       "      <td>50</td>\n",
       "      <td>IN</td>\n",
       "      <td>L</td>\n",
       "    </tr>\n",
       "  </tbody>\n",
       "</table>\n",
       "<p>3755 rows × 9 columns</p>\n",
       "</div>"
      ],
      "text/plain": [
       "      work_year experience_level employment_type                 job_title  \\\n",
       "0          2023               SE              FT  Principal Data Scientist   \n",
       "1          2023               MI              CT               ML Engineer   \n",
       "2          2023               MI              CT               ML Engineer   \n",
       "3          2023               SE              FT            Data Scientist   \n",
       "4          2023               SE              FT            Data Scientist   \n",
       "...         ...              ...             ...                       ...   \n",
       "3750       2020               SE              FT            Data Scientist   \n",
       "3751       2021               MI              FT  Principal Data Scientist   \n",
       "3752       2020               EN              FT            Data Scientist   \n",
       "3753       2020               EN              CT     Business Data Analyst   \n",
       "3754       2021               SE              FT      Data Science Manager   \n",
       "\n",
       "      salary_in_usd employee_residence  remote_ratio company_location  \\\n",
       "0             85847                 ES           100               ES   \n",
       "1             30000                 US           100               US   \n",
       "2             25500                 US           100               US   \n",
       "3            175000                 CA           100               CA   \n",
       "4            120000                 CA           100               CA   \n",
       "...             ...                ...           ...              ...   \n",
       "3750         412000                 US           100               US   \n",
       "3751         151000                 US           100               US   \n",
       "3752         105000                 US           100               US   \n",
       "3753         100000                 US           100               US   \n",
       "3754          94665                 IN            50               IN   \n",
       "\n",
       "     company_size  \n",
       "0               L  \n",
       "1               S  \n",
       "2               S  \n",
       "3               M  \n",
       "4               M  \n",
       "...           ...  \n",
       "3750            L  \n",
       "3751            L  \n",
       "3752            S  \n",
       "3753            L  \n",
       "3754            L  \n",
       "\n",
       "[3755 rows x 9 columns]"
      ]
     },
     "execution_count": 7,
     "metadata": {},
     "output_type": "execute_result"
    }
   ],
   "source": [
    "data_of_interest=data_to_process.drop(columns=['salary','salary_currency']).copy()\n",
    "data_of_interest"
   ]
  },
  {
   "cell_type": "markdown",
   "id": "f38dc98b",
   "metadata": {},
   "source": [
    "# work_year"
   ]
  },
  {
   "cell_type": "code",
   "execution_count": 8,
   "id": "6ff26f77",
   "metadata": {},
   "outputs": [
    {
     "data": {
      "text/plain": [
       "<AxesSubplot:>"
      ]
     },
     "execution_count": 8,
     "metadata": {},
     "output_type": "execute_result"
    },
    {
     "data": {
      "image/png": "[encoded data removed]",
      "text/plain": [
       "<Figure size 432x288 with 1 Axes>"
      ]
     },
     "metadata": {
      "needs_background": "light"
     },
     "output_type": "display_data"
    }
   ],
   "source": [
    "data_of_interest['work_year'].value_counts().plot.barh()"
   ]
  },
  {
   "cell_type": "markdown",
   "id": "1ed6d881",
   "metadata": {},
   "source": [
    "# experience_level"
   ]
  },
  {
   "cell_type": "code",
   "execution_count": 9,
   "id": "5beb5308",
   "metadata": {},
   "outputs": [
    {
     "data": {
      "text/plain": [
       "<AxesSubplot:>"
      ]
     },
     "execution_count": 9,
     "metadata": {},
     "output_type": "execute_result"
    },
    {
     "data": {
      "image/png": "[encoded data removed]",
      "text/plain": [
       "<Figure size 432x288 with 1 Axes>"
      ]
     },
     "metadata": {
      "needs_background": "light"
     },
     "output_type": "display_data"
    }
   ],
   "source": [
    "data_of_interest['experience_level'].value_counts().sort_index(ascending=False).plot(kind='barh')"
   ]
  },
  {
   "cell_type": "code",
   "execution_count": null,
   "id": "f5e109c9",
   "metadata": {},
   "outputs": [],
   "source": []
  },
  {
   "cell_type": "markdown",
   "id": "a002ce27",
   "metadata": {},
   "source": [
    "# job_title"
   ]
  },
  {
   "cell_type": "code",
   "execution_count": 10,
   "id": "1d42f8ba",
   "metadata": {},
   "outputs": [
    {
     "data": {
      "text/plain": [
       "count              3755\n",
       "unique               93\n",
       "top       Data Engineer\n",
       "freq               1040\n",
       "Name: job_title, dtype: object"
      ]
     },
     "execution_count": 10,
     "metadata": {},
     "output_type": "execute_result"
    }
   ],
   "source": [
    "data_of_interest['job_title'].describe()"
   ]
  },
  {
   "cell_type": "markdown",
   "id": "c89d07cd",
   "metadata": {},
   "source": [
    "# company_location"
   ]
  },
  {
   "cell_type": "code",
   "execution_count": 11,
   "id": "939bddbb",
   "metadata": {},
   "outputs": [
    {
     "data": {
      "text/plain": [
       "<AxesSubplot:>"
      ]
     },
     "execution_count": 11,
     "metadata": {},
     "output_type": "execute_result"
    },
    {
     "data": {
      "image/png": "[encoded data removed]",
      "text/plain": [
       "<Figure size 576x1440 with 1 Axes>"
      ]
     },
     "metadata": {
      "needs_background": "light"
     },
     "output_type": "display_data"
    }
   ],
   "source": [
    "plt.figure(figsize=(8, 20))\n",
    "data_of_interest['company_location'].value_counts().plot.barh()"
   ]
  },
  {
   "cell_type": "code",
   "execution_count": 12,
   "id": "9b852d26",
   "metadata": {},
   "outputs": [
    {
     "data": {
      "text/plain": [
       "1       US\n",
       "2       US\n",
       "5       US\n",
       "6       US\n",
       "9       US\n",
       "        ..\n",
       "3749    US\n",
       "3750    US\n",
       "3751    US\n",
       "3752    US\n",
       "3753    US\n",
       "Name: company_location, Length: 3040, dtype: object"
      ]
     },
     "execution_count": 12,
     "metadata": {},
     "output_type": "execute_result"
    }
   ],
   "source": [
    "data_of_interest = data_of_interest[data_of_interest['company_location'] == \"US\"]\n",
    "data_of_interest['company_location']"
   ]
  },
  {
   "cell_type": "code",
   "execution_count": 13,
   "id": "b6e42335",
   "metadata": {},
   "outputs": [
    {
     "data": {
      "text/plain": [
       "<AxesSubplot:>"
      ]
     },
     "execution_count": 13,
     "metadata": {},
     "output_type": "execute_result"
    },
    {
     "data": {
      "image/png": "[encoded data removed]",
      "text/plain": [
       "<Figure size 432x288 with 1 Axes>"
      ]
     },
     "metadata": {
      "needs_background": "light"
     },
     "output_type": "display_data"
    }
   ],
   "source": [
    "data_of_interest['employee_residence'].value_counts().plot.barh()"
   ]
  },
  {
   "cell_type": "code",
   "execution_count": 14,
   "id": "44772d8c",
   "metadata": {},
   "outputs": [
    {
     "data": {
      "text/plain": [
       "<AxesSubplot:>"
      ]
     },
     "execution_count": 14,
     "metadata": {},
     "output_type": "execute_result"
    },
    {
     "data": {
      "image/png": "[encoded data removed]",
      "text/plain": [
       "<Figure size 432x288 with 1 Axes>"
      ]
     },
     "metadata": {
      "needs_background": "light"
     },
     "output_type": "display_data"
    }
   ],
   "source": [
    "data_of_interest = data_of_interest[data_of_interest['employee_residence'] == \"US\"]\n",
    "data_of_interest['employee_residence'].value_counts().plot.barh()"
   ]
  },
  {
   "cell_type": "code",
   "execution_count": 15,
   "id": "cc9ec415",
   "metadata": {},
   "outputs": [],
   "source": [
    "data_of_interest = data_of_interest.drop(columns=['employee_residence', 'company_location'])"
   ]
  },
  {
   "cell_type": "code",
   "execution_count": null,
   "id": "dbcf4e2c",
   "metadata": {},
   "outputs": [],
   "source": []
  },
  {
   "cell_type": "markdown",
   "id": "44ed9513",
   "metadata": {},
   "source": [
    "# remote_ratio"
   ]
  },
  {
   "cell_type": "code",
   "execution_count": 16,
   "id": "8ffa4294",
   "metadata": {},
   "outputs": [
    {
     "data": {
      "text/plain": [
       "<AxesSubplot:>"
      ]
     },
     "execution_count": 16,
     "metadata": {},
     "output_type": "execute_result"
    },
    {
     "data": {
      "image/png": "[encoded data removed]",
      "text/plain": [
       "<Figure size 432x288 with 1 Axes>"
      ]
     },
     "metadata": {
      "needs_background": "light"
     },
     "output_type": "display_data"
    }
   ],
   "source": [
    "data_of_interest['remote_ratio'].value_counts().sort_index().plot.barh()"
   ]
  },
  {
   "cell_type": "code",
   "execution_count": 17,
   "id": "b3d0bff2",
   "metadata": {},
   "outputs": [
    {
     "data": {
      "text/plain": [
       "<AxesSubplot:>"
      ]
     },
     "execution_count": 17,
     "metadata": {},
     "output_type": "execute_result"
    },
    {
     "data": {
      "image/png": "[encoded data removed]",
      "text/plain": [
       "<Figure size 432x288 with 1 Axes>"
      ]
     },
     "metadata": {
      "needs_background": "light"
     },
     "output_type": "display_data"
    }
   ],
   "source": [
    "data_of_interest = data_of_interest[data_of_interest['remote_ratio'] != 50]\n",
    "data_of_interest['remote_ratio'].value_counts().sort_index().plot.barh()"
   ]
  },
  {
   "cell_type": "code",
   "execution_count": 18,
   "id": "d75371be",
   "metadata": {},
   "outputs": [],
   "source": [
    "data_of_interest['remote_ratio'] = (data_of_interest['remote_ratio'] == 100)\n",
    "data_of_interest = data_of_interest.drop(columns=['remote_ratio'])"
   ]
  },
  {
   "cell_type": "markdown",
   "id": "7621d99a",
   "metadata": {},
   "source": [
    "# company_size"
   ]
  },
  {
   "cell_type": "code",
   "execution_count": 19,
   "id": "4fea4580",
   "metadata": {},
   "outputs": [
    {
     "data": {
      "text/plain": [
       "<AxesSubplot:>"
      ]
     },
     "execution_count": 19,
     "metadata": {},
     "output_type": "execute_result"
    },
    {
     "data": {
      "image/png": "[encoded data removed]",
      "text/plain": [
       "<Figure size 432x288 with 1 Axes>"
      ]
     },
     "metadata": {
      "needs_background": "light"
     },
     "output_type": "display_data"
    }
   ],
   "source": [
    "data_of_interest['company_size'].value_counts().sort_index().plot.barh()"
   ]
  },
  {
   "cell_type": "code",
   "execution_count": 20,
   "id": "2ad6cf27",
   "metadata": {},
   "outputs": [
    {
     "data": {
      "text/plain": [
       "<AxesSubplot:>"
      ]
     },
     "execution_count": 20,
     "metadata": {},
     "output_type": "execute_result"
    },
    {
     "data": {
      "image/png": "[encoded data removed]",
      "text/plain": [
       "<Figure size 432x288 with 1 Axes>"
      ]
     },
     "metadata": {
      "needs_background": "light"
     },
     "output_type": "display_data"
    }
   ],
   "source": [
    "data_of_interest = data_of_interest[data_of_interest['company_size'] != \"S\"]\n",
    "data_of_interest['company_size'].value_counts().sort_index().plot.barh()"
   ]
  },
  {
   "cell_type": "code",
   "execution_count": 21,
   "id": "3517a3c3",
   "metadata": {},
   "outputs": [],
   "source": [
    "#data_of_interest = data_of_interest.drop(columns=['company_size'])"
   ]
  },
  {
   "cell_type": "markdown",
   "id": "c0936856",
   "metadata": {},
   "source": [
    "# salary"
   ]
  },
  {
   "cell_type": "code",
   "execution_count": 22,
   "id": "ec3aa4d2",
   "metadata": {
    "scrolled": true
   },
   "outputs": [
    {
     "data": {
      "text/plain": [
       "<AxesSubplot:ylabel='Frequency'>"
      ]
     },
     "execution_count": 22,
     "metadata": {},
     "output_type": "execute_result"
    },
    {
     "data": {
      "image/png": "[encoded data removed]",
      "text/plain": [
       "<Figure size 432x288 with 1 Axes>"
      ]
     },
     "metadata": {
      "needs_background": "light"
     },
     "output_type": "display_data"
    }
   ],
   "source": [
    "data_of_interest['salary_in_usd'].plot.hist()"
   ]
  },
  {
   "cell_type": "code",
   "execution_count": 23,
   "id": "bcbde06a",
   "metadata": {},
   "outputs": [],
   "source": [
    "data_of_interest['log_salary'] = np.log10(data_of_interest['salary_in_usd'])"
   ]
  },
  {
   "cell_type": "code",
   "execution_count": 24,
   "id": "2e758cd3",
   "metadata": {},
   "outputs": [
    {
     "data": {
      "text/plain": [
       "<AxesSubplot:ylabel='Frequency'>"
      ]
     },
     "execution_count": 24,
     "metadata": {},
     "output_type": "execute_result"
    },
    {
     "data": {
      "image/png": "[encoded data removed]",
      "text/plain": [
       "<Figure size 432x288 with 1 Axes>"
      ]
     },
     "metadata": {
      "needs_background": "light"
     },
     "output_type": "display_data"
    }
   ],
   "source": [
    "data_of_interest['log_salary'].plot.hist()"
   ]
  },
  {
   "cell_type": "code",
   "execution_count": 25,
   "id": "5653bbf3",
   "metadata": {
    "scrolled": false
   },
   "outputs": [
    {
     "data": {
      "image/png": "[encoded data removed]",
      "text/plain": [
       "<Figure size 432x288 with 1 Axes>"
      ]
     },
     "metadata": {
      "needs_background": "light"
     },
     "output_type": "display_data"
    }
   ],
   "source": [
    "data_of_interest[['log_salary', 'experience_level']].plot.box(by='experience_level');"
   ]
  },
  {
   "cell_type": "code",
   "execution_count": null,
   "id": "ea2193a6",
   "metadata": {},
   "outputs": [],
   "source": []
  },
  {
   "cell_type": "code",
   "execution_count": 26,
   "id": "4bb043f3",
   "metadata": {},
   "outputs": [],
   "source": [
    "data['job_title'].unique()\n",
    "\n",
    "\n",
    "data.loc[data['job_title'].str.contains('Data Scientist', case=False), 'job_title'] = 'Data Scientist'\n",
    "\n",
    "\n",
    "data.loc[data['job_title'].str.contains('Data Engineer', case=False), 'job_title'] = 'Data Engineer'\n",
    "\n",
    "\n",
    "data.loc[data['job_title'].str.contains('Data Analyst', case=False), 'job_title'] = 'Data Analyst'\n",
    "\n",
    "\n",
    "data.loc[data['job_title'].str.contains('Data Analytics', case=False), 'job_title'] = 'Data Analyst'\n",
    "\n",
    "\n",
    "data.loc[data['job_title'].str.contains('Data Architect', case=False), 'job_title'] = 'Data Architect'\n",
    "\n",
    "data.loc[data['job_title'].str.contains('Data Science', case=False), 'job_title'] = 'Data Scientist'\n",
    "\n",
    "\n",
    "data.loc[data['job_title'].str.contains('Machine Learning Engineer', case=False), 'job_title'] = 'Machine Learning Engineer'\n",
    "\n",
    "data.loc[data['job_title'].str.contains('Computer Vision', case=False), 'job_title'] = 'Machine Learning Engineer'\n",
    "\n",
    "data.loc[data['job_title'].str.contains('ML Engineer', case=False), 'job_title'] = 'Machine Learning Engineer'\n",
    "\n",
    "data.loc[data['job_title'].str.contains('AI Scientist', case=False), 'job_title'] = 'AI Scientist'\n",
    "\n",
    "\n",
    "data.loc[data['job_title'].str.contains('Machine Learning Developer', case=False), 'job_title'] = 'AI Developer'\n",
    "\n",
    "\n",
    "data.loc[data['job_title'].str.contains('Power BI Developer', case=False), 'job_title'] = 'BI Developer'\n",
    "\n",
    "\n",
    "data.loc[data['job_title'].str.contains('Machine Learning Software Engineer', case=False), 'job_title'] = 'Machine Learning Engineer'\n",
    "\n",
    "\n",
    "data.loc[data['job_title'].str.contains('Machine Learning Research Engineer', case=False), 'job_title'] = 'Machine Learning Engineer'\n",
    "\n",
    "\n",
    "data.loc[data['job_title'].str.contains('Deep Learning Engineer', case=False), 'job_title'] = 'Machine Learning Engineer'\n",
    "\n",
    "\n",
    "data.loc[data['job_title'].str.contains('Deep Learning Engineer', case=False), 'job_title'] = 'Machine Learning Engineer'\n",
    "\n",
    "\n",
    "data.loc[data['job_title'].str.contains('Data Operations Engineer', case=False), 'job_title'] = 'Data Engineer'\n",
    "\n",
    "\n",
    "data.loc[data['job_title'].str.contains('Data DevOps Engineer', case=False), 'job_title'] = 'Data Engineer'\n",
    "\n",
    "\n",
    "data.loc[data['job_title'].str.contains('Data Quality Analyst', case=False), 'job_title'] = 'Data Analyst'\n",
    "\n",
    "data.loc[data['job_title'].str.contains('BI Analyst', case=False), 'job_title'] = 'Data Analyst'\n",
    "\n",
    "\n",
    "data.loc[data['job_title'].str.contains('Insight Analyst', case=False), 'job_title'] = 'Data Analyst'\n",
    "\n",
    "\n",
    "data.loc[data['job_title'].str.contains('Data Operations Analyst', case=False), 'job_title'] = 'Data Analyst'\n",
    "\n",
    "\n",
    "data.loc[data['job_title'].str.contains('Applied Machine Learning Scientist', case=False), 'job_title'] = 'Machine Learning Scientist'\n",
    "\n",
    "\n",
    "data.loc[data['job_title'].str.contains('Machine Learning Researcher', case=False), 'job_title'] = 'Machine Learning Scientist'\n",
    "\n",
    "\n",
    "data.loc[data['job_title'].str.contains('Machine Learning Infrastructure Engineer', case=False), 'job_title'] = 'Machine Learning Engineer'\n",
    "\n",
    "\n",
    "data.loc[data['job_title'].str.contains('Data Modeler', case=False), 'job_title'] = 'Data Engineer'\n",
    "\n",
    "\n",
    "data.loc[data['job_title'].str.contains('Data Architect', case=False), 'job_title'] = 'Data Engineer'\n",
    "\n",
    "\n",
    "data.loc[data['job_title'].str.contains('Data Infrastructure Engineer', case=False), 'job_title'] = 'Data Engineer'\n",
    "\n",
    "\n",
    "data.loc[data['job_title'].str.contains('Cloud Database Engineer', case=False), 'job_title'] = 'Data Engineer'\n",
    "\n",
    "\n",
    "data.loc[data['job_title'].str.contains('Applied Scientist', case=False), 'job_title'] = 'Data Scientist'\n",
    "\n",
    "data.loc[data['job_title'].str.contains('BI', case=False), 'job_title'] = 'Business Intelligence'\n",
    "\n",
    "\n",
    "data.loc[data['job_title'].str.contains('Business Intelligence', case=False), 'job_title'] = 'Business Intelligence'\n",
    "\n",
    "\n",
    "data.loc[data['job_title'].str.contains('Deep Learning Researcher', case=False), 'job_title'] = 'Machine Learning Scientist'\n",
    "\n",
    "\n",
    "data.loc[data['job_title'].str.contains('AI Programmer', case=False), 'job_title'] = 'AI Developer'\n",
    "\n",
    "\n",
    "data.loc[data['job_title'].str.contains('NLP Engineer', case=False), 'job_title'] = 'Machine Learning Engineer'\n",
    "\n",
    "\n",
    "data.loc[data['job_title'].str.contains('Data Management Specialist', case=False), 'job_title'] = 'Data Specialist'\n",
    "\n",
    "data.loc[data['job_title'].str.contains('Data Manager', case=False), 'job_title'] = 'Manager Data'\n",
    "\n",
    "data.loc[data['job_title'].str.contains('Head of Data', case=False), 'job_title'] = 'Manager Data'\n",
    "\n",
    "data.loc[data['job_title'].str.contains('Data Lead', case=False), 'job_title'] = 'Manager Data'\n",
    "\n",
    "data.loc[data['job_title'].str.contains('Manager Data Management', case=False), 'job_title'] = 'Manager Data'\n",
    "\n",
    "data.loc[data['job_title'].str.contains('Machine Learning Manager', case=False), 'job_title'] = 'Manager Machine Learning'\n",
    "\n",
    "data.loc[data['job_title'].str.contains('Head of Machine Learning', case=False), 'job_title'] = 'Manager Machine Learning'"
   ]
  },
  {
   "cell_type": "code",
   "execution_count": 27,
   "id": "0c888e37",
   "metadata": {},
   "outputs": [
    {
     "data": {
      "text/plain": [
       "Data Engineer                 1196\n",
       "Data Scientist                1045\n",
       "Data Analyst                   718\n",
       "Machine Learning Engineer      394\n",
       "Analytics Engineer             103\n",
       "Research Scientist              82\n",
       "Machine Learning Scientist      61\n",
       "Manager Data                    42\n",
       "Research Engineer               37\n",
       "AI Developer                    20\n",
       "Business Intelligence           18\n",
       "Data Specialist                 15\n",
       "ETL Developer                   10\n",
       "MLOps Engineer                   4\n",
       "Manager Machine Learning         4\n",
       "ETL Engineer                     2\n",
       "Data Strategist                  2\n",
       "Name: job_title, dtype: int64"
      ]
     },
     "execution_count": 27,
     "metadata": {},
     "output_type": "execute_result"
    }
   ],
   "source": [
    "data.loc[data['job_title'].str.contains('AI Scientist', case=False), 'job_title'] = 'Machine Learning Scientist'\n",
    "\n",
    "data['job_title'].nunique()\n",
    "\n",
    "data = data.drop(data_to_process[data_to_process.job_title == \"Autonomous Vehicle Technician\"].index)\n",
    "\n",
    "data[\"job_title\"].value_counts()"
   ]
  },
  {
   "cell_type": "markdown",
   "id": "86257235",
   "metadata": {},
   "source": [
    "Decisão: eliminar job_titles de AI Developer para baixo"
   ]
  },
  {
   "cell_type": "code",
   "execution_count": 28,
   "id": "44cb1413",
   "metadata": {},
   "outputs": [
    {
     "data": {
      "text/plain": [
       "Data Engineer                901\n",
       "Data Scientist               652\n",
       "Data Analyst                 506\n",
       "Machine Learning Engineer    207\n",
       "Data Architect                97\n",
       "Analytics Engineer            90\n",
       "Applied Scientist             58\n",
       "Research Scientist            54\n",
       "Data Science Manager          51\n",
       "Research Engineer             31\n",
       "ML Engineer                   25\n",
       "Data Manager                  24\n",
       "Data Analytics Manager        21\n",
       "Name: job_title, dtype: int64"
      ]
     },
     "execution_count": 28,
     "metadata": {},
     "output_type": "execute_result"
    }
   ],
   "source": [
    "count = data_of_interest['job_title'].value_counts()\n",
    "\n",
    "filtered = count[count > 20]\n",
    "filtered"
   ]
  },
  {
   "cell_type": "code",
   "execution_count": 29,
   "id": "24326294",
   "metadata": {},
   "outputs": [
    {
     "data": {
      "text/plain": [
       "<AxesSubplot:>"
      ]
     },
     "execution_count": 29,
     "metadata": {},
     "output_type": "execute_result"
    },
    {
     "data": {
      "image/png": "[encoded data removed]",
      "text/plain": [
       "<Figure size 432x288 with 1 Axes>"
      ]
     },
     "metadata": {
      "needs_background": "light"
     },
     "output_type": "display_data"
    }
   ],
   "source": [
    "data_of_interest = data_of_interest.loc[data_of_interest['job_title'].isin(filtered.index), :]\n",
    "data_of_interest['job_title'].value_counts().plot.barh()"
   ]
  },
  {
   "cell_type": "code",
   "execution_count": null,
   "id": "b0946f56",
   "metadata": {},
   "outputs": [],
   "source": []
  },
  {
   "cell_type": "code",
   "execution_count": null,
   "id": "00291eee",
   "metadata": {},
   "outputs": [],
   "source": []
  },
  {
   "cell_type": "markdown",
   "id": "966335e1",
   "metadata": {},
   "source": [
    "# salary"
   ]
  },
  {
   "cell_type": "code",
   "execution_count": 30,
   "id": "2ecc9a09",
   "metadata": {},
   "outputs": [
    {
     "data": {
      "text/html": [
       "<div>\n",
       "<style scoped>\n",
       "    .dataframe tbody tr th:only-of-type {\n",
       "        vertical-align: middle;\n",
       "    }\n",
       "\n",
       "    .dataframe tbody tr th {\n",
       "        vertical-align: top;\n",
       "    }\n",
       "\n",
       "    .dataframe thead th {\n",
       "        text-align: right;\n",
       "    }\n",
       "</style>\n",
       "<table border=\"1\" class=\"dataframe\">\n",
       "  <thead>\n",
       "    <tr style=\"text-align: right;\">\n",
       "      <th></th>\n",
       "      <th>work_year</th>\n",
       "      <th>experience_level</th>\n",
       "      <th>employment_type</th>\n",
       "      <th>job_title</th>\n",
       "      <th>salary_in_usd</th>\n",
       "      <th>company_size</th>\n",
       "      <th>log_salary</th>\n",
       "    </tr>\n",
       "  </thead>\n",
       "  <tbody>\n",
       "    <tr>\n",
       "      <th>5</th>\n",
       "      <td>2023</td>\n",
       "      <td>SE</td>\n",
       "      <td>FT</td>\n",
       "      <td>Applied Scientist</td>\n",
       "      <td>222200</td>\n",
       "      <td>L</td>\n",
       "      <td>5.346744</td>\n",
       "    </tr>\n",
       "    <tr>\n",
       "      <th>6</th>\n",
       "      <td>2023</td>\n",
       "      <td>SE</td>\n",
       "      <td>FT</td>\n",
       "      <td>Applied Scientist</td>\n",
       "      <td>136000</td>\n",
       "      <td>L</td>\n",
       "      <td>5.133539</td>\n",
       "    </tr>\n",
       "    <tr>\n",
       "      <th>9</th>\n",
       "      <td>2023</td>\n",
       "      <td>SE</td>\n",
       "      <td>FT</td>\n",
       "      <td>Data Scientist</td>\n",
       "      <td>147100</td>\n",
       "      <td>M</td>\n",
       "      <td>5.167613</td>\n",
       "    </tr>\n",
       "    <tr>\n",
       "      <th>10</th>\n",
       "      <td>2023</td>\n",
       "      <td>SE</td>\n",
       "      <td>FT</td>\n",
       "      <td>Data Scientist</td>\n",
       "      <td>90700</td>\n",
       "      <td>M</td>\n",
       "      <td>4.957607</td>\n",
       "    </tr>\n",
       "    <tr>\n",
       "      <th>11</th>\n",
       "      <td>2023</td>\n",
       "      <td>SE</td>\n",
       "      <td>FT</td>\n",
       "      <td>Data Analyst</td>\n",
       "      <td>130000</td>\n",
       "      <td>M</td>\n",
       "      <td>5.113943</td>\n",
       "    </tr>\n",
       "    <tr>\n",
       "      <th>...</th>\n",
       "      <td>...</td>\n",
       "      <td>...</td>\n",
       "      <td>...</td>\n",
       "      <td>...</td>\n",
       "      <td>...</td>\n",
       "      <td>...</td>\n",
       "      <td>...</td>\n",
       "    </tr>\n",
       "    <tr>\n",
       "      <th>3738</th>\n",
       "      <td>2021</td>\n",
       "      <td>MI</td>\n",
       "      <td>FT</td>\n",
       "      <td>Data Scientist</td>\n",
       "      <td>73000</td>\n",
       "      <td>L</td>\n",
       "      <td>4.863323</td>\n",
       "    </tr>\n",
       "    <tr>\n",
       "      <th>3740</th>\n",
       "      <td>2020</td>\n",
       "      <td>SE</td>\n",
       "      <td>FT</td>\n",
       "      <td>Data Science Manager</td>\n",
       "      <td>190200</td>\n",
       "      <td>M</td>\n",
       "      <td>5.279211</td>\n",
       "    </tr>\n",
       "    <tr>\n",
       "      <th>3741</th>\n",
       "      <td>2020</td>\n",
       "      <td>MI</td>\n",
       "      <td>FT</td>\n",
       "      <td>Data Scientist</td>\n",
       "      <td>118000</td>\n",
       "      <td>M</td>\n",
       "      <td>5.071882</td>\n",
       "    </tr>\n",
       "    <tr>\n",
       "      <th>3742</th>\n",
       "      <td>2020</td>\n",
       "      <td>MI</td>\n",
       "      <td>FT</td>\n",
       "      <td>Data Scientist</td>\n",
       "      <td>138350</td>\n",
       "      <td>M</td>\n",
       "      <td>5.140979</td>\n",
       "    </tr>\n",
       "    <tr>\n",
       "      <th>3750</th>\n",
       "      <td>2020</td>\n",
       "      <td>SE</td>\n",
       "      <td>FT</td>\n",
       "      <td>Data Scientist</td>\n",
       "      <td>412000</td>\n",
       "      <td>L</td>\n",
       "      <td>5.614897</td>\n",
       "    </tr>\n",
       "  </tbody>\n",
       "</table>\n",
       "<p>2717 rows × 7 columns</p>\n",
       "</div>"
      ],
      "text/plain": [
       "      work_year experience_level employment_type             job_title  \\\n",
       "5          2023               SE              FT     Applied Scientist   \n",
       "6          2023               SE              FT     Applied Scientist   \n",
       "9          2023               SE              FT        Data Scientist   \n",
       "10         2023               SE              FT        Data Scientist   \n",
       "11         2023               SE              FT          Data Analyst   \n",
       "...         ...              ...             ...                   ...   \n",
       "3738       2021               MI              FT        Data Scientist   \n",
       "3740       2020               SE              FT  Data Science Manager   \n",
       "3741       2020               MI              FT        Data Scientist   \n",
       "3742       2020               MI              FT        Data Scientist   \n",
       "3750       2020               SE              FT        Data Scientist   \n",
       "\n",
       "      salary_in_usd company_size  log_salary  \n",
       "5            222200            L    5.346744  \n",
       "6            136000            L    5.133539  \n",
       "9            147100            M    5.167613  \n",
       "10            90700            M    4.957607  \n",
       "11           130000            M    5.113943  \n",
       "...             ...          ...         ...  \n",
       "3738          73000            L    4.863323  \n",
       "3740         190200            M    5.279211  \n",
       "3741         118000            M    5.071882  \n",
       "3742         138350            M    5.140979  \n",
       "3750         412000            L    5.614897  \n",
       "\n",
       "[2717 rows x 7 columns]"
      ]
     },
     "execution_count": 30,
     "metadata": {},
     "output_type": "execute_result"
    }
   ],
   "source": [
    "data_of_interest"
   ]
  },
  {
   "cell_type": "code",
   "execution_count": 31,
   "id": "1b8e9937",
   "metadata": {},
   "outputs": [],
   "source": [
    "#data_of_interest = data_of_interest.drop(columns=['work_year', 'remote_ratio'])"
   ]
  },
  {
   "cell_type": "code",
   "execution_count": null,
   "id": "d38dadcb",
   "metadata": {},
   "outputs": [],
   "source": []
  },
  {
   "cell_type": "code",
   "execution_count": 32,
   "id": "15f6eb34",
   "metadata": {},
   "outputs": [],
   "source": [
    "data_of_interest = data_of_interest[data_of_interest['employment_type'] == \"FT\"]\n",
    "data_of_interest = data_of_interest.drop(columns=[\"employment_type\"])"
   ]
  },
  {
   "cell_type": "code",
   "execution_count": 33,
   "id": "a16a9820",
   "metadata": {},
   "outputs": [
    {
     "name": "stdout",
     "output_type": "stream",
     "text": [
      "work_year\n",
      "experience_level\n",
      "job_title\n",
      "salary_in_usd\n",
      "company_size\n",
      "log_salary\n"
     ]
    }
   ],
   "source": [
    "for c in data_of_interest.columns:\n",
    "    print(c)"
   ]
  },
  {
   "cell_type": "code",
   "execution_count": 34,
   "id": "b5b6164d",
   "metadata": {},
   "outputs": [],
   "source": [
    "data_of_interest = pd.get_dummies(data_of_interest, drop_first=False)"
   ]
  },
  {
   "cell_type": "code",
   "execution_count": 35,
   "id": "7b662d1d",
   "metadata": {},
   "outputs": [
    {
     "name": "stdout",
     "output_type": "stream",
     "text": [
      "work_year\n",
      "salary_in_usd\n",
      "log_salary\n",
      "experience_level_EN\n",
      "experience_level_MI\n",
      "experience_level_SE\n",
      "experience_level_EX\n",
      "job_title_Analytics Engineer\n",
      "job_title_Applied Scientist\n",
      "job_title_Data Analyst\n",
      "job_title_Data Analytics Manager\n",
      "job_title_Data Architect\n",
      "job_title_Data Engineer\n",
      "job_title_Data Manager\n",
      "job_title_Data Science Manager\n",
      "job_title_Data Scientist\n",
      "job_title_ML Engineer\n",
      "job_title_Machine Learning Engineer\n",
      "job_title_Research Engineer\n",
      "job_title_Research Scientist\n",
      "company_size_L\n",
      "company_size_M\n"
     ]
    }
   ],
   "source": [
    "for c in data_of_interest.columns:\n",
    "    print(c)"
   ]
  },
  {
   "cell_type": "markdown",
   "id": "2d2080f3",
   "metadata": {},
   "source": [
    "# modelo"
   ]
  },
  {
   "cell_type": "code",
   "execution_count": 36,
   "id": "3774b571",
   "metadata": {},
   "outputs": [],
   "source": [
    "y = data_of_interest['log_salary'].copy()\n",
    "X = data_of_interest.drop(columns=['salary_in_usd', 'log_salary']).copy()\n",
    "X = X.astype('float')"
   ]
  },
  {
   "cell_type": "code",
   "execution_count": 37,
   "id": "3643908c",
   "metadata": {},
   "outputs": [
    {
     "data": {
      "text/plain": [
       "((2715, 20), (2715,))"
      ]
     },
     "execution_count": 37,
     "metadata": {},
     "output_type": "execute_result"
    }
   ],
   "source": [
    "X.shape, y.shape"
   ]
  },
  {
   "cell_type": "code",
   "execution_count": 38,
   "id": "473580c4",
   "metadata": {},
   "outputs": [],
   "source": [
    "from sklearn.model_selection import train_test_split\n",
    "\n",
    "X_train, X_test, y_train, y_test = train_test_split(X, y, test_size=0.25)"
   ]
  },
  {
   "cell_type": "code",
   "execution_count": 39,
   "id": "7c3c765d",
   "metadata": {},
   "outputs": [],
   "source": [
    "X_train_valid, X_test_valid, y_train_valid, y_test_valid = train_test_split(X_train, y_train, test_size=0.33)"
   ]
  },
  {
   "cell_type": "code",
   "execution_count": null,
   "id": "f3148525",
   "metadata": {},
   "outputs": [],
   "source": []
  },
  {
   "cell_type": "markdown",
   "id": "78f78b5b",
   "metadata": {},
   "source": [
    "# modelo 1: regressao linear simples"
   ]
  },
  {
   "cell_type": "code",
   "execution_count": 40,
   "id": "9dc66343",
   "metadata": {},
   "outputs": [
    {
     "data": {
      "text/plain": [
       "0.13725244625419117"
      ]
     },
     "execution_count": 40,
     "metadata": {},
     "output_type": "execute_result"
    }
   ],
   "source": [
    "import math\n",
    "from sklearn.linear_model import LinearRegression, Ridge\n",
    "from sklearn.metrics import mean_squared_error\n",
    "\n",
    "model = Ridge(alpha=1e-6)\n",
    "model.fit(X_train_valid, y_train_valid)\n",
    "\n",
    "y_pred = model.predict(X_test_valid)\n",
    "RMSE = math.sqrt(mean_squared_error(y_test_valid, y_pred))\n",
    "RMSE"
   ]
  },
  {
   "cell_type": "code",
   "execution_count": 41,
   "id": "af376e87",
   "metadata": {},
   "outputs": [
    {
     "data": {
      "text/plain": [
       "[('work_year', 3.158708352446804),\n",
       " ('experience_level_EN', -25.835634719410383),\n",
       " ('experience_level_MI', -10.8974792585255),\n",
       " ('experience_level_SE', 8.491407225511939),\n",
       " ('experience_level_EX', 39.48241931669507),\n",
       " ('job_title_Analytics Engineer', -4.086330420167905),\n",
       " ('job_title_Applied Scientist', 25.1158270957637),\n",
       " ('job_title_Data Analyst', -25.92300961421754),\n",
       " ('job_title_Data Analytics Manager', -6.058839426341523),\n",
       " ('job_title_Data Architect', -8.937948639221238),\n",
       " ('job_title_Data Engineer', -9.131674236107346),\n",
       " ('job_title_Data Manager', -10.589094088131922),\n",
       " ('job_title_Data Science Manager', 13.747630159579561),\n",
       " ('job_title_Data Scientist', -3.930725847282479),\n",
       " ('job_title_ML Engineer', 9.023690980427945),\n",
       " ('job_title_Machine Learning Engineer', 7.2723614256331),\n",
       " ('job_title_Research Engineer', 16.710062000053515),\n",
       " ('job_title_Research Scientist', 8.513458462500068),\n",
       " ('company_size_L', 1.8468042627937553),\n",
       " ('company_size_M', -1.813316339079163)]"
      ]
     },
     "execution_count": 41,
     "metadata": {},
     "output_type": "execute_result"
    }
   ],
   "source": [
    "list(zip(X_test_valid.columns, (((10**model.coef_)-1)*100)))"
   ]
  },
  {
   "cell_type": "code",
   "execution_count": 42,
   "id": "d1eb941e",
   "metadata": {},
   "outputs": [],
   "source": [
    "import matplotlib.pyplot as plt"
   ]
  },
  {
   "cell_type": "code",
   "execution_count": 43,
   "id": "1ff54a19",
   "metadata": {},
   "outputs": [
    {
     "data": {
      "text/plain": [
       "<matplotlib.collections.PathCollection at 0x229661f6e50>"
      ]
     },
     "execution_count": 43,
     "metadata": {},
     "output_type": "execute_result"
    },
    {
     "data": {
      "image/png": "[encoded data removed]",
      "text/plain": [
       "<Figure size 432x288 with 1 Axes>"
      ]
     },
     "metadata": {
      "needs_background": "light"
     },
     "output_type": "display_data"
    }
   ],
   "source": [
    "plt.scatter(y_test_valid, y_pred)"
   ]
  },
  {
   "cell_type": "code",
   "execution_count": 44,
   "id": "dfdab4a7",
   "metadata": {
    "scrolled": true
   },
   "outputs": [
    {
     "data": {
      "text/plain": [
       "Text(0, 0.5, 'Erro [$]')"
      ]
     },
     "execution_count": 44,
     "metadata": {},
     "output_type": "execute_result"
    },
    {
     "data": {
      "image/png": "[encoded data removed]",
      "text/plain": [
       "<Figure size 432x288 with 1 Axes>"
      ]
     },
     "metadata": {
      "needs_background": "light"
     },
     "output_type": "display_data"
    }
   ],
   "source": [
    "erro = y_pred - y_test_valid\n",
    "\n",
    "plt.scatter(y_test_valid, erro)\n",
    "plt.xlabel('salario')\n",
    "plt.ylabel('Erro [$]')"
   ]
  },
  {
   "cell_type": "code",
   "execution_count": 45,
   "id": "8965737e",
   "metadata": {},
   "outputs": [],
   "source": [
    "erro_percentual = (10**erro) - 1"
   ]
  },
  {
   "cell_type": "code",
   "execution_count": 46,
   "id": "f314b513",
   "metadata": {},
   "outputs": [
    {
     "data": {
      "text/plain": [
       "Text(0, 0.5, 'Erro [%]')"
      ]
     },
     "execution_count": 46,
     "metadata": {},
     "output_type": "execute_result"
    },
    {
     "data": {
      "image/png": "[encoded data removed]",
      "text/plain": [
       "<Figure size 432x288 with 1 Axes>"
      ]
     },
     "metadata": {
      "needs_background": "light"
     },
     "output_type": "display_data"
    }
   ],
   "source": [
    "plt.scatter(y_test_valid, erro_percentual)\n",
    "plt.xlabel('salario ')\n",
    "plt.ylabel('Erro [%]')"
   ]
  },
  {
   "cell_type": "code",
   "execution_count": 47,
   "id": "ce88fd1e",
   "metadata": {},
   "outputs": [
    {
     "data": {
      "text/plain": [
       "[('work_year', 3.158708352446804),\n",
       " ('experience_level_EN', -25.835634719410383),\n",
       " ('experience_level_MI', -10.8974792585255),\n",
       " ('experience_level_SE', 8.491407225511939),\n",
       " ('experience_level_EX', 39.48241931669507),\n",
       " ('job_title_Analytics Engineer', -4.086330420167905),\n",
       " ('job_title_Applied Scientist', 25.1158270957637),\n",
       " ('job_title_Data Analyst', -25.92300961421754),\n",
       " ('job_title_Data Analytics Manager', -6.058839426341523),\n",
       " ('job_title_Data Architect', -8.937948639221238),\n",
       " ('job_title_Data Engineer', -9.131674236107346),\n",
       " ('job_title_Data Manager', -10.589094088131922),\n",
       " ('job_title_Data Science Manager', 13.747630159579561),\n",
       " ('job_title_Data Scientist', -3.930725847282479),\n",
       " ('job_title_ML Engineer', 9.023690980427945),\n",
       " ('job_title_Machine Learning Engineer', 7.2723614256331),\n",
       " ('job_title_Research Engineer', 16.710062000053515),\n",
       " ('job_title_Research Scientist', 8.513458462500068),\n",
       " ('company_size_L', 1.8468042627937553),\n",
       " ('company_size_M', -1.813316339079163)]"
      ]
     },
     "execution_count": 47,
     "metadata": {},
     "output_type": "execute_result"
    }
   ],
   "source": [
    "list(zip(X_train_valid.columns, ((10**model.coef_) - 1)*100))"
   ]
  },
  {
   "cell_type": "markdown",
   "id": "a5e689d2",
   "metadata": {},
   "source": [
    "# modelo polinomial de grau 2"
   ]
  },
  {
   "cell_type": "code",
   "execution_count": 48,
   "id": "89fee2e7",
   "metadata": {},
   "outputs": [],
   "source": [
    "from sklearn.preprocessing import PolynomialFeatures\n",
    "\n",
    "transformer = PolynomialFeatures(degree=2, include_bias=False)\n",
    "X_train_valid_transf = transformer.fit_transform(X_train_valid)"
   ]
  },
  {
   "cell_type": "code",
   "execution_count": 49,
   "id": "4cc812a4",
   "metadata": {},
   "outputs": [],
   "source": [
    "feat_names = transformer.get_feature_names_out()"
   ]
  },
  {
   "cell_type": "code",
   "execution_count": 50,
   "id": "b45f6ed7",
   "metadata": {},
   "outputs": [
    {
     "data": {
      "text/plain": [
       "(1364, 230)"
      ]
     },
     "execution_count": 50,
     "metadata": {},
     "output_type": "execute_result"
    }
   ],
   "source": [
    "X_train_valid_transf.shape"
   ]
  },
  {
   "cell_type": "code",
   "execution_count": 51,
   "id": "cf41bd14",
   "metadata": {},
   "outputs": [
    {
     "data": {
      "text/plain": [
       "Ridge(alpha=0.001)"
      ]
     },
     "execution_count": 51,
     "metadata": {},
     "output_type": "execute_result"
    }
   ],
   "source": [
    "from sklearn.linear_model import Ridge\n",
    "alpha = 1e-3\n",
    "model = Ridge(alpha=alpha)\n",
    "\n",
    "model.fit(X_train_valid_transf, y_train_valid)"
   ]
  },
  {
   "cell_type": "code",
   "execution_count": 52,
   "id": "a7ce12bb",
   "metadata": {
    "scrolled": false
   },
   "outputs": [
    {
     "data": {
      "text/plain": [
       "[('work_year', -81.63327020162836),\n",
       " ('experience_level_EN', 175.58772590343193),\n",
       " ('experience_level_MI', -0.49173057848345136),\n",
       " ('experience_level_SE', -78.00627796523621),\n",
       " ('experience_level_EX', 65.79911123209257),\n",
       " ('job_title_Analytics Engineer', -56.851366869386),\n",
       " ('job_title_Applied Scientist', 12.94333213965495),\n",
       " ('job_title_Data Analyst', 128.0733778365293),\n",
       " ('job_title_Data Analytics Manager', -8.794754260031091),\n",
       " ('job_title_Data Architect', -23.871977860499516),\n",
       " ('job_title_Data Engineer', 136.78932610239224),\n",
       " ('job_title_Data Manager', -3.7514056896118864),\n",
       " ('job_title_Data Science Manager', -14.352123140128958),\n",
       " ('job_title_Data Scientist', -72.04399086177048),\n",
       " ('job_title_ML Engineer', -9.911489508337013),\n",
       " ('job_title_Machine Learning Engineer', 63.507636060198266),\n",
       " ('job_title_Research Engineer', 15.150291283966478),\n",
       " ('job_title_Research Scientist', 39.99505390702465),\n",
       " ('company_size_L', 79.9269468300101),\n",
       " ('company_size_M', -44.42189146594242),\n",
       " ('work_year^2', 0.07724235939097213),\n",
       " ('work_year experience_level_EN', -34.595172757448644),\n",
       " ('work_year experience_level_MI', -34.50730930245103),\n",
       " ('work_year experience_level_SE', -34.371971326946905),\n",
       " ('work_year experience_level_EX', -34.56054075677476),\n",
       " ('work_year job_title_Analytics Engineer', -12.099794331110548),\n",
       " ('work_year job_title_Applied Scientist', -12.219686502606375),\n",
       " ('work_year job_title_Data Analyst', -12.337090381388037),\n",
       " ('work_year job_title_Data Analytics Manager', -12.217087491109046),\n",
       " ('work_year job_title_Data Architect', -12.185258861299086),\n",
       " ('work_year job_title_Data Engineer', -12.324271378250772),\n",
       " ('work_year job_title_Data Manager', -12.22338044949096),\n",
       " ('work_year job_title_Data Science Manager', -12.199274054260323),\n",
       " ('work_year job_title_Data Scientist', -12.07173538209183),\n",
       " ('work_year job_title_ML Engineer', -12.20639416377317),\n",
       " ('work_year job_title_Machine Learning Engineer', -12.279550438926313),\n",
       " ('work_year job_title_Research Engineer', -12.24124338064847),\n",
       " ('work_year job_title_Research Scientist', -12.257642168701155),\n",
       " ('work_year company_size_L', -57.20602053426131),\n",
       " ('work_year company_size_M', -57.141799075074864),\n",
       " ('experience_level_EN^2', 175.58772794683776),\n",
       " ('experience_level_EN experience_level_MI', 0.0),\n",
       " ('experience_level_EN experience_level_SE', 0.0),\n",
       " ('experience_level_EN experience_level_EX', 0.0),\n",
       " ('experience_level_EN job_title_Analytics Engineer', 0.0),\n",
       " ('experience_level_EN job_title_Applied Scientist', 49.63707441501028),\n",
       " ('experience_level_EN job_title_Data Analyst', 23.981760943533104),\n",
       " ('experience_level_EN job_title_Data Analytics Manager', 0.0),\n",
       " ('experience_level_EN job_title_Data Architect', 0.0),\n",
       " ('experience_level_EN job_title_Data Engineer', 13.117312204055253),\n",
       " ('experience_level_EN job_title_Data Manager', 0.0),\n",
       " ('experience_level_EN job_title_Data Science Manager', 0.0),\n",
       " ('experience_level_EN job_title_Data Scientist', -33.2668197787178),\n",
       " ('experience_level_EN job_title_ML Engineer', 0.0),\n",
       " ('experience_level_EN job_title_Machine Learning Engineer',\n",
       "  30.54819803377842),\n",
       " ('experience_level_EN job_title_Research Engineer', 21.716754299961984),\n",
       " ('experience_level_EN job_title_Research Scientist', 23.84278051472537),\n",
       " ('experience_level_EN company_size_L', 104.55665832176871),\n",
       " ('experience_level_EN company_size_M', 34.72439066310147),\n",
       " ('experience_level_MI^2', -0.49173097436406854),\n",
       " ('experience_level_MI experience_level_SE', 0.0),\n",
       " ('experience_level_MI experience_level_EX', 0.0),\n",
       " ('experience_level_MI job_title_Analytics Engineer', -22.96134623870162),\n",
       " ('experience_level_MI job_title_Applied Scientist', 0.0),\n",
       " ('experience_level_MI job_title_Data Analyst', 48.39444113651614),\n",
       " ('experience_level_MI job_title_Data Analytics Manager', 13.217052981231525),\n",
       " ('experience_level_MI job_title_Data Architect', -0.19593196554797965),\n",
       " ('experience_level_MI job_title_Data Engineer', 18.618314845793016),\n",
       " ('experience_level_MI job_title_Data Manager', 4.240076652213043),\n",
       " ('experience_level_MI job_title_Data Science Manager', -24.816196266262235),\n",
       " ('experience_level_MI job_title_Data Scientist', -28.32206669729024),\n",
       " ('experience_level_MI job_title_ML Engineer', -12.16482644595297),\n",
       " ('experience_level_MI job_title_Machine Learning Engineer',\n",
       "  21.88516211586633),\n",
       " ('experience_level_MI job_title_Research Engineer', -9.95036225428806),\n",
       " ('experience_level_MI job_title_Research Scientist', 19.91546755898943),\n",
       " ('experience_level_MI company_size_L', 31.50939581611423),\n",
       " ('experience_level_MI company_size_M', -24.333722937259306),\n",
       " ('experience_level_SE^2', -78.00627843891034),\n",
       " ('experience_level_SE experience_level_EX', 0.0),\n",
       " ('experience_level_SE job_title_Analytics Engineer', -36.04373314100986),\n",
       " ('experience_level_SE job_title_Applied Scientist', -24.521825845150623),\n",
       " ('experience_level_SE job_title_Data Analyst', 23.965010518349583),\n",
       " ('experience_level_SE job_title_Data Analytics Manager', -19.442131998100443),\n",
       " ('experience_level_SE job_title_Data Architect', -20.83062922701443),\n",
       " ('experience_level_SE job_title_Data Engineer', 4.523345597187722),\n",
       " ('experience_level_SE job_title_Data Manager', -7.666419996233509),\n",
       " ('experience_level_SE job_title_Data Science Manager', -14.08242798117929),\n",
       " ('experience_level_SE job_title_Data Scientist', -33.417784744690756),\n",
       " ('experience_level_SE job_title_ML Engineer', 2.5654126581819536),\n",
       " ('experience_level_SE job_title_Machine Learning Engineer',\n",
       "  2.758161664680636),\n",
       " ('experience_level_SE job_title_Research Engineer', 5.058864674131436),\n",
       " ('experience_level_SE job_title_Research Scientist', -5.73145928731803),\n",
       " ('experience_level_SE company_size_L', -33.11547417449652),\n",
       " ('experience_level_SE company_size_M', -67.11689630257136),\n",
       " ('experience_level_EX^2', 65.79911056916721),\n",
       " ('experience_level_EX job_title_Analytics Engineer', -12.425987793238424),\n",
       " ('experience_level_EX job_title_Applied Scientist', 0.0),\n",
       " ('experience_level_EX job_title_Data Analyst', 0.0),\n",
       " ('experience_level_EX job_title_Data Analytics Manager', 0.0),\n",
       " ('experience_level_EX job_title_Data Architect', -3.6527974326235446),\n",
       " ('experience_level_EX job_title_Data Engineer', 68.83711624158602),\n",
       " ('experience_level_EX job_title_Data Manager', 0.0),\n",
       " ('experience_level_EX job_title_Data Science Manager', 32.58985521545772),\n",
       " ('experience_level_EX job_title_Data Scientist', -12.221198603561966),\n",
       " ('experience_level_EX job_title_ML Engineer', 0.0),\n",
       " ('experience_level_EX job_title_Machine Learning Engineer', 0.0),\n",
       " ('experience_level_EX job_title_Research Engineer', 0.0),\n",
       " ('experience_level_EX job_title_Research Scientist', 0.0),\n",
       " ('experience_level_EX company_size_L', 0.0),\n",
       " ('experience_level_EX company_size_M', 65.79911056941596),\n",
       " ('job_title_Analytics Engineer^2', -56.85136669465969),\n",
       " ('job_title_Analytics Engineer job_title_Applied Scientist', 0.0),\n",
       " ('job_title_Analytics Engineer job_title_Data Analyst', 0.0),\n",
       " ('job_title_Analytics Engineer job_title_Data Analytics Manager', 0.0),\n",
       " ('job_title_Analytics Engineer job_title_Data Architect', 0.0),\n",
       " ('job_title_Analytics Engineer job_title_Data Engineer', 0.0),\n",
       " ('job_title_Analytics Engineer job_title_Data Manager', 0.0),\n",
       " ('job_title_Analytics Engineer job_title_Data Science Manager', 0.0),\n",
       " ('job_title_Analytics Engineer job_title_Data Scientist', 0.0),\n",
       " ('job_title_Analytics Engineer job_title_ML Engineer', 0.0),\n",
       " ('job_title_Analytics Engineer job_title_Machine Learning Engineer', 0.0),\n",
       " ('job_title_Analytics Engineer job_title_Research Engineer', 0.0),\n",
       " ('job_title_Analytics Engineer job_title_Research Scientist', 0.0),\n",
       " ('job_title_Analytics Engineer company_size_L', 0.0),\n",
       " ('job_title_Analytics Engineer company_size_M', -56.851366694659674),\n",
       " ('job_title_Applied Scientist^2', 12.94333230955127),\n",
       " ('job_title_Applied Scientist job_title_Data Analyst', 0.0),\n",
       " ('job_title_Applied Scientist job_title_Data Analytics Manager', 0.0),\n",
       " ('job_title_Applied Scientist job_title_Data Architect', 0.0),\n",
       " ('job_title_Applied Scientist job_title_Data Engineer', 0.0),\n",
       " ('job_title_Applied Scientist job_title_Data Manager', 0.0),\n",
       " ('job_title_Applied Scientist job_title_Data Science Manager', 0.0),\n",
       " ('job_title_Applied Scientist job_title_Data Scientist', 0.0),\n",
       " ('job_title_Applied Scientist job_title_ML Engineer', 0.0),\n",
       " ('job_title_Applied Scientist job_title_Machine Learning Engineer', 0.0),\n",
       " ('job_title_Applied Scientist job_title_Research Engineer', 0.0),\n",
       " ('job_title_Applied Scientist job_title_Research Scientist', 0.0),\n",
       " ('job_title_Applied Scientist company_size_L', 11.119014674745031),\n",
       " ('job_title_Applied Scientist company_size_M', 1.641770341021087),\n",
       " ('job_title_Data Analyst^2', 128.07337784723222),\n",
       " ('job_title_Data Analyst job_title_Data Analytics Manager', 0.0),\n",
       " ('job_title_Data Analyst job_title_Data Architect', 0.0),\n",
       " ('job_title_Data Analyst job_title_Data Engineer', 0.0),\n",
       " ('job_title_Data Analyst job_title_Data Manager', 0.0),\n",
       " ('job_title_Data Analyst job_title_Data Science Manager', 0.0),\n",
       " ('job_title_Data Analyst job_title_Data Scientist', 0.0),\n",
       " ('job_title_Data Analyst job_title_ML Engineer', 0.0),\n",
       " ('job_title_Data Analyst job_title_Machine Learning Engineer', 0.0),\n",
       " ('job_title_Data Analyst job_title_Research Engineer', 0.0),\n",
       " ('job_title_Data Analyst job_title_Research Scientist', 0.0),\n",
       " ('job_title_Data Analyst company_size_L', 58.43646488616263),\n",
       " ('job_title_Data Analyst company_size_M', 43.95251413076333),\n",
       " ('job_title_Data Analytics Manager^2', -8.794754229001079),\n",
       " ('job_title_Data Analytics Manager job_title_Data Architect', 0.0),\n",
       " ('job_title_Data Analytics Manager job_title_Data Engineer', 0.0),\n",
       " ('job_title_Data Analytics Manager job_title_Data Manager', 0.0),\n",
       " ('job_title_Data Analytics Manager job_title_Data Science Manager', 0.0),\n",
       " ('job_title_Data Analytics Manager job_title_Data Scientist', 0.0),\n",
       " ('job_title_Data Analytics Manager job_title_ML Engineer', 0.0),\n",
       " ('job_title_Data Analytics Manager job_title_Machine Learning Engineer', 0.0),\n",
       " ('job_title_Data Analytics Manager job_title_Research Engineer', 0.0),\n",
       " ('job_title_Data Analytics Manager job_title_Research Scientist', 0.0),\n",
       " ('job_title_Data Analytics Manager company_size_L', -12.408105611380115),\n",
       " ('job_title_Data Analytics Manager company_size_M', 4.12521498595988),\n",
       " ('job_title_Data Architect^2', -23.871977675091905),\n",
       " ('job_title_Data Architect job_title_Data Engineer', 0.0),\n",
       " ('job_title_Data Architect job_title_Data Manager', 0.0),\n",
       " ('job_title_Data Architect job_title_Data Science Manager', 0.0),\n",
       " ('job_title_Data Architect job_title_Data Scientist', 0.0),\n",
       " ('job_title_Data Architect job_title_ML Engineer', 0.0),\n",
       " ('job_title_Data Architect job_title_Machine Learning Engineer', 0.0),\n",
       " ('job_title_Data Architect job_title_Research Engineer', 0.0),\n",
       " ('job_title_Data Architect job_title_Research Scientist', 0.0),\n",
       " ('job_title_Data Architect company_size_L', 2.1206898274674035),\n",
       " ('job_title_Data Architect company_size_M', -25.45289046117144),\n",
       " ('job_title_Data Engineer^2', 136.7893180295363),\n",
       " ('job_title_Data Engineer job_title_Data Manager', 0.0),\n",
       " ('job_title_Data Engineer job_title_Data Science Manager', 0.0),\n",
       " ('job_title_Data Engineer job_title_Data Scientist', 0.0),\n",
       " ('job_title_Data Engineer job_title_ML Engineer', 0.0),\n",
       " ('job_title_Data Engineer job_title_Machine Learning Engineer', 0.0),\n",
       " ('job_title_Data Engineer job_title_Research Engineer', 0.0),\n",
       " ('job_title_Data Engineer job_title_Research Scientist', 0.0),\n",
       " ('job_title_Data Engineer company_size_L', 63.85110445562805),\n",
       " ('job_title_Data Engineer company_size_M', 44.51491214394103),\n",
       " ('job_title_Data Manager^2', -3.7514057436014547),\n",
       " ('job_title_Data Manager job_title_Data Science Manager', 0.0),\n",
       " ('job_title_Data Manager job_title_Data Scientist', 0.0),\n",
       " ('job_title_Data Manager job_title_ML Engineer', 0.0),\n",
       " ('job_title_Data Manager job_title_Machine Learning Engineer', 0.0),\n",
       " ('job_title_Data Manager job_title_Research Engineer', 0.0),\n",
       " ('job_title_Data Manager job_title_Research Scientist', 0.0),\n",
       " ('job_title_Data Manager company_size_L', 0.0),\n",
       " ('job_title_Data Manager company_size_M', -3.7514057435968584),\n",
       " ('job_title_Data Science Manager^2', -14.352122947233381),\n",
       " ('job_title_Data Science Manager job_title_Data Scientist', 0.0),\n",
       " ('job_title_Data Science Manager job_title_ML Engineer', 0.0),\n",
       " ('job_title_Data Science Manager job_title_Machine Learning Engineer', 0.0),\n",
       " ('job_title_Data Science Manager job_title_Research Engineer', 0.0),\n",
       " ('job_title_Data Science Manager job_title_Research Scientist', 0.0),\n",
       " ('job_title_Data Science Manager company_size_L', -16.069603950010393),\n",
       " ('job_title_Data Science Manager company_size_M', 2.046319511685235),\n",
       " ('job_title_Data Scientist^2', -72.04399060437187),\n",
       " ('job_title_Data Scientist job_title_ML Engineer', 0.0),\n",
       " ('job_title_Data Scientist job_title_Machine Learning Engineer', 0.0),\n",
       " ('job_title_Data Scientist job_title_Research Engineer', 0.0),\n",
       " ('job_title_Data Scientist job_title_Research Scientist', 0.0),\n",
       " ('job_title_Data Scientist company_size_L', -46.62230707245934),\n",
       " ('job_title_Data Scientist company_size_M', -47.62602717532939),\n",
       " ('job_title_ML Engineer^2', -9.911489418347387),\n",
       " ('job_title_ML Engineer job_title_Machine Learning Engineer', 0.0),\n",
       " ('job_title_ML Engineer job_title_Research Engineer', 0.0),\n",
       " ('job_title_ML Engineer job_title_Research Scientist', 0.0),\n",
       " ('job_title_ML Engineer company_size_L', 1.7856343061187996),\n",
       " ('job_title_ML Engineer company_size_M', -11.491922832244672),\n",
       " ('job_title_Machine Learning Engineer^2', 63.50763632349115),\n",
       " ('job_title_Machine Learning Engineer job_title_Research Engineer', 0.0),\n",
       " ('job_title_Machine Learning Engineer job_title_Research Scientist', 0.0),\n",
       " ('job_title_Machine Learning Engineer company_size_L', 24.94068185314442),\n",
       " ('job_title_Machine Learning Engineer company_size_M', 30.86822861694236),\n",
       " ('job_title_Research Engineer^2', 15.150291187994869),\n",
       " ('job_title_Research Engineer job_title_Research Scientist', 0.0),\n",
       " ('job_title_Research Engineer company_size_L', 0.0),\n",
       " ('job_title_Research Engineer company_size_M', 15.150291187502551),\n",
       " ('job_title_Research Scientist^2', 39.995054468084405),\n",
       " ('job_title_Research Scientist company_size_L', 22.392879898469566),\n",
       " ('job_title_Research Scientist company_size_M', 14.381696718677484),\n",
       " ('company_size_L^2', 79.92691395009415),\n",
       " ('company_size_L company_size_M', 0.0),\n",
       " ('company_size_M^2', -44.42187790782132)]"
      ]
     },
     "execution_count": 52,
     "metadata": {},
     "output_type": "execute_result"
    }
   ],
   "source": [
    "list(zip(feat_names, ((10**model.coef_) - 1)*100))"
   ]
  },
  {
   "cell_type": "code",
   "execution_count": 53,
   "id": "99aa5c1e",
   "metadata": {},
   "outputs": [],
   "source": [
    "X_test_valid_transf = transformer.transform(X_test_valid)\n",
    "y_pred = model.predict(X_test_valid_transf)"
   ]
  },
  {
   "cell_type": "code",
   "execution_count": 54,
   "id": "1eddce15",
   "metadata": {},
   "outputs": [
    {
     "data": {
      "text/plain": [
       "0.13844330209644207"
      ]
     },
     "execution_count": 54,
     "metadata": {},
     "output_type": "execute_result"
    }
   ],
   "source": [
    "RMSE = math.sqrt(mean_squared_error(y_test_valid, y_pred))\n",
    "RMSE"
   ]
  },
  {
   "cell_type": "code",
   "execution_count": 55,
   "id": "c2ef76b4",
   "metadata": {},
   "outputs": [
    {
     "data": {
      "text/plain": [
       "Series([], Name: log_salary, dtype: float64)"
      ]
     },
     "execution_count": 55,
     "metadata": {},
     "output_type": "execute_result"
    }
   ],
   "source": [
    "aux = y_pred - y_test_valid\n",
    "aux[aux > 1e6]"
   ]
  },
  {
   "cell_type": "code",
   "execution_count": null,
   "id": "8576f216",
   "metadata": {},
   "outputs": [],
   "source": []
  },
  {
   "cell_type": "code",
   "execution_count": 56,
   "id": "e5d714e1",
   "metadata": {},
   "outputs": [
    {
     "data": {
      "text/plain": [
       "<matplotlib.collections.PathCollection at 0x22966703160>"
      ]
     },
     "execution_count": 56,
     "metadata": {},
     "output_type": "execute_result"
    },
    {
     "data": {
      "image/png": "[encoded data removed]",
      "text/plain": [
       "<Figure size 432x288 with 1 Axes>"
      ]
     },
     "metadata": {
      "needs_background": "light"
     },
     "output_type": "display_data"
    }
   ],
   "source": [
    "plt.scatter(y_test_valid, y_pred, alpha=0.3)"
   ]
  },
  {
   "cell_type": "code",
   "execution_count": 57,
   "id": "bf11230e",
   "metadata": {},
   "outputs": [
    {
     "data": {
      "text/plain": [
       "Text(0, 0.5, 'Erro [$]')"
      ]
     },
     "execution_count": 57,
     "metadata": {},
     "output_type": "execute_result"
    },
    {
     "data": {
      "image/png": "[encoded data removed]",
      "text/plain": [
       "<Figure size 432x288 with 1 Axes>"
      ]
     },
     "metadata": {
      "needs_background": "light"
     },
     "output_type": "display_data"
    }
   ],
   "source": [
    "erro = y_pred - y_test_valid\n",
    "\n",
    "plt.scatter(y_test_valid, erro)\n",
    "plt.xlabel('salario')\n",
    "plt.ylabel('Erro [$]')"
   ]
  },
  {
   "cell_type": "code",
   "execution_count": 58,
   "id": "31a1ad28",
   "metadata": {},
   "outputs": [],
   "source": [
    "erro_percentual = (10**erro) - 1"
   ]
  },
  {
   "cell_type": "code",
   "execution_count": 59,
   "id": "fe98430b",
   "metadata": {},
   "outputs": [
    {
     "data": {
      "text/plain": [
       "Text(0, 0.5, 'Erro [%]')"
      ]
     },
     "execution_count": 59,
     "metadata": {},
     "output_type": "execute_result"
    },
    {
     "data": {
      "image/png": "[encoded data removed]",
      "text/plain": [
       "<Figure size 432x288 with 1 Axes>"
      ]
     },
     "metadata": {
      "needs_background": "light"
     },
     "output_type": "display_data"
    }
   ],
   "source": [
    "plt.scatter(y_test_valid, erro_percentual)\n",
    "plt.xlabel('salario')\n",
    "plt.ylabel('Erro [%]')"
   ]
  },
  {
   "cell_type": "code",
   "execution_count": 60,
   "id": "605b3591",
   "metadata": {},
   "outputs": [
    {
     "data": {
      "text/plain": [
       "0.13929403736347398"
      ]
     },
     "execution_count": 60,
     "metadata": {},
     "output_type": "execute_result"
    }
   ],
   "source": [
    "from sklearn.ensemble import RandomForestRegressor\n",
    "\n",
    "model = RandomForestRegressor()\n",
    "model.fit(X_train_valid, y_train_valid)\n",
    "y_pred = model.predict(X_test_valid)\n",
    "RMSE = math.sqrt(mean_squared_error(y_test_valid, y_pred))\n",
    "RMSE"
   ]
  },
  {
   "cell_type": "code",
   "execution_count": null,
   "id": "7bbd1ec6",
   "metadata": {},
   "outputs": [],
   "source": []
  },
  {
   "cell_type": "code",
   "execution_count": null,
   "id": "056a65bb",
   "metadata": {},
   "outputs": [],
   "source": []
  }
 ],
 "metadata": {
  "kernelspec": {
   "display_name": "Python 3 (ipykernel)",
   "language": "python",
   "name": "python3"
  },
  "language_info": {
   "codemirror_mode": {
    "name": "ipython",
    "version": 3
   },
   "file_extension": ".py",
   "mimetype": "text/x-python",
   "name": "python",
   "nbconvert_exporter": "python",
   "pygments_lexer": "ipython3",
   "version": "3.9.12"
  }
 },
 "nbformat": 4,
 "nbformat_minor": 5
}
